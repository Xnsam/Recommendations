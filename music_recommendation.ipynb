{
  "nbformat": 4,
  "nbformat_minor": 0,
  "metadata": {
    "colab": {
      "name": "music_recommendation.ipynb",
      "version": "0.3.2",
      "provenance": [],
      "toc_visible": true
    },
    "kernelspec": {
      "name": "python3",
      "display_name": "Python 3"
    },
    "accelerator": "GPU"
  },
  "cells": [
    {
      "cell_type": "markdown",
      "metadata": {
        "id": "wqMNEE3TwwXe",
        "colab_type": "text"
      },
      "source": [
        "# Set up"
      ]
    },
    {
      "cell_type": "markdown",
      "metadata": {
        "id": "r9NMS3NEyJca",
        "colab_type": "text"
      },
      "source": [
        "Dataset : https://www.dtic.upf.edu/~ocelma/MusicRecommendationDataset/lastfm-360K.html\n",
        "\n",
        "\n",
        "\n",
        "credits : https://www.last.fm/\n"
      ]
    },
    {
      "cell_type": "code",
      "metadata": {
        "id": "LfUn2DurrwdA",
        "colab_type": "code",
        "outputId": "31307e39-29a8-40ad-e87f-555ee1069beb",
        "colab": {
          "base_uri": "https://localhost:8080/",
          "height": 204
        }
      },
      "source": [
        "!wget http://mtg.upf.edu/static/datasets/last.fm/lastfm-dataset-360K.tar.gz"
      ],
      "execution_count": 1,
      "outputs": [
        {
          "output_type": "stream",
          "text": [
            "--2019-05-28 08:54:01--  http://mtg.upf.edu/static/datasets/last.fm/lastfm-dataset-360K.tar.gz\n",
            "Resolving mtg.upf.edu (mtg.upf.edu)... 84.89.139.55\n",
            "Connecting to mtg.upf.edu (mtg.upf.edu)|84.89.139.55|:80... connected.\n",
            "HTTP request sent, awaiting response... 200 OK\n",
            "Length: 569202935 (543M) [application/x-gzip]\n",
            "Saving to: ‘lastfm-dataset-360K.tar.gz’\n",
            "\n",
            "lastfm-dataset-360K 100%[===================>] 542.83M   732KB/s    in 29m 7s  \n",
            "\n",
            "2019-05-28 09:23:09 (318 KB/s) - ‘lastfm-dataset-360K.tar.gz’ saved [569202935/569202935]\n",
            "\n"
          ],
          "name": "stdout"
        }
      ]
    },
    {
      "cell_type": "code",
      "metadata": {
        "id": "84uWPlTsw106",
        "colab_type": "code",
        "colab": {}
      },
      "source": [
        "!mkdir data\n",
        "!tar -xf lastfm-dataset-360K.tar.gz -C data"
      ],
      "execution_count": 0,
      "outputs": []
    },
    {
      "cell_type": "code",
      "metadata": {
        "id": "sujsmnnHyvf5",
        "colab_type": "code",
        "colab": {}
      },
      "source": [
        "user_plays_path = 'data/lastfm-dataset-360K/usersha1-artmbid-artname-plays.tsv'\n",
        "user_profile_path = 'data/lastfm-dataset-360K/usersha1-profile.tsv'"
      ],
      "execution_count": 0,
      "outputs": []
    },
    {
      "cell_type": "code",
      "metadata": {
        "id": "G2_unmyrzVG0",
        "colab_type": "code",
        "colab": {}
      },
      "source": [
        "import pandas as pd"
      ],
      "execution_count": 0,
      "outputs": []
    },
    {
      "cell_type": "code",
      "metadata": {
        "id": "1WNMWybxzXP2",
        "colab_type": "code",
        "colab": {}
      },
      "source": [
        "play_df = pd.read_csv(user_plays_path, sep=\"\\t\", header=None)\n",
        "user_df = pd.read_csv(user_profile_path, sep=\"\\t\", header=None)"
      ],
      "execution_count": 0,
      "outputs": []
    },
    {
      "cell_type": "code",
      "metadata": {
        "id": "gZ-pmaR-zSit",
        "colab_type": "code",
        "colab": {}
      },
      "source": [
        "play_df.columns = ['user_id', 'artist_id', 'artist_name', 'played_times']"
      ],
      "execution_count": 0,
      "outputs": []
    },
    {
      "cell_type": "code",
      "metadata": {
        "id": "VQymHDAqzkIq",
        "colab_type": "code",
        "outputId": "434d1aac-4bb0-4cd1-a69c-12a7bdca5bb0",
        "colab": {
          "base_uri": "https://localhost:8080/",
          "height": 204
        }
      },
      "source": [
        "play_df.head()"
      ],
      "execution_count": 13,
      "outputs": [
        {
          "output_type": "execute_result",
          "data": {
            "text/html": [
              "<div>\n",
              "<style scoped>\n",
              "    .dataframe tbody tr th:only-of-type {\n",
              "        vertical-align: middle;\n",
              "    }\n",
              "\n",
              "    .dataframe tbody tr th {\n",
              "        vertical-align: top;\n",
              "    }\n",
              "\n",
              "    .dataframe thead th {\n",
              "        text-align: right;\n",
              "    }\n",
              "</style>\n",
              "<table border=\"1\" class=\"dataframe\">\n",
              "  <thead>\n",
              "    <tr style=\"text-align: right;\">\n",
              "      <th></th>\n",
              "      <th>user_id</th>\n",
              "      <th>artist_id</th>\n",
              "      <th>artist_name</th>\n",
              "      <th>played_times</th>\n",
              "    </tr>\n",
              "  </thead>\n",
              "  <tbody>\n",
              "    <tr>\n",
              "      <th>0</th>\n",
              "      <td>00000c289a1829a808ac09c00daf10bc3c4e223b</td>\n",
              "      <td>3bd73256-3905-4f3a-97e2-8b341527f805</td>\n",
              "      <td>betty blowtorch</td>\n",
              "      <td>2137</td>\n",
              "    </tr>\n",
              "    <tr>\n",
              "      <th>1</th>\n",
              "      <td>00000c289a1829a808ac09c00daf10bc3c4e223b</td>\n",
              "      <td>f2fb0ff0-5679-42ec-a55c-15109ce6e320</td>\n",
              "      <td>die Ärzte</td>\n",
              "      <td>1099</td>\n",
              "    </tr>\n",
              "    <tr>\n",
              "      <th>2</th>\n",
              "      <td>00000c289a1829a808ac09c00daf10bc3c4e223b</td>\n",
              "      <td>b3ae82c2-e60b-4551-a76d-6620f1b456aa</td>\n",
              "      <td>melissa etheridge</td>\n",
              "      <td>897</td>\n",
              "    </tr>\n",
              "    <tr>\n",
              "      <th>3</th>\n",
              "      <td>00000c289a1829a808ac09c00daf10bc3c4e223b</td>\n",
              "      <td>3d6bbeb7-f90e-4d10-b440-e153c0d10b53</td>\n",
              "      <td>elvenking</td>\n",
              "      <td>717</td>\n",
              "    </tr>\n",
              "    <tr>\n",
              "      <th>4</th>\n",
              "      <td>00000c289a1829a808ac09c00daf10bc3c4e223b</td>\n",
              "      <td>bbd2ffd7-17f4-4506-8572-c1ea58c3f9a8</td>\n",
              "      <td>juliette &amp; the licks</td>\n",
              "      <td>706</td>\n",
              "    </tr>\n",
              "  </tbody>\n",
              "</table>\n",
              "</div>"
            ],
            "text/plain": [
              "                                    user_id  ... played_times\n",
              "0  00000c289a1829a808ac09c00daf10bc3c4e223b  ...         2137\n",
              "1  00000c289a1829a808ac09c00daf10bc3c4e223b  ...         1099\n",
              "2  00000c289a1829a808ac09c00daf10bc3c4e223b  ...          897\n",
              "3  00000c289a1829a808ac09c00daf10bc3c4e223b  ...          717\n",
              "4  00000c289a1829a808ac09c00daf10bc3c4e223b  ...          706\n",
              "\n",
              "[5 rows x 4 columns]"
            ]
          },
          "metadata": {
            "tags": []
          },
          "execution_count": 13
        }
      ]
    },
    {
      "cell_type": "code",
      "metadata": {
        "id": "j_tHrUpNzdye",
        "colab_type": "code",
        "colab": {}
      },
      "source": [
        "user_df.columns = ['user_id', 'gender', 'age', 'country', 'signup_date']"
      ],
      "execution_count": 0,
      "outputs": []
    },
    {
      "cell_type": "code",
      "metadata": {
        "id": "XkNvW0Et0C0s",
        "colab_type": "code",
        "outputId": "dc69482a-1982-4d89-8271-c858c44a6d48",
        "colab": {
          "base_uri": "https://localhost:8080/",
          "height": 204
        }
      },
      "source": [
        "user_df.head()"
      ],
      "execution_count": 15,
      "outputs": [
        {
          "output_type": "execute_result",
          "data": {
            "text/html": [
              "<div>\n",
              "<style scoped>\n",
              "    .dataframe tbody tr th:only-of-type {\n",
              "        vertical-align: middle;\n",
              "    }\n",
              "\n",
              "    .dataframe tbody tr th {\n",
              "        vertical-align: top;\n",
              "    }\n",
              "\n",
              "    .dataframe thead th {\n",
              "        text-align: right;\n",
              "    }\n",
              "</style>\n",
              "<table border=\"1\" class=\"dataframe\">\n",
              "  <thead>\n",
              "    <tr style=\"text-align: right;\">\n",
              "      <th></th>\n",
              "      <th>user_id</th>\n",
              "      <th>gender</th>\n",
              "      <th>age</th>\n",
              "      <th>country</th>\n",
              "      <th>signup_date</th>\n",
              "    </tr>\n",
              "  </thead>\n",
              "  <tbody>\n",
              "    <tr>\n",
              "      <th>0</th>\n",
              "      <td>00000c289a1829a808ac09c00daf10bc3c4e223b</td>\n",
              "      <td>f</td>\n",
              "      <td>22.0</td>\n",
              "      <td>Germany</td>\n",
              "      <td>Feb 1, 2007</td>\n",
              "    </tr>\n",
              "    <tr>\n",
              "      <th>1</th>\n",
              "      <td>00001411dc427966b17297bf4d69e7e193135d89</td>\n",
              "      <td>f</td>\n",
              "      <td>NaN</td>\n",
              "      <td>Canada</td>\n",
              "      <td>Dec 4, 2007</td>\n",
              "    </tr>\n",
              "    <tr>\n",
              "      <th>2</th>\n",
              "      <td>00004d2ac9316e22dc007ab2243d6fcb239e707d</td>\n",
              "      <td>NaN</td>\n",
              "      <td>NaN</td>\n",
              "      <td>Germany</td>\n",
              "      <td>Sep 1, 2006</td>\n",
              "    </tr>\n",
              "    <tr>\n",
              "      <th>3</th>\n",
              "      <td>000063d3fe1cf2ba248b9e3c3f0334845a27a6bf</td>\n",
              "      <td>m</td>\n",
              "      <td>19.0</td>\n",
              "      <td>Mexico</td>\n",
              "      <td>Apr 28, 2008</td>\n",
              "    </tr>\n",
              "    <tr>\n",
              "      <th>4</th>\n",
              "      <td>00007a47085b9aab8af55f52ec8846ac479ac4fe</td>\n",
              "      <td>m</td>\n",
              "      <td>28.0</td>\n",
              "      <td>United States</td>\n",
              "      <td>Jan 27, 2006</td>\n",
              "    </tr>\n",
              "  </tbody>\n",
              "</table>\n",
              "</div>"
            ],
            "text/plain": [
              "                                    user_id gender  ...        country   signup_date\n",
              "0  00000c289a1829a808ac09c00daf10bc3c4e223b      f  ...        Germany   Feb 1, 2007\n",
              "1  00001411dc427966b17297bf4d69e7e193135d89      f  ...         Canada   Dec 4, 2007\n",
              "2  00004d2ac9316e22dc007ab2243d6fcb239e707d    NaN  ...        Germany   Sep 1, 2006\n",
              "3  000063d3fe1cf2ba248b9e3c3f0334845a27a6bf      m  ...         Mexico  Apr 28, 2008\n",
              "4  00007a47085b9aab8af55f52ec8846ac479ac4fe      m  ...  United States  Jan 27, 2006\n",
              "\n",
              "[5 rows x 5 columns]"
            ]
          },
          "metadata": {
            "tags": []
          },
          "execution_count": 15
        }
      ]
    },
    {
      "cell_type": "code",
      "metadata": {
        "id": "I_aZ0zUx0NmM",
        "colab_type": "code",
        "colab": {
          "base_uri": "https://localhost:8080/",
          "height": 272
        },
        "outputId": "353ddec9-cc05-4a4b-b393-be3735f554b2"
      },
      "source": [
        "combined_df = pd.merge(user_df, play_df)\n",
        "combined_df.head()"
      ],
      "execution_count": 16,
      "outputs": [
        {
          "output_type": "execute_result",
          "data": {
            "text/html": [
              "<div>\n",
              "<style scoped>\n",
              "    .dataframe tbody tr th:only-of-type {\n",
              "        vertical-align: middle;\n",
              "    }\n",
              "\n",
              "    .dataframe tbody tr th {\n",
              "        vertical-align: top;\n",
              "    }\n",
              "\n",
              "    .dataframe thead th {\n",
              "        text-align: right;\n",
              "    }\n",
              "</style>\n",
              "<table border=\"1\" class=\"dataframe\">\n",
              "  <thead>\n",
              "    <tr style=\"text-align: right;\">\n",
              "      <th></th>\n",
              "      <th>user_id</th>\n",
              "      <th>gender</th>\n",
              "      <th>age</th>\n",
              "      <th>country</th>\n",
              "      <th>signup_date</th>\n",
              "      <th>artist_id</th>\n",
              "      <th>artist_name</th>\n",
              "      <th>played_times</th>\n",
              "    </tr>\n",
              "  </thead>\n",
              "  <tbody>\n",
              "    <tr>\n",
              "      <th>0</th>\n",
              "      <td>00000c289a1829a808ac09c00daf10bc3c4e223b</td>\n",
              "      <td>f</td>\n",
              "      <td>22.0</td>\n",
              "      <td>Germany</td>\n",
              "      <td>Feb 1, 2007</td>\n",
              "      <td>3bd73256-3905-4f3a-97e2-8b341527f805</td>\n",
              "      <td>betty blowtorch</td>\n",
              "      <td>2137</td>\n",
              "    </tr>\n",
              "    <tr>\n",
              "      <th>1</th>\n",
              "      <td>00000c289a1829a808ac09c00daf10bc3c4e223b</td>\n",
              "      <td>f</td>\n",
              "      <td>22.0</td>\n",
              "      <td>Germany</td>\n",
              "      <td>Feb 1, 2007</td>\n",
              "      <td>f2fb0ff0-5679-42ec-a55c-15109ce6e320</td>\n",
              "      <td>die Ärzte</td>\n",
              "      <td>1099</td>\n",
              "    </tr>\n",
              "    <tr>\n",
              "      <th>2</th>\n",
              "      <td>00000c289a1829a808ac09c00daf10bc3c4e223b</td>\n",
              "      <td>f</td>\n",
              "      <td>22.0</td>\n",
              "      <td>Germany</td>\n",
              "      <td>Feb 1, 2007</td>\n",
              "      <td>b3ae82c2-e60b-4551-a76d-6620f1b456aa</td>\n",
              "      <td>melissa etheridge</td>\n",
              "      <td>897</td>\n",
              "    </tr>\n",
              "    <tr>\n",
              "      <th>3</th>\n",
              "      <td>00000c289a1829a808ac09c00daf10bc3c4e223b</td>\n",
              "      <td>f</td>\n",
              "      <td>22.0</td>\n",
              "      <td>Germany</td>\n",
              "      <td>Feb 1, 2007</td>\n",
              "      <td>3d6bbeb7-f90e-4d10-b440-e153c0d10b53</td>\n",
              "      <td>elvenking</td>\n",
              "      <td>717</td>\n",
              "    </tr>\n",
              "    <tr>\n",
              "      <th>4</th>\n",
              "      <td>00000c289a1829a808ac09c00daf10bc3c4e223b</td>\n",
              "      <td>f</td>\n",
              "      <td>22.0</td>\n",
              "      <td>Germany</td>\n",
              "      <td>Feb 1, 2007</td>\n",
              "      <td>bbd2ffd7-17f4-4506-8572-c1ea58c3f9a8</td>\n",
              "      <td>juliette &amp; the licks</td>\n",
              "      <td>706</td>\n",
              "    </tr>\n",
              "  </tbody>\n",
              "</table>\n",
              "</div>"
            ],
            "text/plain": [
              "                                    user_id  ... played_times\n",
              "0  00000c289a1829a808ac09c00daf10bc3c4e223b  ...         2137\n",
              "1  00000c289a1829a808ac09c00daf10bc3c4e223b  ...         1099\n",
              "2  00000c289a1829a808ac09c00daf10bc3c4e223b  ...          897\n",
              "3  00000c289a1829a808ac09c00daf10bc3c4e223b  ...          717\n",
              "4  00000c289a1829a808ac09c00daf10bc3c4e223b  ...          706\n",
              "\n",
              "[5 rows x 8 columns]"
            ]
          },
          "metadata": {
            "tags": []
          },
          "execution_count": 16
        }
      ]
    },
    {
      "cell_type": "code",
      "metadata": {
        "id": "rdB0cWI1yJ64",
        "colab_type": "code",
        "colab": {
          "base_uri": "https://localhost:8080/",
          "height": 170
        },
        "outputId": "50aeb78d-6362-4370-e206-aa6a68ed3a7f"
      },
      "source": [
        "tmp = combined_df[combined_df.notnull()]\n",
        "tmp.count()"
      ],
      "execution_count": 24,
      "outputs": [
        {
          "output_type": "execute_result",
          "data": {
            "text/plain": [
              "user_id         17535569\n",
              "gender          15948106\n",
              "age             13896298\n",
              "country         17535569\n",
              "signup_date     17535569\n",
              "artist_id       17309433\n",
              "artist_name     17535365\n",
              "played_times    17535569\n",
              "dtype: int64"
            ]
          },
          "metadata": {
            "tags": []
          },
          "execution_count": 24
        }
      ]
    },
    {
      "cell_type": "code",
      "metadata": {
        "id": "5AEGL54e0BSs",
        "colab_type": "code",
        "colab": {}
      },
      "source": [
        "import seaborn as sns\n",
        "sns.set(style=\"darkgrid\")"
      ],
      "execution_count": 0,
      "outputs": []
    },
    {
      "cell_type": "code",
      "metadata": {
        "id": "I3wqwjK32ctc",
        "colab_type": "code",
        "colab": {}
      },
      "source": [
        "a = tmp.count()"
      ],
      "execution_count": 0,
      "outputs": []
    },
    {
      "cell_type": "code",
      "metadata": {
        "id": "82oXiBJi2fOX",
        "colab_type": "code",
        "colab": {}
      },
      "source": [
        "names, counts = list(dict(a).keys()), list(dict(a).values())"
      ],
      "execution_count": 0,
      "outputs": []
    },
    {
      "cell_type": "code",
      "metadata": {
        "id": "7tBHgBt30FeU",
        "colab_type": "code",
        "colab": {
          "base_uri": "https://localhost:8080/",
          "height": 289
        },
        "outputId": "8663f8f7-585b-427d-99d9-479418b97de8"
      },
      "source": [
        "names, counts"
      ],
      "execution_count": 38,
      "outputs": [
        {
          "output_type": "execute_result",
          "data": {
            "text/plain": [
              "(['user_id',\n",
              "  'gender',\n",
              "  'age',\n",
              "  'country',\n",
              "  'signup_date',\n",
              "  'artist_id',\n",
              "  'artist_name',\n",
              "  'played_times'],\n",
              " [17535569,\n",
              "  15948106,\n",
              "  13896298,\n",
              "  17535569,\n",
              "  17535569,\n",
              "  17309433,\n",
              "  17535365,\n",
              "  17535569])"
            ]
          },
          "metadata": {
            "tags": []
          },
          "execution_count": 38
        }
      ]
    },
    {
      "cell_type": "code",
      "metadata": {
        "id": "1THWlLjM3LXC",
        "colab_type": "code",
        "colab": {
          "base_uri": "https://localhost:8080/",
          "height": 304
        },
        "outputId": "ef708d74-2774-40ac-b261-0e104e92a343"
      },
      "source": [
        "sns.barplot(counts, names, saturation=0.5, palette='husl')"
      ],
      "execution_count": 42,
      "outputs": [
        {
          "output_type": "execute_result",
          "data": {
            "text/plain": [
              "<matplotlib.axes._subplots.AxesSubplot at 0x7fe6771b1da0>"
            ]
          },
          "metadata": {
            "tags": []
          },
          "execution_count": 42
        },
        {
          "output_type": "display_data",
          "data": {
            "image/png": "[encoded data removed]",
            "text/plain": [
              "<Figure size 432x288 with 1 Axes>"
            ]
          },
          "metadata": {
            "tags": []
          }
        }
      ]
    },
    {
      "cell_type": "code",
      "metadata": {
        "id": "prj3RBy34rAO",
        "colab_type": "code",
        "colab": {
          "base_uri": "https://localhost:8080/",
          "height": 292
        },
        "outputId": "4b59b21b-1593-4b06-b295-74717be7c7de"
      },
      "source": [
        "corrmat = combined_df.corr(method='pearson')\n",
        "top_corr_features = corrmat.index\n",
        "sns.heatmap(combined_df[top_corr_features].corr(method='pearson'), annot=True, cmap=\"RdYlGn\")"
      ],
      "execution_count": 49,
      "outputs": [
        {
          "output_type": "execute_result",
          "data": {
            "text/plain": [
              "<matplotlib.axes._subplots.AxesSubplot at 0x7fe677074390>"
            ]
          },
          "metadata": {
            "tags": []
          },
          "execution_count": 49
        },
        {
          "output_type": "display_data",
          "data": {
            "image/png": "[encoded data removed]",
            "text/plain": [
              "<Figure size 432x288 with 2 Axes>"
            ]
          },
          "metadata": {
            "tags": []
          }
        }
      ]
    },
    {
      "cell_type": "code",
      "metadata": {
        "id": "S0d5x2CM53dW",
        "colab_type": "code",
        "colab": {
          "base_uri": "https://localhost:8080/",
          "height": 34
        },
        "outputId": "741b2cba-55f2-4569-a2e5-c250051dca1a"
      },
      "source": [
        "top_corr_features"
      ],
      "execution_count": 50,
      "outputs": [
        {
          "output_type": "execute_result",
          "data": {
            "text/plain": [
              "Index(['age', 'played_times'], dtype='object')"
            ]
          },
          "metadata": {
            "tags": []
          },
          "execution_count": 50
        }
      ]
    },
    {
      "cell_type": "code",
      "metadata": {
        "id": "tPbO3s3m3YqE",
        "colab_type": "code",
        "colab": {
          "base_uri": "https://localhost:8080/",
          "height": 71
        },
        "outputId": "badb36d6-5635-4911-ac25-54217cd519e2"
      },
      "source": [
        "data = combined_df.drop(['age', 'gender', 'signup_date', 'artist_id'], axis=1).as_matrix()"
      ],
      "execution_count": 52,
      "outputs": [
        {
          "output_type": "stream",
          "text": [
            "/usr/local/lib/python3.6/dist-packages/ipykernel_launcher.py:1: FutureWarning: Method .as_matrix will be removed in a future version. Use .values instead.\n",
            "  \"\"\"Entry point for launching an IPython kernel.\n"
          ],
          "name": "stderr"
        }
      ]
    },
    {
      "cell_type": "code",
      "metadata": {
        "id": "4oXGdLi_4d7U",
        "colab_type": "code",
        "colab": {
          "base_uri": "https://localhost:8080/",
          "height": 34
        },
        "outputId": "a338b1d7-4c85-4184-f360-0e4ed10a9bd2"
      },
      "source": [
        "data.shape"
      ],
      "execution_count": 53,
      "outputs": [
        {
          "output_type": "execute_result",
          "data": {
            "text/plain": [
              "(17535569, 4)"
            ]
          },
          "metadata": {
            "tags": []
          },
          "execution_count": 53
        }
      ]
    },
    {
      "cell_type": "code",
      "metadata": {
        "id": "AYFmm2GH61Ct",
        "colab_type": "code",
        "colab": {}
      },
      "source": [
        "!pip install --quiet gensim"
      ],
      "execution_count": 0,
      "outputs": []
    },
    {
      "cell_type": "code",
      "metadata": {
        "id": "UBBC9yGi6299",
        "colab_type": "code",
        "colab": {}
      },
      "source": [
        "from gensim.models import Word2Vec"
      ],
      "execution_count": 0,
      "outputs": []
    },
    {
      "cell_type": "markdown",
      "metadata": {
        "id": "dqGmRThO78PU",
        "colab_type": "text"
      },
      "source": [
        "Gensim reference: https://radimrehurek.com/gensim/models/word2vec"
      ]
    },
    {
      "cell_type": "code",
      "metadata": {
        "id": "DBrsP78a8dMR",
        "colab_type": "code",
        "colab": {}
      },
      "source": [
        "training_data = [list([str(j) for j in i]) for i in data]"
      ],
      "execution_count": 0,
      "outputs": []
    },
    {
      "cell_type": "code",
      "metadata": {
        "id": "4P-uURD68uQF",
        "colab_type": "code",
        "colab": {
          "base_uri": "https://localhost:8080/",
          "height": 85
        },
        "outputId": "4ef4556d-431e-46e5-cdec-4a8aa5a09251"
      },
      "source": [
        "training_data[0]"
      ],
      "execution_count": 67,
      "outputs": [
        {
          "output_type": "execute_result",
          "data": {
            "text/plain": [
              "['00000c289a1829a808ac09c00daf10bc3c4e223b',\n",
              " 'Germany',\n",
              " 'betty blowtorch',\n",
              " '2137']"
            ]
          },
          "metadata": {
            "tags": []
          },
          "execution_count": 67
        }
      ]
    },
    {
      "cell_type": "code",
      "metadata": {
        "id": "RUb1OdOF7iHT",
        "colab_type": "code",
        "colab": {}
      },
      "source": [
        "model = Word2Vec(training_data, window=data.shape[1], min_count=1, workers=4)"
      ],
      "execution_count": 0,
      "outputs": []
    },
    {
      "cell_type": "code",
      "metadata": {
        "id": "rjqMLhGw7u3T",
        "colab_type": "code",
        "colab": {
          "base_uri": "https://localhost:8080/",
          "height": 34
        },
        "outputId": "9912bcd5-3ce1-4cf5-fcf8-8f1312e55d59"
      },
      "source": [
        "model.train(training_data, total_examples=len(training_data)/2, epochs=10)"
      ],
      "execution_count": 70,
      "outputs": [
        {
          "output_type": "execute_result",
          "data": {
            "text/plain": [
              "(612743021, 701422760)"
            ]
          },
          "metadata": {
            "tags": []
          },
          "execution_count": 70
        }
      ]
    },
    {
      "cell_type": "code",
      "metadata": {
        "id": "telr5mp3_-Vb",
        "colab_type": "code",
        "colab": {
          "base_uri": "https://localhost:8080/",
          "height": 122
        },
        "outputId": "67e3b7d6-7fb5-4501-9422-4d59726d9727"
      },
      "source": [
        "model.wv.most_similar(training_data[0], topn=3)"
      ],
      "execution_count": 72,
      "outputs": [
        {
          "output_type": "stream",
          "text": [
            "/usr/local/lib/python3.6/dist-packages/gensim/matutils.py:737: FutureWarning: Conversion of the second argument of issubdtype from `int` to `np.signedinteger` is deprecated. In future, it will be treated as `np.int64 == np.dtype(int).type`.\n",
            "  if np.issubdtype(vec.dtype, np.int):\n"
          ],
          "name": "stderr"
        },
        {
          "output_type": "execute_result",
          "data": {
            "text/plain": [
              "[('bc4d6e71598df7ad0ab75d2041cf26047b58c69f', 0.7334753274917603),\n",
              " ('ff23ba0378aa02fdbaeade69dacb077b2af70f23', 0.730549693107605),\n",
              " ('e9dc5fe6bc7a3ccb1456060a84b01451bb74c71a', 0.7300025820732117)]"
            ]
          },
          "metadata": {
            "tags": []
          },
          "execution_count": 72
        }
      ]
    },
    {
      "cell_type": "code",
      "metadata": {
        "id": "m4z6s8mEG962",
        "colab_type": "code",
        "colab": {
          "base_uri": "https://localhost:8080/",
          "height": 85
        },
        "outputId": "5ed3a134-0ebc-4499-f83e-12418a3ee928"
      },
      "source": [
        "training_data[0]"
      ],
      "execution_count": 77,
      "outputs": [
        {
          "output_type": "execute_result",
          "data": {
            "text/plain": [
              "['00000c289a1829a808ac09c00daf10bc3c4e223b',\n",
              " 'Germany',\n",
              " 'betty blowtorch',\n",
              " '2137']"
            ]
          },
          "metadata": {
            "tags": []
          },
          "execution_count": 77
        }
      ]
    },
    {
      "cell_type": "code",
      "metadata": {
        "id": "sRhXmaewGpH8",
        "colab_type": "code",
        "colab": {}
      },
      "source": [
        "# test one\n",
        "t = set(combined_df[combined_df['user_id'].isin(['00000c289a1829a808ac09c00daf10bc3c4e223b'])]['artist_name'])"
      ],
      "execution_count": 0,
      "outputs": []
    },
    {
      "cell_type": "code",
      "metadata": {
        "id": "wXicuJEsIz9B",
        "colab_type": "code",
        "colab": {}
      },
      "source": [
        "# most similar prediction one\n",
        "p1 = set(combined_df[combined_df['user_id'].isin(['bc4d6e71598df7ad0ab75d2041cf26047b58c69f'])]['artist_name'])"
      ],
      "execution_count": 0,
      "outputs": []
    },
    {
      "cell_type": "code",
      "metadata": {
        "id": "Rj52u5GPHuUz",
        "colab_type": "code",
        "colab": {
          "base_uri": "https://localhost:8080/",
          "height": 34
        },
        "outputId": "1a355ce3-55ce-46a3-cef9-347fdc95936b"
      },
      "source": [
        "t.intersection(p1) # the user at training_data[0] is similar to the predicted user 1 having one artist in common"
      ],
      "execution_count": 87,
      "outputs": [
        {
          "output_type": "execute_result",
          "data": {
            "text/plain": [
              "{'die Ärzte'}"
            ]
          },
          "metadata": {
            "tags": []
          },
          "execution_count": 87
        }
      ]
    },
    {
      "cell_type": "code",
      "metadata": {
        "id": "VafQwqx9JgUn",
        "colab_type": "code",
        "colab": {}
      },
      "source": [
        "# most similar prediction two\n",
        "p2 = set(combined_df[combined_df['user_id'].isin(['ff23ba0378aa02fdbaeade69dacb077b2af70f23'])]['artist_name'])"
      ],
      "execution_count": 0,
      "outputs": []
    },
    {
      "cell_type": "code",
      "metadata": {
        "id": "Y6sIdMRNKS9M",
        "colab_type": "code",
        "colab": {
          "base_uri": "https://localhost:8080/",
          "height": 34
        },
        "outputId": "0fc9f5b5-9eaf-46c7-b24e-cb0772ff4eb8"
      },
      "source": [
        "t.intersection(p2) # the user at training_data[0] is similar to the predicted user 1 having 2 artists in common"
      ],
      "execution_count": 89,
      "outputs": [
        {
          "output_type": "execute_result",
          "data": {
            "text/plain": [
              "{'die Ärzte', 'red hot chili peppers'}"
            ]
          },
          "metadata": {
            "tags": []
          },
          "execution_count": 89
        }
      ]
    },
    {
      "cell_type": "code",
      "metadata": {
        "id": "tLD5IElFKWcl",
        "colab_type": "code",
        "colab": {}
      },
      "source": [
        "# most similar prediction three\n",
        "p3 = set(combined_df[combined_df['user_id'].isin(['e9dc5fe6bc7a3ccb1456060a84b01451bb74c71a'])]['artist_name'])"
      ],
      "execution_count": 0,
      "outputs": []
    },
    {
      "cell_type": "code",
      "metadata": {
        "id": "GxJx80z1KiC-",
        "colab_type": "code",
        "colab": {
          "base_uri": "https://localhost:8080/",
          "height": 34
        },
        "outputId": "b9d1eed9-c7e8-4288-99a9-6787867fa80e"
      },
      "source": [
        "t.intersection(p3) # the user at training_data[0] is similar to the predicted user 1 having 2 artists in common"
      ],
      "execution_count": 91,
      "outputs": [
        {
          "output_type": "execute_result",
          "data": {
            "text/plain": [
              "{'die Ärzte', 'the killers'}"
            ]
          },
          "metadata": {
            "tags": []
          },
          "execution_count": 91
        }
      ]
    },
    {
      "cell_type": "code",
      "metadata": {
        "id": "YTkJJLs3Ksqf",
        "colab_type": "code",
        "colab": {
          "base_uri": "https://localhost:8080/",
          "height": 34
        },
        "outputId": "64d601ee-02f3-4ada-86af-e80cb6a20532"
      },
      "source": [
        "# lets check a random user\n",
        "\n",
        "import numpy as np\n",
        "\n",
        "rand_num = np.random.randint(1, len(training_data))\n",
        "rand_num"
      ],
      "execution_count": 92,
      "outputs": [
        {
          "output_type": "execute_result",
          "data": {
            "text/plain": [
              "16489753"
            ]
          },
          "metadata": {
            "tags": []
          },
          "execution_count": 92
        }
      ]
    },
    {
      "cell_type": "code",
      "metadata": {
        "id": "I6I58oyrKnPm",
        "colab_type": "code",
        "colab": {
          "base_uri": "https://localhost:8080/",
          "height": 122
        },
        "outputId": "eca8b59b-3f47-459d-b248-997af382cda9"
      },
      "source": [
        "# prediction\n",
        "predictions = model.wv.most_similar(training_data[16489753], topn=3)\n",
        "predictions"
      ],
      "execution_count": 93,
      "outputs": [
        {
          "output_type": "stream",
          "text": [
            "/usr/local/lib/python3.6/dist-packages/gensim/matutils.py:737: FutureWarning: Conversion of the second argument of issubdtype from `int` to `np.signedinteger` is deprecated. In future, it will be treated as `np.int64 == np.dtype(int).type`.\n",
            "  if np.issubdtype(vec.dtype, np.int):\n"
          ],
          "name": "stderr"
        },
        {
          "output_type": "execute_result",
          "data": {
            "text/plain": [
              "[('f0a0b763fa735872431943eaafd437984dfe2340', 0.7196488976478577),\n",
              " ('eaa2a89a3c8f17d0fe6842a433ceb06d7889e31e', 0.7191567420959473),\n",
              " ('048f838379756e9254a41f08685128426d8a3af4', 0.7110034823417664)]"
            ]
          },
          "metadata": {
            "tags": []
          },
          "execution_count": 93
        }
      ]
    },
    {
      "cell_type": "code",
      "metadata": {
        "id": "xq8TVJLSLQiL",
        "colab_type": "code",
        "colab": {
          "base_uri": "https://localhost:8080/",
          "height": 34
        },
        "outputId": "d2c60931-c9d5-4c9f-976b-d47a9dc71e77"
      },
      "source": [
        "training_data[16489753]"
      ],
      "execution_count": 94,
      "outputs": [
        {
          "output_type": "execute_result",
          "data": {
            "text/plain": [
              "['f0bdf7e5df021f3ba51161ebae78e49a7fd9c075', 'Australia', 'bloc party', '523']"
            ]
          },
          "metadata": {
            "tags": []
          },
          "execution_count": 94
        }
      ]
    },
    {
      "cell_type": "code",
      "metadata": {
        "id": "sqixvnMXLI_b",
        "colab_type": "code",
        "colab": {}
      },
      "source": [
        "# test 2\n",
        "t2 = set(combined_df[combined_df['user_id'].isin(['f0bdf7e5df021f3ba51161ebae78e49a7fd9c075'])]['artist_name'])"
      ],
      "execution_count": 0,
      "outputs": []
    },
    {
      "cell_type": "code",
      "metadata": {
        "id": "bU60t2z7LViV",
        "colab_type": "code",
        "colab": {
          "base_uri": "https://localhost:8080/",
          "height": 68
        },
        "outputId": "016bb05f-adf1-4658-ce98-33df663b364c"
      },
      "source": [
        "for i in predictions:\n",
        "  p = set(combined_df[combined_df['user_id'].isin([i[0]])]['artist_name'])\n",
        "  print('{} - {} as common artists'.format(i[0], t.intersection(p)))"
      ],
      "execution_count": 97,
      "outputs": [
        {
          "output_type": "stream",
          "text": [
            "f0a0b763fa735872431943eaafd437984dfe2340 - {'red hot chili peppers', 'dropkick murphys'} as common artists\n",
            "eaa2a89a3c8f17d0fe6842a433ceb06d7889e31e - {'judas priest'} as common artists\n",
            "048f838379756e9254a41f08685128426d8a3af4 - set() as common artists\n"
          ],
          "name": "stdout"
        }
      ]
    },
    {
      "cell_type": "markdown",
      "metadata": {
        "id": "Vc4Q8odlMBv2",
        "colab_type": "text"
      },
      "source": [
        "third one has no common artist...then why was it similar to the given input? lets check"
      ]
    },
    {
      "cell_type": "code",
      "metadata": {
        "id": "kHzXfnZLL3D4",
        "colab_type": "code",
        "colab": {
          "base_uri": "https://localhost:8080/",
          "height": 289
        },
        "outputId": "92990be2-30c6-47af-d484-07a97f26312b"
      },
      "source": [
        "combined_df[combined_df['user_id'].isin(['048f838379756e9254a41f08685128426d8a3af4'])][:5]"
      ],
      "execution_count": 100,
      "outputs": [
        {
          "output_type": "execute_result",
          "data": {
            "text/html": [
              "<div>\n",
              "<style scoped>\n",
              "    .dataframe tbody tr th:only-of-type {\n",
              "        vertical-align: middle;\n",
              "    }\n",
              "\n",
              "    .dataframe tbody tr th {\n",
              "        vertical-align: top;\n",
              "    }\n",
              "\n",
              "    .dataframe thead th {\n",
              "        text-align: right;\n",
              "    }\n",
              "</style>\n",
              "<table border=\"1\" class=\"dataframe\">\n",
              "  <thead>\n",
              "    <tr style=\"text-align: right;\">\n",
              "      <th></th>\n",
              "      <th>user_id</th>\n",
              "      <th>gender</th>\n",
              "      <th>age</th>\n",
              "      <th>country</th>\n",
              "      <th>signup_date</th>\n",
              "      <th>artist_id</th>\n",
              "      <th>artist_name</th>\n",
              "      <th>played_times</th>\n",
              "    </tr>\n",
              "  </thead>\n",
              "  <tbody>\n",
              "    <tr>\n",
              "      <th>308180</th>\n",
              "      <td>048f838379756e9254a41f08685128426d8a3af4</td>\n",
              "      <td>m</td>\n",
              "      <td>23.0</td>\n",
              "      <td>Australia</td>\n",
              "      <td>Apr 16, 2007</td>\n",
              "      <td>66fc5bf8-daa4-4241-b378-9bc9077939d2</td>\n",
              "      <td>tool</td>\n",
              "      <td>343</td>\n",
              "    </tr>\n",
              "    <tr>\n",
              "      <th>308181</th>\n",
              "      <td>048f838379756e9254a41f08685128426d8a3af4</td>\n",
              "      <td>m</td>\n",
              "      <td>23.0</td>\n",
              "      <td>Australia</td>\n",
              "      <td>Apr 16, 2007</td>\n",
              "      <td>d9962a24-5dba-44c0-b19a-688b7495c375</td>\n",
              "      <td>cog</td>\n",
              "      <td>326</td>\n",
              "    </tr>\n",
              "    <tr>\n",
              "      <th>308182</th>\n",
              "      <td>048f838379756e9254a41f08685128426d8a3af4</td>\n",
              "      <td>m</td>\n",
              "      <td>23.0</td>\n",
              "      <td>Australia</td>\n",
              "      <td>Apr 16, 2007</td>\n",
              "      <td>1fb29fcd-28a1-4ace-b5f2-431d085ee9e1</td>\n",
              "      <td>the butterfly effect</td>\n",
              "      <td>320</td>\n",
              "    </tr>\n",
              "    <tr>\n",
              "      <th>308183</th>\n",
              "      <td>048f838379756e9254a41f08685128426d8a3af4</td>\n",
              "      <td>m</td>\n",
              "      <td>23.0</td>\n",
              "      <td>Australia</td>\n",
              "      <td>Apr 16, 2007</td>\n",
              "      <td>ee1ed7fa-26d6-4022-be87-74ca4adcb681</td>\n",
              "      <td>grinspoon</td>\n",
              "      <td>286</td>\n",
              "    </tr>\n",
              "    <tr>\n",
              "      <th>308184</th>\n",
              "      <td>048f838379756e9254a41f08685128426d8a3af4</td>\n",
              "      <td>m</td>\n",
              "      <td>23.0</td>\n",
              "      <td>Australia</td>\n",
              "      <td>Apr 16, 2007</td>\n",
              "      <td>9ee2638f-c3a3-4532-bc08-54d397241c2a</td>\n",
              "      <td>karnivool</td>\n",
              "      <td>254</td>\n",
              "    </tr>\n",
              "  </tbody>\n",
              "</table>\n",
              "</div>"
            ],
            "text/plain": [
              "                                         user_id  ... played_times\n",
              "308180  048f838379756e9254a41f08685128426d8a3af4  ...          343\n",
              "308181  048f838379756e9254a41f08685128426d8a3af4  ...          326\n",
              "308182  048f838379756e9254a41f08685128426d8a3af4  ...          320\n",
              "308183  048f838379756e9254a41f08685128426d8a3af4  ...          286\n",
              "308184  048f838379756e9254a41f08685128426d8a3af4  ...          254\n",
              "\n",
              "[5 rows x 8 columns]"
            ]
          },
          "metadata": {
            "tags": []
          },
          "execution_count": 100
        }
      ]
    },
    {
      "cell_type": "code",
      "metadata": {
        "id": "wGPUIruTMTYr",
        "colab_type": "code",
        "colab": {
          "base_uri": "https://localhost:8080/",
          "height": 289
        },
        "outputId": "eeaa596a-835c-42cb-d2c6-2f8f791737ee"
      },
      "source": [
        "combined_df[combined_df['user_id'].isin(['f0bdf7e5df021f3ba51161ebae78e49a7fd9c075'])][:5]"
      ],
      "execution_count": 101,
      "outputs": [
        {
          "output_type": "execute_result",
          "data": {
            "text/html": [
              "<div>\n",
              "<style scoped>\n",
              "    .dataframe tbody tr th:only-of-type {\n",
              "        vertical-align: middle;\n",
              "    }\n",
              "\n",
              "    .dataframe tbody tr th {\n",
              "        vertical-align: top;\n",
              "    }\n",
              "\n",
              "    .dataframe thead th {\n",
              "        text-align: right;\n",
              "    }\n",
              "</style>\n",
              "<table border=\"1\" class=\"dataframe\">\n",
              "  <thead>\n",
              "    <tr style=\"text-align: right;\">\n",
              "      <th></th>\n",
              "      <th>user_id</th>\n",
              "      <th>gender</th>\n",
              "      <th>age</th>\n",
              "      <th>country</th>\n",
              "      <th>signup_date</th>\n",
              "      <th>artist_id</th>\n",
              "      <th>artist_name</th>\n",
              "      <th>played_times</th>\n",
              "    </tr>\n",
              "  </thead>\n",
              "  <tbody>\n",
              "    <tr>\n",
              "      <th>16489751</th>\n",
              "      <td>f0bdf7e5df021f3ba51161ebae78e49a7fd9c075</td>\n",
              "      <td>m</td>\n",
              "      <td>18.0</td>\n",
              "      <td>Australia</td>\n",
              "      <td>Jul 23, 2008</td>\n",
              "      <td>ca891d65-d9b0-4258-89f7-e6ba29d83767</td>\n",
              "      <td>iron maiden</td>\n",
              "      <td>1133</td>\n",
              "    </tr>\n",
              "    <tr>\n",
              "      <th>16489752</th>\n",
              "      <td>f0bdf7e5df021f3ba51161ebae78e49a7fd9c075</td>\n",
              "      <td>m</td>\n",
              "      <td>18.0</td>\n",
              "      <td>Australia</td>\n",
              "      <td>Jul 23, 2008</td>\n",
              "      <td>847e8284-8582-4b0e-9c26-b042a4f49e57</td>\n",
              "      <td>placebo</td>\n",
              "      <td>1068</td>\n",
              "    </tr>\n",
              "    <tr>\n",
              "      <th>16489753</th>\n",
              "      <td>f0bdf7e5df021f3ba51161ebae78e49a7fd9c075</td>\n",
              "      <td>m</td>\n",
              "      <td>18.0</td>\n",
              "      <td>Australia</td>\n",
              "      <td>Jul 23, 2008</td>\n",
              "      <td>8c538f11-c141-4588-8ecb-931083524186</td>\n",
              "      <td>bloc party</td>\n",
              "      <td>523</td>\n",
              "    </tr>\n",
              "    <tr>\n",
              "      <th>16489754</th>\n",
              "      <td>f0bdf7e5df021f3ba51161ebae78e49a7fd9c075</td>\n",
              "      <td>m</td>\n",
              "      <td>18.0</td>\n",
              "      <td>Australia</td>\n",
              "      <td>Jul 23, 2008</td>\n",
              "      <td>ba0d6274-db14-4ef5-b28d-657ebde1a396</td>\n",
              "      <td>the smashing pumpkins</td>\n",
              "      <td>409</td>\n",
              "    </tr>\n",
              "    <tr>\n",
              "      <th>16489755</th>\n",
              "      <td>f0bdf7e5df021f3ba51161ebae78e49a7fd9c075</td>\n",
              "      <td>m</td>\n",
              "      <td>18.0</td>\n",
              "      <td>Australia</td>\n",
              "      <td>Jul 23, 2008</td>\n",
              "      <td>b10bbbfc-cf9e-42e0-be17-e2c3e1d2600d</td>\n",
              "      <td>the beatles</td>\n",
              "      <td>373</td>\n",
              "    </tr>\n",
              "  </tbody>\n",
              "</table>\n",
              "</div>"
            ],
            "text/plain": [
              "                                           user_id  ... played_times\n",
              "16489751  f0bdf7e5df021f3ba51161ebae78e49a7fd9c075  ...         1133\n",
              "16489752  f0bdf7e5df021f3ba51161ebae78e49a7fd9c075  ...         1068\n",
              "16489753  f0bdf7e5df021f3ba51161ebae78e49a7fd9c075  ...          523\n",
              "16489754  f0bdf7e5df021f3ba51161ebae78e49a7fd9c075  ...          409\n",
              "16489755  f0bdf7e5df021f3ba51161ebae78e49a7fd9c075  ...          373\n",
              "\n",
              "[5 rows x 8 columns]"
            ]
          },
          "metadata": {
            "tags": []
          },
          "execution_count": 101
        }
      ]
    },
    {
      "cell_type": "markdown",
      "metadata": {
        "id": "Z-tUcR-LMnSN",
        "colab_type": "text"
      },
      "source": [
        "they are similar as they are from similar country?...."
      ]
    },
    {
      "cell_type": "code",
      "metadata": {
        "id": "MeJQxOaJMkD1",
        "colab_type": "code",
        "colab": {}
      },
      "source": [
        "artist_grouped_df = combined_df.groupby('artist_id')"
      ],
      "execution_count": 0,
      "outputs": []
    },
    {
      "cell_type": "code",
      "metadata": {
        "id": "s-zSwn1xNqdV",
        "colab_type": "code",
        "colab": {
          "base_uri": "https://localhost:8080/",
          "height": 34
        },
        "outputId": "3859a801-3f48-4a38-da67-002e8ed8e44b"
      },
      "source": [
        "len(combined_df), len(artist_grouped_df)"
      ],
      "execution_count": 107,
      "outputs": [
        {
          "output_type": "execute_result",
          "data": {
            "text/plain": [
              "(17535569, 160112)"
            ]
          },
          "metadata": {
            "tags": []
          },
          "execution_count": 107
        }
      ]
    },
    {
      "cell_type": "code",
      "metadata": {
        "id": "_2G85ojVPKj4",
        "colab_type": "code",
        "colab": {}
      },
      "source": [
        "artist_grouped_df.apply(lambda df: df.columns)"
      ],
      "execution_count": 0,
      "outputs": []
    },
    {
      "cell_type": "code",
      "metadata": {
        "id": "g54XSNzbP4Y2",
        "colab_type": "code",
        "colab": {}
      },
      "source": [
        ""
      ],
      "execution_count": 0,
      "outputs": []
    }
  ]
}