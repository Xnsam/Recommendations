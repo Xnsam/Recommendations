{
  "nbformat": 4,
  "nbformat_minor": 0,
  "metadata": {
    "colab": {
      "name": "new_recommendations.ipynb",
      "version": "0.3.2",
      "provenance": [],
      "collapsed_sections": [],
      "toc_visible": true
    },
    "kernelspec": {
      "name": "python3",
      "display_name": "Python 3"
    }
  },
  "cells": [
    {
      "cell_type": "markdown",
      "metadata": {
        "id": "MIVKQZyj8bWw",
        "colab_type": "text"
      },
      "source": [
        "# Set up"
      ]
    },
    {
      "cell_type": "code",
      "metadata": {
        "id": "-ghDGiSB8Xw5",
        "colab_type": "code",
        "outputId": "1b1ee2bd-2f4a-4183-b29a-9953c37f262a",
        "colab": {
          "base_uri": "https://localhost:8080/",
          "height": 204
        }
      },
      "source": [
        "!wget http://mlg.ucd.ie/files/datasets/bbc-fulltext.zip"
      ],
      "execution_count": 0,
      "outputs": [
        {
          "output_type": "stream",
          "text": [
            "--2019-05-29 05:30:15--  http://mlg.ucd.ie/files/datasets/bbc-fulltext.zip\n",
            "Resolving mlg.ucd.ie (mlg.ucd.ie)... 137.43.92.206\n",
            "Connecting to mlg.ucd.ie (mlg.ucd.ie)|137.43.92.206|:80... connected.\n",
            "HTTP request sent, awaiting response... 200 OK\n",
            "Length: 2874078 (2.7M) [application/zip]\n",
            "Saving to: ‘bbc-fulltext.zip’\n",
            "\n",
            "bbc-fulltext.zip    100%[===================>]   2.74M   595KB/s    in 4.7s    \n",
            "\n",
            "2019-05-29 05:30:25 (595 KB/s) - ‘bbc-fulltext.zip’ saved [2874078/2874078]\n",
            "\n"
          ],
          "name": "stdout"
        }
      ]
    },
    {
      "cell_type": "code",
      "metadata": {
        "id": "K1OOUiWj8lzZ",
        "colab_type": "code",
        "colab": {}
      },
      "source": [
        "!mkdir news_data\n",
        "!unzip -d news_data/ bbc-fulltext.zip"
      ],
      "execution_count": 0,
      "outputs": []
    },
    {
      "cell_type": "code",
      "metadata": {
        "id": "4jSDo28E9U4M",
        "colab_type": "code",
        "colab": {}
      },
      "source": [
        "!pip install --quiet gensim"
      ],
      "execution_count": 0,
      "outputs": []
    },
    {
      "cell_type": "markdown",
      "metadata": {
        "id": "6fxoruZz9OnZ",
        "colab_type": "text"
      },
      "source": [
        "# Recommendation using word2vecs"
      ]
    },
    {
      "cell_type": "markdown",
      "metadata": {
        "id": "mta8uzi1BX7c",
        "colab_type": "text"
      },
      "source": [
        "**Recommend the news based on the headlines context**"
      ]
    },
    {
      "cell_type": "code",
      "metadata": {
        "id": "aKowfNJS9Fx7",
        "colab_type": "code",
        "colab": {}
      },
      "source": [
        "from gensim.models import Word2Vec\n",
        "import glob\n",
        "import pandas as pd\n",
        "import numpy as np"
      ],
      "execution_count": 0,
      "outputs": []
    },
    {
      "cell_type": "code",
      "metadata": {
        "id": "uHldMsAc98aJ",
        "colab_type": "code",
        "colab": {}
      },
      "source": [
        "!rm news_data/bbc/README.TXT"
      ],
      "execution_count": 0,
      "outputs": []
    },
    {
      "cell_type": "code",
      "metadata": {
        "id": "wpTT7iC49sZw",
        "colab_type": "code",
        "colab": {}
      },
      "source": [
        "dir_path = 'news_data/bbc/*/*'\n",
        "\n",
        "data_paths = glob.glob(dir_path)"
      ],
      "execution_count": 0,
      "outputs": []
    },
    {
      "cell_type": "code",
      "metadata": {
        "id": "3adqx8lb-nJI",
        "colab_type": "code",
        "outputId": "3db32847-9835-4054-c27c-ef64e8e3c3c3",
        "colab": {
          "base_uri": "https://localhost:8080/",
          "height": 102
        }
      },
      "source": [
        "data_paths[:5]"
      ],
      "execution_count": 0,
      "outputs": [
        {
          "output_type": "execute_result",
          "data": {
            "text/plain": [
              "['news_data/bbc/sport/260.txt',\n",
              " 'news_data/bbc/sport/463.txt',\n",
              " 'news_data/bbc/sport/143.txt',\n",
              " 'news_data/bbc/sport/020.txt',\n",
              " 'news_data/bbc/sport/018.txt']"
            ]
          },
          "metadata": {
            "tags": []
          },
          "execution_count": 7
        }
      ]
    },
    {
      "cell_type": "code",
      "metadata": {
        "id": "i4QyXRIC-pOQ",
        "colab_type": "code",
        "outputId": "45ef97b3-15b9-40ee-aa18-4b23b7b02be9",
        "colab": {
          "base_uri": "https://localhost:8080/",
          "height": 102
        }
      },
      "source": [
        "np.random.seed(0)\n",
        "np.random.shuffle(data_paths)\n",
        "data_paths[:5]"
      ],
      "execution_count": 0,
      "outputs": [
        {
          "output_type": "execute_result",
          "data": {
            "text/plain": [
              "['news_data/bbc/sport/013.txt',\n",
              " 'news_data/bbc/politics/086.txt',\n",
              " 'news_data/bbc/business/353.txt',\n",
              " 'news_data/bbc/business/387.txt',\n",
              " 'news_data/bbc/business/452.txt']"
            ]
          },
          "metadata": {
            "tags": []
          },
          "execution_count": 8
        }
      ]
    },
    {
      "cell_type": "code",
      "metadata": {
        "id": "yfF6OkprB_QE",
        "colab_type": "code",
        "outputId": "4d1cd413-8b20-4f4e-9883-ff21bced7d9d",
        "colab": {
          "base_uri": "https://localhost:8080/",
          "height": 34
        }
      },
      "source": [
        "data_paths[0].split('/')[-2]"
      ],
      "execution_count": 0,
      "outputs": [
        {
          "output_type": "execute_result",
          "data": {
            "text/plain": [
              "'sport'"
            ]
          },
          "metadata": {
            "tags": []
          },
          "execution_count": 9
        }
      ]
    },
    {
      "cell_type": "code",
      "metadata": {
        "id": "LZ2_vklB-wMB",
        "colab_type": "code",
        "colab": {}
      },
      "source": [
        "headings = []\n",
        "\n",
        "for file_path in data_paths:\n",
        "  with open(file_path, 'r', encoding=\"latin-1\") as f:\n",
        "    for line in f:\n",
        "      headings.append((line.strip(), file_path.split('/')[-2] ))\n",
        "      break"
      ],
      "execution_count": 0,
      "outputs": []
    },
    {
      "cell_type": "code",
      "metadata": {
        "id": "nACTn8lJAZyj",
        "colab_type": "code",
        "outputId": "0dc7084c-225c-484f-b768-adb37b7f1297",
        "colab": {
          "base_uri": "https://localhost:8080/",
          "height": 34
        }
      },
      "source": [
        "len(headings)"
      ],
      "execution_count": 0,
      "outputs": [
        {
          "output_type": "execute_result",
          "data": {
            "text/plain": [
              "2225"
            ]
          },
          "metadata": {
            "tags": []
          },
          "execution_count": 11
        }
      ]
    },
    {
      "cell_type": "code",
      "metadata": {
        "id": "uGDMUrcVAZoE",
        "colab_type": "code",
        "outputId": "01a8060c-7f61-47b7-9a66-ce43615ad5ba",
        "colab": {
          "base_uri": "https://localhost:8080/",
          "height": 102
        }
      },
      "source": [
        "headings[:5]"
      ],
      "execution_count": 0,
      "outputs": [
        {
          "output_type": "execute_result",
          "data": {
            "text/plain": [
              "[(\"Kenya lift Chepkemei's suspension\", 'sport'),\n",
              " ('Howard backs stem cell research', 'politics'),\n",
              " ('Giant waves damage S Asia economy', 'business'),\n",
              " ('Germany nears 1990 jobless level', 'business'),\n",
              " (\"McDonald's boss Bell dies aged 44\", 'business')]"
            ]
          },
          "metadata": {
            "tags": []
          },
          "execution_count": 12
        }
      ]
    },
    {
      "cell_type": "code",
      "metadata": {
        "id": "06lfHMGNAZRy",
        "colab_type": "code",
        "outputId": "cc17fe8c-0a7e-4690-cbbc-e22ad1a508e9",
        "colab": {
          "base_uri": "https://localhost:8080/",
          "height": 34
        }
      },
      "source": [
        "data = []\n",
        "labels = []\n",
        "for i in headings:\n",
        "  heading, label = i[0], i[1]\n",
        "  data.append(heading)\n",
        "  labels.append(label)\n",
        "\n",
        "data[0], labels[0]"
      ],
      "execution_count": 0,
      "outputs": [
        {
          "output_type": "execute_result",
          "data": {
            "text/plain": [
              "(\"Kenya lift Chepkemei's suspension\", 'sport')"
            ]
          },
          "metadata": {
            "tags": []
          },
          "execution_count": 27
        }
      ]
    },
    {
      "cell_type": "code",
      "metadata": {
        "id": "a1sN_kqqB4rS",
        "colab_type": "code",
        "outputId": "2e429a7e-6f8e-492c-bcf9-e10170988162",
        "colab": {
          "base_uri": "https://localhost:8080/",
          "height": 119
        }
      },
      "source": [
        "data = [i.lower().split() for i in data]\n",
        "data[:5], labels[:5]"
      ],
      "execution_count": 0,
      "outputs": [
        {
          "output_type": "execute_result",
          "data": {
            "text/plain": [
              "([['kenya', 'lift', \"chepkemei's\", 'suspension'],\n",
              "  ['howard', 'backs', 'stem', 'cell', 'research'],\n",
              "  ['giant', 'waves', 'damage', 's', 'asia', 'economy'],\n",
              "  ['germany', 'nears', '1990', 'jobless', 'level'],\n",
              "  [\"mcdonald's\", 'boss', 'bell', 'dies', 'aged', '44']],\n",
              " ['sport', 'politics', 'business', 'business', 'business'])"
            ]
          },
          "metadata": {
            "tags": []
          },
          "execution_count": 43
        }
      ]
    },
    {
      "cell_type": "code",
      "metadata": {
        "id": "x1Qkk638EtCd",
        "colab_type": "code",
        "colab": {}
      },
      "source": [
        "model = Word2Vec(data, window=5, min_count=1, size=50)"
      ],
      "execution_count": 0,
      "outputs": []
    },
    {
      "cell_type": "code",
      "metadata": {
        "id": "K5M8_ahFFBoR",
        "colab_type": "code",
        "outputId": "78b74ee3-e7e8-4bd1-c9e0-d4fa7bef8945",
        "colab": {
          "base_uri": "https://localhost:8080/",
          "height": 34
        }
      },
      "source": [
        "model.train(data, total_examples=len(data), epochs=100)"
      ],
      "execution_count": 0,
      "outputs": [
        {
          "output_type": "execute_result",
          "data": {
            "text/plain": [
              "(1071933, 1158000)"
            ]
          },
          "metadata": {
            "tags": []
          },
          "execution_count": 45
        }
      ]
    },
    {
      "cell_type": "code",
      "metadata": {
        "id": "XNv7FkApFIQA",
        "colab_type": "code",
        "outputId": "b4c3e9d9-72c8-490f-c0ae-d5051eff2333",
        "colab": {
          "base_uri": "https://localhost:8080/",
          "height": 71
        }
      },
      "source": [
        "predictions = model.wv.most_similar(data[0], topn=5)"
      ],
      "execution_count": 0,
      "outputs": [
        {
          "output_type": "stream",
          "text": [
            "/usr/local/lib/python3.6/dist-packages/gensim/matutils.py:737: FutureWarning: Conversion of the second argument of issubdtype from `int` to `np.signedinteger` is deprecated. In future, it will be treated as `np.int64 == np.dtype(int).type`.\n",
            "  if np.issubdtype(vec.dtype, np.int):\n"
          ],
          "name": "stderr"
        }
      ]
    },
    {
      "cell_type": "code",
      "metadata": {
        "id": "eyp_b6guFRfb",
        "colab_type": "code",
        "outputId": "e1b627ba-c584-4ed1-cffa-0fb9943c88d8",
        "colab": {
          "base_uri": "https://localhost:8080/",
          "height": 102
        }
      },
      "source": [
        "predictions"
      ],
      "execution_count": 0,
      "outputs": [
        {
          "output_type": "execute_result",
          "data": {
            "text/plain": [
              "[(\"den's\", 0.9715946912765503),\n",
              " ('dirty', 0.9701681137084961),\n",
              " ('demise', 0.9695280194282532),\n",
              " ('emerging', 0.958913266658783),\n",
              " ('concerts', 0.9572998881340027)]"
            ]
          },
          "metadata": {
            "tags": []
          },
          "execution_count": 47
        }
      ]
    },
    {
      "cell_type": "code",
      "metadata": {
        "id": "DO8LuuLsFRc-",
        "colab_type": "code",
        "outputId": "e88c0a32-e81a-4356-ba5e-ff0ac914816d",
        "colab": {
          "base_uri": "https://localhost:8080/",
          "height": 34
        }
      },
      "source": [
        "p = [i[0] for i in predictions]\n",
        "p"
      ],
      "execution_count": 0,
      "outputs": [
        {
          "output_type": "execute_result",
          "data": {
            "text/plain": [
              "[\"den's\", 'dirty', 'demise', 'emerging', 'concerts']"
            ]
          },
          "metadata": {
            "tags": []
          },
          "execution_count": 48
        }
      ]
    },
    {
      "cell_type": "code",
      "metadata": {
        "id": "ZTsdJ1wAINSI",
        "colab_type": "code",
        "outputId": "86076ae4-00c0-4b02-a4d0-b679ecceee90",
        "colab": {
          "base_uri": "https://localhost:8080/",
          "height": 122
        }
      },
      "source": [
        "rand_ind = np.random.randint(0, len(data))\n",
        "print(data[rand_ind], labels[rand_ind])\n",
        "predictions = model.wv.most_similar(data[rand_ind], topn=5)\n",
        "print(predictions)\n",
        "p = [i[0] for i in predictions]\n",
        "print(p)"
      ],
      "execution_count": 0,
      "outputs": [
        {
          "output_type": "stream",
          "text": [
            "['mrs', 'howard', 'gets', 'key', 'election', 'role'] politics\n",
            "[('platform', 0.8960861563682556), ('way,', 0.878477156162262), ('kilroy', 0.8762586712837219), ('cell', 0.8619588613510132), ('really', 0.8613830208778381)]\n",
            "['platform', 'way,', 'kilroy', 'cell', 'really']\n"
          ],
          "name": "stdout"
        },
        {
          "output_type": "stream",
          "text": [
            "/usr/local/lib/python3.6/dist-packages/gensim/matutils.py:737: FutureWarning: Conversion of the second argument of issubdtype from `int` to `np.signedinteger` is deprecated. In future, it will be treated as `np.int64 == np.dtype(int).type`.\n",
            "  if np.issubdtype(vec.dtype, np.int):\n"
          ],
          "name": "stderr"
        }
      ]
    },
    {
      "cell_type": "code",
      "metadata": {
        "id": "5h-0ul3qG-ZI",
        "colab_type": "code",
        "outputId": "af427566-cfef-440d-e784-766382dc9940",
        "colab": {
          "base_uri": "https://localhost:8080/",
          "height": 187
        }
      },
      "source": [
        "for i, v in enumerate(data):\n",
        "  if len(set(v).intersection(set(p))) >= 1:\n",
        "    print(v, labels[i])"
      ],
      "execution_count": 0,
      "outputs": [
        {
          "output_type": "stream",
          "text": [
            "['howard', 'backs', 'stem', 'cell', 'research'] politics\n",
            "['why', 'cell', 'will', 'get', 'the', 'hard', 'sell'] tech\n",
            "['kilroy', 'unveils', 'immigration', 'policy'] politics\n",
            "['what', 'really', 'divides', 'the', 'parties'] politics\n",
            "['what', 'the', 'election', 'should', 'really', 'be', 'about?'] politics\n",
            "['kilroy', 'launches', \"'veritas'\", 'party'] politics\n",
            "['kilroy', 'names', 'election', 'seat', 'target'] politics\n",
            "['kilroy', 'launches', \"'veritas'\", 'party'] politics\n",
            "['uk', 'heading', 'wrong', 'way,', 'says', 'howard'] politics\n",
            "['howard', 'unveils', 'election', 'platform'] politics\n"
          ],
          "name": "stdout"
        }
      ]
    },
    {
      "cell_type": "code",
      "metadata": {
        "id": "jGH8iC09JFuk",
        "colab_type": "code",
        "outputId": "10d5d857-627e-43c6-d932-8b50866f8e05",
        "colab": {
          "base_uri": "https://localhost:8080/",
          "height": 122
        }
      },
      "source": [
        "rand_ind = np.random.randint(0, len(data))\n",
        "print(data[rand_ind], labels[rand_ind])\n",
        "predictions = model.wv.most_similar(data[rand_ind], topn=5)\n",
        "print(predictions)\n",
        "p = [i[0] for i in predictions]\n",
        "print(p)"
      ],
      "execution_count": 0,
      "outputs": [
        {
          "output_type": "stream",
          "text": [
            "['civil', 'servants', 'in', 'strike', 'ballot'] politics\n",
            "[('stalemate', 0.9500486254692078), (\"'make\", 0.9468778371810913), (\"progress'\", 0.940786600112915), ('thousands', 0.9398922324180603), ('grips', 0.9388133883476257)]\n",
            "['stalemate', \"'make\", \"progress'\", 'thousands', 'grips']\n"
          ],
          "name": "stdout"
        },
        {
          "output_type": "stream",
          "text": [
            "/usr/local/lib/python3.6/dist-packages/gensim/matutils.py:737: FutureWarning: Conversion of the second argument of issubdtype from `int` to `np.signedinteger` is deprecated. In future, it will be treated as `np.int64 == np.dtype(int).type`.\n",
            "  if np.issubdtype(vec.dtype, np.int):\n"
          ],
          "name": "stderr"
        }
      ]
    },
    {
      "cell_type": "code",
      "metadata": {
        "id": "4Jsx6rEUJHYn",
        "colab_type": "code",
        "outputId": "7145066d-a924-4d24-f215-1f8ee43d98ea",
        "colab": {
          "base_uri": "https://localhost:8080/",
          "height": 85
        }
      },
      "source": [
        "for i, v in enumerate(data):\n",
        "  if len(set(v).intersection(set(p))) >= 1:\n",
        "    print(v, labels[i])"
      ],
      "execution_count": 0,
      "outputs": [
        {
          "output_type": "stream",
          "text": [
            "['thousands', 'join', 'strike', 'in', 'wales'] politics\n",
            "['stalemate', 'in', 'pension', 'strike', 'talks'] politics\n",
            "['russia', 'wto', 'talks', \"'make\", \"progress'\"] business\n",
            "['train', 'strike', 'grips', 'buenos', 'aires'] business\n"
          ],
          "name": "stdout"
        }
      ]
    },
    {
      "cell_type": "markdown",
      "metadata": {
        "id": "nveWmYJqJSNS",
        "colab_type": "text"
      },
      "source": [
        "I guess it will improve with more data"
      ]
    },
    {
      "cell_type": "markdown",
      "metadata": {
        "id": "C-mJZQx-_r2w",
        "colab_type": "text"
      },
      "source": [
        "# Recommendation using nueral networks"
      ]
    },
    {
      "cell_type": "markdown",
      "metadata": {
        "id": "gSqwmUggL6Le",
        "colab_type": "text"
      },
      "source": [
        "**The idea will be to predict the category of the class and recommend the news as per the class**"
      ]
    },
    {
      "cell_type": "markdown",
      "metadata": {
        "id": "tB13dD-nM_t4",
        "colab_type": "text"
      },
      "source": [
        "## Data processing"
      ]
    },
    {
      "cell_type": "code",
      "metadata": {
        "id": "NnlO1DylMk3j",
        "colab_type": "code",
        "colab": {}
      },
      "source": [
        "from keras.utils import to_categorical\n",
        "from keras.preprocessing.sequence import pad_sequences"
      ],
      "execution_count": 0,
      "outputs": []
    },
    {
      "cell_type": "code",
      "metadata": {
        "id": "OihHowbXNl07",
        "colab_type": "code",
        "colab": {}
      },
      "source": [
        "em_model = model\n",
        "del model"
      ],
      "execution_count": 0,
      "outputs": []
    },
    {
      "cell_type": "code",
      "metadata": {
        "id": "isrNlW3ANlos",
        "colab_type": "code",
        "colab": {
          "base_uri": "https://localhost:8080/",
          "height": 34
        },
        "outputId": "f99a044d-6bc0-4705-9314-79117b21b432"
      },
      "source": [
        "vectorized_data = np.array([em_model.wv[i] for i in data])\n",
        "\n",
        "vectorized_data = pad_sequences(vectorized_data, dtype=np.float64)\n",
        "vectorized_data.shape"
      ],
      "execution_count": 70,
      "outputs": [
        {
          "output_type": "execute_result",
          "data": {
            "text/plain": [
              "(2225, 9, 50)"
            ]
          },
          "metadata": {
            "tags": []
          },
          "execution_count": 70
        }
      ]
    },
    {
      "cell_type": "code",
      "metadata": {
        "id": "dpVa_XZqNlhn",
        "colab_type": "code",
        "colab": {
          "base_uri": "https://localhost:8080/",
          "height": 34
        },
        "outputId": "5d42fa39-5434-45e1-c385-cf8459517bff"
      },
      "source": [
        "label_dict = dict((i, v) for i, v in enumerate(set(labels)))\n",
        "rev_label_dict = dict((v, i) for i, v in zip(label_dict.keys(), label_dict.values()))\n",
        "\n",
        "ohe_labels = to_categorical(np.array([rev_label_dict[i] for i in labels]))\n",
        "ohe_labels.shape"
      ],
      "execution_count": 76,
      "outputs": [
        {
          "output_type": "execute_result",
          "data": {
            "text/plain": [
              "(2225, 5)"
            ]
          },
          "metadata": {
            "tags": []
          },
          "execution_count": 76
        }
      ]
    },
    {
      "cell_type": "code",
      "metadata": {
        "id": "hCeVrXB7PKmA",
        "colab_type": "code",
        "colab": {}
      },
      "source": [
        "from sklearn.model_selection import train_test_split\n",
        "from sklearn.metrics import accuracy_score"
      ],
      "execution_count": 0,
      "outputs": []
    },
    {
      "cell_type": "code",
      "metadata": {
        "id": "FIWCDPiVPKgi",
        "colab_type": "code",
        "colab": {
          "base_uri": "https://localhost:8080/",
          "height": 34
        },
        "outputId": "4aa9d9b7-fc5b-4b1d-da64-6fbc85067914"
      },
      "source": [
        "x_train, x_test, y_train, y_test = train_test_split(vectorized_data, ohe_labels, test_size=0.1, random_state=42)\n",
        "x_train.shape, x_test.shape"
      ],
      "execution_count": 78,
      "outputs": [
        {
          "output_type": "execute_result",
          "data": {
            "text/plain": [
              "((2002, 9, 50), (223, 9, 50))"
            ]
          },
          "metadata": {
            "tags": []
          },
          "execution_count": 78
        }
      ]
    },
    {
      "cell_type": "markdown",
      "metadata": {
        "id": "C3jM_AieNmPr",
        "colab_type": "text"
      },
      "source": [
        "## Model"
      ]
    },
    {
      "cell_type": "code",
      "metadata": {
        "id": "bExhWHsS_vnh",
        "colab_type": "code",
        "colab": {}
      },
      "source": [
        "from keras.models import Model\n",
        "from keras.layers import Conv1D, Input, Dense, Input, Flatten, MaxPooling1D, Dropout"
      ],
      "execution_count": 0,
      "outputs": []
    },
    {
      "cell_type": "code",
      "metadata": {
        "id": "uHb-l9WWNkIq",
        "colab_type": "code",
        "colab": {}
      },
      "source": [
        "def build_model():\n",
        "  \"\"\"Function to build a model.\"\"\"\n",
        "  \n",
        "  input_shape = x_train.shape[1:]\n",
        "  \n",
        "  input_layer = Input(shape=input_shape, name=\"input_layer\")\n",
        "  x = Conv1D(filters=28, kernel_size=3, strides=1, activation=\"relu\", name=\"layer_1\")(input_layer)\n",
        "  x = MaxPooling1D(pool_size=2, strides=1, padding=\"valid\", name=\"max_pool_1\")(x)\n",
        "  \n",
        "  x = Flatten(name=\"flat_1\")(x)\n",
        "  x = Dense(64, activation=\"relu\", name=\"dense_1\")(x)\n",
        "  x = Dropout(0.2, name=\"drop_1\")(x)\n",
        "  out_layer = Dense(5, activation=\"softmax\", name=\"prediction_layer\")(x)\n",
        "  \n",
        "  model = Model(\n",
        "      inputs=[input_layer],\n",
        "      outputs=[out_layer]\n",
        "  )\n",
        "  model.compile(optimizer='rmsprop', loss='categorical_crossentropy', metrics=['accuracy'])\n",
        "  return model"
      ],
      "execution_count": 0,
      "outputs": []
    },
    {
      "cell_type": "code",
      "metadata": {
        "id": "8rsCF15NShFl",
        "colab_type": "code",
        "colab": {
          "base_uri": "https://localhost:8080/",
          "height": 374
        },
        "outputId": "d21734dc-be71-49c1-daf9-8486daaf7497"
      },
      "source": [
        "net = build_model()\n",
        "net.summary()"
      ],
      "execution_count": 122,
      "outputs": [
        {
          "output_type": "stream",
          "text": [
            "_________________________________________________________________\n",
            "Layer (type)                 Output Shape              Param #   \n",
            "=================================================================\n",
            "input_layer (InputLayer)     (None, 9, 50)             0         \n",
            "_________________________________________________________________\n",
            "layer_1 (Conv1D)             (None, 7, 28)             4228      \n",
            "_________________________________________________________________\n",
            "max_pool_1 (MaxPooling1D)    (None, 6, 28)             0         \n",
            "_________________________________________________________________\n",
            "flat_1 (Flatten)             (None, 168)               0         \n",
            "_________________________________________________________________\n",
            "dense_1 (Dense)              (None, 64)                10816     \n",
            "_________________________________________________________________\n",
            "drop_1 (Dropout)             (None, 64)                0         \n",
            "_________________________________________________________________\n",
            "prediction_layer (Dense)     (None, 5)                 325       \n",
            "=================================================================\n",
            "Total params: 15,369\n",
            "Trainable params: 15,369\n",
            "Non-trainable params: 0\n",
            "_________________________________________________________________\n"
          ],
          "name": "stdout"
        }
      ]
    },
    {
      "cell_type": "code",
      "metadata": {
        "id": "9EW2J64KSlOw",
        "colab_type": "code",
        "colab": {
          "base_uri": "https://localhost:8080/",
          "height": 3434
        },
        "outputId": "e4819ead-ca36-413e-fff1-8c6dbfd2ea43"
      },
      "source": [
        "H = net.fit(\n",
        "    x_train,\n",
        "    y_train,\n",
        "    validation_data=(x_test, y_test),\n",
        "    epochs=100,\n",
        "    verbose=2,\n",
        "    shuffle=True\n",
        ")"
      ],
      "execution_count": 124,
      "outputs": [
        {
          "output_type": "stream",
          "text": [
            "Train on 2002 samples, validate on 223 samples\n",
            "Epoch 1/100\n",
            " - 1s - loss: 1.4576 - acc: 0.3986 - val_loss: 1.2557 - val_acc: 0.5471\n",
            "Epoch 2/100\n",
            " - 0s - loss: 1.2062 - acc: 0.5395 - val_loss: 1.0714 - val_acc: 0.6233\n",
            "Epoch 3/100\n",
            " - 0s - loss: 1.0991 - acc: 0.5829 - val_loss: 1.0064 - val_acc: 0.6457\n",
            "Epoch 4/100\n",
            " - 0s - loss: 1.0172 - acc: 0.6089 - val_loss: 0.9531 - val_acc: 0.6771\n",
            "Epoch 5/100\n",
            " - 0s - loss: 0.9632 - acc: 0.6394 - val_loss: 0.9854 - val_acc: 0.6457\n",
            "Epoch 6/100\n",
            " - 0s - loss: 0.9246 - acc: 0.6543 - val_loss: 0.9399 - val_acc: 0.6726\n",
            "Epoch 7/100\n",
            " - 0s - loss: 0.8767 - acc: 0.6733 - val_loss: 0.8993 - val_acc: 0.7040\n",
            "Epoch 8/100\n",
            " - 0s - loss: 0.8458 - acc: 0.6798 - val_loss: 0.9201 - val_acc: 0.6771\n",
            "Epoch 9/100\n",
            " - 0s - loss: 0.8131 - acc: 0.6898 - val_loss: 0.9009 - val_acc: 0.6726\n",
            "Epoch 10/100\n",
            " - 0s - loss: 0.7663 - acc: 0.7313 - val_loss: 0.9158 - val_acc: 0.6592\n",
            "Epoch 11/100\n",
            " - 0s - loss: 0.7464 - acc: 0.7228 - val_loss: 0.8838 - val_acc: 0.6592\n",
            "Epoch 12/100\n",
            " - 0s - loss: 0.7297 - acc: 0.7288 - val_loss: 0.9142 - val_acc: 0.6816\n",
            "Epoch 13/100\n",
            " - 0s - loss: 0.7075 - acc: 0.7363 - val_loss: 0.8794 - val_acc: 0.6906\n",
            "Epoch 14/100\n",
            " - 0s - loss: 0.6800 - acc: 0.7483 - val_loss: 0.8813 - val_acc: 0.6951\n",
            "Epoch 15/100\n",
            " - 0s - loss: 0.6520 - acc: 0.7697 - val_loss: 0.9473 - val_acc: 0.6502\n",
            "Epoch 16/100\n",
            " - 0s - loss: 0.6332 - acc: 0.7597 - val_loss: 0.9587 - val_acc: 0.6592\n",
            "Epoch 17/100\n",
            " - 0s - loss: 0.6196 - acc: 0.7742 - val_loss: 0.9701 - val_acc: 0.6547\n",
            "Epoch 18/100\n",
            " - 0s - loss: 0.6089 - acc: 0.7802 - val_loss: 0.9752 - val_acc: 0.6726\n",
            "Epoch 19/100\n",
            " - 0s - loss: 0.5859 - acc: 0.7837 - val_loss: 0.9234 - val_acc: 0.6906\n",
            "Epoch 20/100\n",
            " - 0s - loss: 0.5799 - acc: 0.7847 - val_loss: 0.8974 - val_acc: 0.6996\n",
            "Epoch 21/100\n",
            " - 0s - loss: 0.5564 - acc: 0.7862 - val_loss: 0.9713 - val_acc: 0.6637\n",
            "Epoch 22/100\n",
            " - 0s - loss: 0.5378 - acc: 0.8107 - val_loss: 0.9681 - val_acc: 0.6682\n",
            "Epoch 23/100\n",
            " - 0s - loss: 0.5214 - acc: 0.7997 - val_loss: 1.0045 - val_acc: 0.6726\n",
            "Epoch 24/100\n",
            " - 0s - loss: 0.5091 - acc: 0.8027 - val_loss: 1.0274 - val_acc: 0.6592\n",
            "Epoch 25/100\n",
            " - 0s - loss: 0.4908 - acc: 0.8247 - val_loss: 1.0342 - val_acc: 0.6861\n",
            "Epoch 26/100\n",
            " - 0s - loss: 0.4823 - acc: 0.8267 - val_loss: 1.0227 - val_acc: 0.6771\n",
            "Epoch 27/100\n",
            " - 0s - loss: 0.4741 - acc: 0.8267 - val_loss: 1.0720 - val_acc: 0.6861\n",
            "Epoch 28/100\n",
            " - 0s - loss: 0.4527 - acc: 0.8342 - val_loss: 1.0808 - val_acc: 0.6906\n",
            "Epoch 29/100\n",
            " - 0s - loss: 0.4454 - acc: 0.8387 - val_loss: 1.1480 - val_acc: 0.6592\n",
            "Epoch 30/100\n",
            " - 0s - loss: 0.4329 - acc: 0.8467 - val_loss: 1.1289 - val_acc: 0.6816\n",
            "Epoch 31/100\n",
            " - 0s - loss: 0.4310 - acc: 0.8392 - val_loss: 1.2303 - val_acc: 0.6547\n",
            "Epoch 32/100\n",
            " - 0s - loss: 0.4173 - acc: 0.8541 - val_loss: 1.1258 - val_acc: 0.6861\n",
            "Epoch 33/100\n",
            " - 0s - loss: 0.4160 - acc: 0.8536 - val_loss: 1.1892 - val_acc: 0.6592\n",
            "Epoch 34/100\n",
            " - 0s - loss: 0.4019 - acc: 0.8601 - val_loss: 1.1472 - val_acc: 0.6951\n",
            "Epoch 35/100\n",
            " - 0s - loss: 0.3926 - acc: 0.8581 - val_loss: 1.2090 - val_acc: 0.6996\n",
            "Epoch 36/100\n",
            " - 0s - loss: 0.3720 - acc: 0.8696 - val_loss: 1.2720 - val_acc: 0.6547\n",
            "Epoch 37/100\n",
            " - 0s - loss: 0.3579 - acc: 0.8731 - val_loss: 1.2147 - val_acc: 0.6771\n",
            "Epoch 38/100\n",
            " - 0s - loss: 0.3560 - acc: 0.8751 - val_loss: 1.2597 - val_acc: 0.6996\n",
            "Epoch 39/100\n",
            " - 0s - loss: 0.3468 - acc: 0.8861 - val_loss: 1.2659 - val_acc: 0.6726\n",
            "Epoch 40/100\n",
            " - 0s - loss: 0.3328 - acc: 0.8786 - val_loss: 1.2812 - val_acc: 0.6637\n",
            "Epoch 41/100\n",
            " - 0s - loss: 0.3326 - acc: 0.8831 - val_loss: 1.3074 - val_acc: 0.6816\n",
            "Epoch 42/100\n",
            " - 0s - loss: 0.3179 - acc: 0.8836 - val_loss: 1.3085 - val_acc: 0.6726\n",
            "Epoch 43/100\n",
            " - 0s - loss: 0.3127 - acc: 0.8976 - val_loss: 1.3528 - val_acc: 0.6906\n",
            "Epoch 44/100\n",
            " - 0s - loss: 0.3129 - acc: 0.8851 - val_loss: 1.3668 - val_acc: 0.6816\n",
            "Epoch 45/100\n",
            " - 0s - loss: 0.3019 - acc: 0.8901 - val_loss: 1.5029 - val_acc: 0.6457\n",
            "Epoch 46/100\n",
            " - 0s - loss: 0.2978 - acc: 0.8976 - val_loss: 1.4459 - val_acc: 0.7130\n",
            "Epoch 47/100\n",
            " - 0s - loss: 0.2921 - acc: 0.9021 - val_loss: 1.4625 - val_acc: 0.6547\n",
            "Epoch 48/100\n",
            " - 0s - loss: 0.2864 - acc: 0.8906 - val_loss: 1.5494 - val_acc: 0.6726\n",
            "Epoch 49/100\n",
            " - 0s - loss: 0.2758 - acc: 0.9011 - val_loss: 1.3863 - val_acc: 0.6951\n",
            "Epoch 50/100\n",
            " - 0s - loss: 0.2676 - acc: 0.9076 - val_loss: 1.4407 - val_acc: 0.6996\n",
            "Epoch 51/100\n",
            " - 0s - loss: 0.2575 - acc: 0.9121 - val_loss: 1.4675 - val_acc: 0.6816\n",
            "Epoch 52/100\n",
            " - 0s - loss: 0.2637 - acc: 0.9036 - val_loss: 1.5542 - val_acc: 0.6547\n",
            "Epoch 53/100\n",
            " - 0s - loss: 0.2484 - acc: 0.9161 - val_loss: 1.5186 - val_acc: 0.6951\n",
            "Epoch 54/100\n",
            " - 0s - loss: 0.2520 - acc: 0.9106 - val_loss: 1.4841 - val_acc: 0.7085\n",
            "Epoch 55/100\n",
            " - 0s - loss: 0.2462 - acc: 0.9161 - val_loss: 1.4689 - val_acc: 0.6682\n",
            "Epoch 56/100\n",
            " - 0s - loss: 0.2282 - acc: 0.9186 - val_loss: 1.5058 - val_acc: 0.6996\n",
            "Epoch 57/100\n",
            " - 0s - loss: 0.2281 - acc: 0.9231 - val_loss: 1.5278 - val_acc: 0.6816\n",
            "Epoch 58/100\n",
            " - 0s - loss: 0.2231 - acc: 0.9231 - val_loss: 1.6841 - val_acc: 0.6906\n",
            "Epoch 59/100\n",
            " - 0s - loss: 0.2303 - acc: 0.9191 - val_loss: 1.5743 - val_acc: 0.6906\n",
            "Epoch 60/100\n",
            " - 0s - loss: 0.2191 - acc: 0.9236 - val_loss: 1.6240 - val_acc: 0.6682\n",
            "Epoch 61/100\n",
            " - 0s - loss: 0.2138 - acc: 0.9251 - val_loss: 1.6551 - val_acc: 0.6771\n",
            "Epoch 62/100\n",
            " - 0s - loss: 0.1968 - acc: 0.9361 - val_loss: 1.7070 - val_acc: 0.6682\n",
            "Epoch 63/100\n",
            " - 0s - loss: 0.2043 - acc: 0.9271 - val_loss: 1.7848 - val_acc: 0.6861\n",
            "Epoch 64/100\n",
            " - 0s - loss: 0.1973 - acc: 0.9356 - val_loss: 1.6987 - val_acc: 0.6861\n",
            "Epoch 65/100\n",
            " - 0s - loss: 0.1939 - acc: 0.9346 - val_loss: 1.7409 - val_acc: 0.6726\n",
            "Epoch 66/100\n",
            " - 0s - loss: 0.1918 - acc: 0.9376 - val_loss: 1.7121 - val_acc: 0.6682\n",
            "Epoch 67/100\n",
            " - 0s - loss: 0.1968 - acc: 0.9386 - val_loss: 1.7717 - val_acc: 0.6726\n",
            "Epoch 68/100\n",
            " - 0s - loss: 0.1836 - acc: 0.9381 - val_loss: 1.7605 - val_acc: 0.6726\n",
            "Epoch 69/100\n",
            " - 0s - loss: 0.1847 - acc: 0.9376 - val_loss: 1.7452 - val_acc: 0.6906\n",
            "Epoch 70/100\n",
            " - 0s - loss: 0.1828 - acc: 0.9371 - val_loss: 1.7619 - val_acc: 0.6996\n",
            "Epoch 71/100\n",
            " - 0s - loss: 0.1842 - acc: 0.9371 - val_loss: 1.8959 - val_acc: 0.6816\n",
            "Epoch 72/100\n",
            " - 0s - loss: 0.1735 - acc: 0.9396 - val_loss: 1.8396 - val_acc: 0.6816\n",
            "Epoch 73/100\n",
            " - 0s - loss: 0.1614 - acc: 0.9461 - val_loss: 1.8889 - val_acc: 0.6547\n",
            "Epoch 74/100\n",
            " - 0s - loss: 0.1709 - acc: 0.9456 - val_loss: 1.8443 - val_acc: 0.6592\n",
            "Epoch 75/100\n",
            " - 0s - loss: 0.1633 - acc: 0.9461 - val_loss: 1.9081 - val_acc: 0.6816\n",
            "Epoch 76/100\n",
            " - 0s - loss: 0.1624 - acc: 0.9471 - val_loss: 1.8323 - val_acc: 0.6682\n",
            "Epoch 77/100\n",
            " - 0s - loss: 0.1504 - acc: 0.9486 - val_loss: 1.9180 - val_acc: 0.6592\n",
            "Epoch 78/100\n",
            " - 0s - loss: 0.1536 - acc: 0.9461 - val_loss: 1.9940 - val_acc: 0.6547\n",
            "Epoch 79/100\n",
            " - 0s - loss: 0.1503 - acc: 0.9515 - val_loss: 1.8865 - val_acc: 0.6682\n",
            "Epoch 80/100\n",
            " - 0s - loss: 0.1608 - acc: 0.9416 - val_loss: 1.9152 - val_acc: 0.6861\n",
            "Epoch 81/100\n",
            " - 0s - loss: 0.1506 - acc: 0.9476 - val_loss: 2.0544 - val_acc: 0.6457\n",
            "Epoch 82/100\n",
            " - 0s - loss: 0.1418 - acc: 0.9530 - val_loss: 2.1771 - val_acc: 0.6951\n",
            "Epoch 83/100\n",
            " - 0s - loss: 0.1551 - acc: 0.9510 - val_loss: 2.0115 - val_acc: 0.6457\n",
            "Epoch 84/100\n",
            " - 0s - loss: 0.1414 - acc: 0.9515 - val_loss: 1.9769 - val_acc: 0.6816\n",
            "Epoch 85/100\n",
            " - 0s - loss: 0.1443 - acc: 0.9550 - val_loss: 1.9826 - val_acc: 0.6906\n",
            "Epoch 86/100\n",
            " - 0s - loss: 0.1379 - acc: 0.9510 - val_loss: 2.1328 - val_acc: 0.6413\n",
            "Epoch 87/100\n",
            " - 0s - loss: 0.1352 - acc: 0.9560 - val_loss: 1.9454 - val_acc: 0.6771\n",
            "Epoch 88/100\n",
            " - 0s - loss: 0.1352 - acc: 0.9515 - val_loss: 1.9896 - val_acc: 0.6906\n",
            "Epoch 89/100\n",
            " - 0s - loss: 0.1381 - acc: 0.9560 - val_loss: 1.9639 - val_acc: 0.6726\n",
            "Epoch 90/100\n",
            " - 0s - loss: 0.1335 - acc: 0.9565 - val_loss: 2.0477 - val_acc: 0.7220\n",
            "Epoch 91/100\n",
            " - 0s - loss: 0.1257 - acc: 0.9610 - val_loss: 2.0446 - val_acc: 0.6861\n",
            "Epoch 92/100\n",
            " - 0s - loss: 0.1292 - acc: 0.9565 - val_loss: 2.0615 - val_acc: 0.6996\n",
            "Epoch 93/100\n",
            " - 0s - loss: 0.1186 - acc: 0.9585 - val_loss: 2.0766 - val_acc: 0.6726\n",
            "Epoch 94/100\n",
            " - 0s - loss: 0.1222 - acc: 0.9595 - val_loss: 2.0342 - val_acc: 0.6771\n",
            "Epoch 95/100\n",
            " - 0s - loss: 0.1191 - acc: 0.9580 - val_loss: 2.1302 - val_acc: 0.6682\n",
            "Epoch 96/100\n",
            " - 0s - loss: 0.1200 - acc: 0.9605 - val_loss: 2.1501 - val_acc: 0.6457\n",
            "Epoch 97/100\n",
            " - 0s - loss: 0.1170 - acc: 0.9590 - val_loss: 2.0878 - val_acc: 0.6637\n",
            "Epoch 98/100\n",
            " - 0s - loss: 0.1054 - acc: 0.9640 - val_loss: 2.1530 - val_acc: 0.6861\n",
            "Epoch 99/100\n",
            " - 0s - loss: 0.1179 - acc: 0.9620 - val_loss: 2.2547 - val_acc: 0.6906\n",
            "Epoch 100/100\n",
            " - 0s - loss: 0.1158 - acc: 0.9640 - val_loss: 2.2133 - val_acc: 0.6771\n"
          ],
          "name": "stdout"
        }
      ]
    },
    {
      "cell_type": "code",
      "metadata": {
        "id": "T-Ml8prRUCdP",
        "colab_type": "code",
        "colab": {}
      },
      "source": [
        "import matplotlib.pyplot as plt"
      ],
      "execution_count": 0,
      "outputs": []
    },
    {
      "cell_type": "code",
      "metadata": {
        "id": "0uwMmMRDTVN0",
        "colab_type": "code",
        "colab": {
          "base_uri": "https://localhost:8080/",
          "height": 408
        },
        "outputId": "5cb7a9cb-e796-4fb6-b391-700aea050928"
      },
      "source": [
        "plt.style.use(\"ggplot\")\n",
        "plt.figure(figsize=(9, 6))\n",
        "N = 100\n",
        "\n",
        "plt.plot(np.arange(0, N), H.history[\"loss\"], label=\"train_loss\")\n",
        "plt.plot(np.arange(0, N), H.history[\"val_loss\"], label=\"val_loss\")\n",
        "plt.plot(np.arange(0, N), H.history[\"acc\"], label=\"train_acc\")\n",
        "plt.plot(np.arange(0, N), H.history[\"val_acc\"], label=\"val_acc\")\n",
        "\n",
        "plt.title(\"Training Loss and Accuracy News Header Classfication\")\n",
        "plt.xlabel('Epoch #')\n",
        "plt.ylabel(\"Loss/Accuracy\")\n",
        "plt.legend(loc=\"lower left\")\n",
        "plt.show()"
      ],
      "execution_count": 125,
      "outputs": [
        {
          "output_type": "display_data",
          "data": {
            "image/png": "[encoded data removed]",
            "text/plain": [
              "<Figure size 648x432 with 1 Axes>"
            ]
          },
          "metadata": {
            "tags": []
          }
        }
      ]
    },
    {
      "cell_type": "code",
      "metadata": {
        "id": "HI8QsSQIUAOJ",
        "colab_type": "code",
        "colab": {}
      },
      "source": [
        "from keras.utils import plot_model"
      ],
      "execution_count": 0,
      "outputs": []
    },
    {
      "cell_type": "code",
      "metadata": {
        "id": "tFmJ3f51Z-_k",
        "colab_type": "code",
        "colab": {}
      },
      "source": [
        "plot_model(net, to_file='model.png')"
      ],
      "execution_count": 0,
      "outputs": []
    }
  ]
}