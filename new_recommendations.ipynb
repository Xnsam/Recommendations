{
  "nbformat": 4,
  "nbformat_minor": 0,
  "metadata": {
    "colab": {
      "name": "new_recommendations.ipynb",
      "version": "0.3.2",
      "provenance": [],
      "collapsed_sections": [],
      "toc_visible": true
    },
    "kernelspec": {
      "name": "python3",
      "display_name": "Python 3"
    }
  },
  "cells": [
    {
      "cell_type": "markdown",
      "metadata": {
        "id": "MIVKQZyj8bWw",
        "colab_type": "text"
      },
      "source": [
        "# Set up"
      ]
    },
    {
      "cell_type": "code",
      "metadata": {
        "id": "-ghDGiSB8Xw5",
        "colab_type": "code",
        "outputId": "1b1ee2bd-2f4a-4183-b29a-9953c37f262a",
        "colab": {
          "base_uri": "https://localhost:8080/",
          "height": 204
        }
      },
      "source": [
        "!wget http://mlg.ucd.ie/files/datasets/bbc-fulltext.zip"
      ],
      "execution_count": 0,
      "outputs": [
        {
          "output_type": "stream",
          "text": [
            "--2019-05-29 05:30:15--  http://mlg.ucd.ie/files/datasets/bbc-fulltext.zip\n",
            "Resolving mlg.ucd.ie (mlg.ucd.ie)... 137.43.92.206\n",
            "Connecting to mlg.ucd.ie (mlg.ucd.ie)|137.43.92.206|:80... connected.\n",
            "HTTP request sent, awaiting response... 200 OK\n",
            "Length: 2874078 (2.7M) [application/zip]\n",
            "Saving to: ‘bbc-fulltext.zip’\n",
            "\n",
            "bbc-fulltext.zip    100%[===================>]   2.74M   595KB/s    in 4.7s    \n",
            "\n",
            "2019-05-29 05:30:25 (595 KB/s) - ‘bbc-fulltext.zip’ saved [2874078/2874078]\n",
            "\n"
          ],
          "name": "stdout"
        }
      ]
    },
    {
      "cell_type": "code",
      "metadata": {
        "id": "K1OOUiWj8lzZ",
        "colab_type": "code",
        "colab": {}
      },
      "source": [
        "!mkdir news_data\n",
        "!unzip -d news_data/ bbc-fulltext.zip"
      ],
      "execution_count": 0,
      "outputs": []
    },
    {
      "cell_type": "code",
      "metadata": {
        "id": "4jSDo28E9U4M",
        "colab_type": "code",
        "colab": {}
      },
      "source": [
        "!pip install --quiet gensim"
      ],
      "execution_count": 0,
      "outputs": []
    },
    {
      "cell_type": "markdown",
      "metadata": {
        "id": "6fxoruZz9OnZ",
        "colab_type": "text"
      },
      "source": [
        "# Recommendation using word2vecs"
      ]
    },
    {
      "cell_type": "markdown",
      "metadata": {
        "id": "mta8uzi1BX7c",
        "colab_type": "text"
      },
      "source": [
        "**Recommend the news based on the headlines context**"
      ]
    },
    {
      "cell_type": "code",
      "metadata": {
        "id": "aKowfNJS9Fx7",
        "colab_type": "code",
        "colab": {}
      },
      "source": [
        "from gensim.models import Word2Vec\n",
        "import glob\n",
        "import pandas as pd\n",
        "import numpy as np"
      ],
      "execution_count": 0,
      "outputs": []
    },
    {
      "cell_type": "code",
      "metadata": {
        "id": "uHldMsAc98aJ",
        "colab_type": "code",
        "colab": {}
      },
      "source": [
        "!rm news_data/bbc/README.TXT"
      ],
      "execution_count": 0,
      "outputs": []
    },
    {
      "cell_type": "code",
      "metadata": {
        "id": "wpTT7iC49sZw",
        "colab_type": "code",
        "colab": {}
      },
      "source": [
        "dir_path = 'news_data/bbc/*/*'\n",
        "\n",
        "data_paths = glob.glob(dir_path)"
      ],
      "execution_count": 0,
      "outputs": []
    },
    {
      "cell_type": "code",
      "metadata": {
        "id": "3adqx8lb-nJI",
        "colab_type": "code",
        "outputId": "3db32847-9835-4054-c27c-ef64e8e3c3c3",
        "colab": {
          "base_uri": "https://localhost:8080/",
          "height": 102
        }
      },
      "source": [
        "data_paths[:5]"
      ],
      "execution_count": 0,
      "outputs": [
        {
          "output_type": "execute_result",
          "data": {
            "text/plain": [
              "['news_data/bbc/sport/260.txt',\n",
              " 'news_data/bbc/sport/463.txt',\n",
              " 'news_data/bbc/sport/143.txt',\n",
              " 'news_data/bbc/sport/020.txt',\n",
              " 'news_data/bbc/sport/018.txt']"
            ]
          },
          "metadata": {
            "tags": []
          },
          "execution_count": 7
        }
      ]
    },
    {
      "cell_type": "code",
      "metadata": {
        "id": "i4QyXRIC-pOQ",
        "colab_type": "code",
        "outputId": "45ef97b3-15b9-40ee-aa18-4b23b7b02be9",
        "colab": {
          "base_uri": "https://localhost:8080/",
          "height": 102
        }
      },
      "source": [
        "np.random.seed(0)\n",
        "np.random.shuffle(data_paths)\n",
        "data_paths[:5]"
      ],
      "execution_count": 0,
      "outputs": [
        {
          "output_type": "execute_result",
          "data": {
            "text/plain": [
              "['news_data/bbc/sport/013.txt',\n",
              " 'news_data/bbc/politics/086.txt',\n",
              " 'news_data/bbc/business/353.txt',\n",
              " 'news_data/bbc/business/387.txt',\n",
              " 'news_data/bbc/business/452.txt']"
            ]
          },
          "metadata": {
            "tags": []
          },
          "execution_count": 8
        }
      ]
    },
    {
      "cell_type": "code",
      "metadata": {
        "id": "yfF6OkprB_QE",
        "colab_type": "code",
        "outputId": "4d1cd413-8b20-4f4e-9883-ff21bced7d9d",
        "colab": {
          "base_uri": "https://localhost:8080/",
          "height": 34
        }
      },
      "source": [
        "data_paths[0].split('/')[-2]"
      ],
      "execution_count": 0,
      "outputs": [
        {
          "output_type": "execute_result",
          "data": {
            "text/plain": [
              "'sport'"
            ]
          },
          "metadata": {
            "tags": []
          },
          "execution_count": 9
        }
      ]
    },
    {
      "cell_type": "code",
      "metadata": {
        "id": "LZ2_vklB-wMB",
        "colab_type": "code",
        "colab": {}
      },
      "source": [
        "headings = []\n",
        "\n",
        "for file_path in data_paths:\n",
        "  with open(file_path, 'r', encoding=\"latin-1\") as f:\n",
        "    for line in f:\n",
        "      headings.append((line.strip(), file_path.split('/')[-2] ))\n",
        "      break"
      ],
      "execution_count": 0,
      "outputs": []
    },
    {
      "cell_type": "code",
      "metadata": {
        "id": "nACTn8lJAZyj",
        "colab_type": "code",
        "outputId": "0dc7084c-225c-484f-b768-adb37b7f1297",
        "colab": {
          "base_uri": "https://localhost:8080/",
          "height": 34
        }
      },
      "source": [
        "len(headings)"
      ],
      "execution_count": 0,
      "outputs": [
        {
          "output_type": "execute_result",
          "data": {
            "text/plain": [
              "2225"
            ]
          },
          "metadata": {
            "tags": []
          },
          "execution_count": 11
        }
      ]
    },
    {
      "cell_type": "code",
      "metadata": {
        "id": "uGDMUrcVAZoE",
        "colab_type": "code",
        "outputId": "01a8060c-7f61-47b7-9a66-ce43615ad5ba",
        "colab": {
          "base_uri": "https://localhost:8080/",
          "height": 102
        }
      },
      "source": [
        "headings[:5]"
      ],
      "execution_count": 0,
      "outputs": [
        {
          "output_type": "execute_result",
          "data": {
            "text/plain": [
              "[(\"Kenya lift Chepkemei's suspension\", 'sport'),\n",
              " ('Howard backs stem cell research', 'politics'),\n",
              " ('Giant waves damage S Asia economy', 'business'),\n",
              " ('Germany nears 1990 jobless level', 'business'),\n",
              " (\"McDonald's boss Bell dies aged 44\", 'business')]"
            ]
          },
          "metadata": {
            "tags": []
          },
          "execution_count": 12
        }
      ]
    },
    {
      "cell_type": "code",
      "metadata": {
        "id": "06lfHMGNAZRy",
        "colab_type": "code",
        "outputId": "cc17fe8c-0a7e-4690-cbbc-e22ad1a508e9",
        "colab": {
          "base_uri": "https://localhost:8080/",
          "height": 34
        }
      },
      "source": [
        "data = []\n",
        "labels = []\n",
        "for i in headings:\n",
        "  heading, label = i[0], i[1]\n",
        "  data.append(heading)\n",
        "  labels.append(label)\n",
        "\n",
        "data[0], labels[0]"
      ],
      "execution_count": 0,
      "outputs": [
        {
          "output_type": "execute_result",
          "data": {
            "text/plain": [
              "(\"Kenya lift Chepkemei's suspension\", 'sport')"
            ]
          },
          "metadata": {
            "tags": []
          },
          "execution_count": 27
        }
      ]
    },
    {
      "cell_type": "code",
      "metadata": {
        "id": "a1sN_kqqB4rS",
        "colab_type": "code",
        "outputId": "2e429a7e-6f8e-492c-bcf9-e10170988162",
        "colab": {
          "base_uri": "https://localhost:8080/",
          "height": 119
        }
      },
      "source": [
        "data = [i.lower().split() for i in data]\n",
        "data[:5], labels[:5]"
      ],
      "execution_count": 0,
      "outputs": [
        {
          "output_type": "execute_result",
          "data": {
            "text/plain": [
              "([['kenya', 'lift', \"chepkemei's\", 'suspension'],\n",
              "  ['howard', 'backs', 'stem', 'cell', 'research'],\n",
              "  ['giant', 'waves', 'damage', 's', 'asia', 'economy'],\n",
              "  ['germany', 'nears', '1990', 'jobless', 'level'],\n",
              "  [\"mcdonald's\", 'boss', 'bell', 'dies', 'aged', '44']],\n",
              " ['sport', 'politics', 'business', 'business', 'business'])"
            ]
          },
          "metadata": {
            "tags": []
          },
          "execution_count": 43
        }
      ]
    },
    {
      "cell_type": "code",
      "metadata": {
        "id": "x1Qkk638EtCd",
        "colab_type": "code",
        "colab": {}
      },
      "source": [
        "model = Word2Vec(data, window=5, min_count=1, size=50)"
      ],
      "execution_count": 0,
      "outputs": []
    },
    {
      "cell_type": "code",
      "metadata": {
        "id": "K5M8_ahFFBoR",
        "colab_type": "code",
        "outputId": "78b74ee3-e7e8-4bd1-c9e0-d4fa7bef8945",
        "colab": {
          "base_uri": "https://localhost:8080/",
          "height": 34
        }
      },
      "source": [
        "model.train(data, total_examples=len(data), epochs=100)"
      ],
      "execution_count": 0,
      "outputs": [
        {
          "output_type": "execute_result",
          "data": {
            "text/plain": [
              "(1071933, 1158000)"
            ]
          },
          "metadata": {
            "tags": []
          },
          "execution_count": 45
        }
      ]
    },
    {
      "cell_type": "code",
      "metadata": {
        "id": "XNv7FkApFIQA",
        "colab_type": "code",
        "outputId": "b4c3e9d9-72c8-490f-c0ae-d5051eff2333",
        "colab": {
          "base_uri": "https://localhost:8080/",
          "height": 71
        }
      },
      "source": [
        "predictions = model.wv.most_similar(data[0], topn=5)"
      ],
      "execution_count": 0,
      "outputs": [
        {
          "output_type": "stream",
          "text": [
            "/usr/local/lib/python3.6/dist-packages/gensim/matutils.py:737: FutureWarning: Conversion of the second argument of issubdtype from `int` to `np.signedinteger` is deprecated. In future, it will be treated as `np.int64 == np.dtype(int).type`.\n",
            "  if np.issubdtype(vec.dtype, np.int):\n"
          ],
          "name": "stderr"
        }
      ]
    },
    {
      "cell_type": "code",
      "metadata": {
        "id": "eyp_b6guFRfb",
        "colab_type": "code",
        "outputId": "e1b627ba-c584-4ed1-cffa-0fb9943c88d8",
        "colab": {
          "base_uri": "https://localhost:8080/",
          "height": 102
        }
      },
      "source": [
        "predictions"
      ],
      "execution_count": 0,
      "outputs": [
        {
          "output_type": "execute_result",
          "data": {
            "text/plain": [
              "[(\"den's\", 0.9715946912765503),\n",
              " ('dirty', 0.9701681137084961),\n",
              " ('demise', 0.9695280194282532),\n",
              " ('emerging', 0.958913266658783),\n",
              " ('concerts', 0.9572998881340027)]"
            ]
          },
          "metadata": {
            "tags": []
          },
          "execution_count": 47
        }
      ]
    },
    {
      "cell_type": "code",
      "metadata": {
        "id": "DO8LuuLsFRc-",
        "colab_type": "code",
        "outputId": "e88c0a32-e81a-4356-ba5e-ff0ac914816d",
        "colab": {
          "base_uri": "https://localhost:8080/",
          "height": 34
        }
      },
      "source": [
        "p = [i[0] for i in predictions]\n",
        "p"
      ],
      "execution_count": 0,
      "outputs": [
        {
          "output_type": "execute_result",
          "data": {
            "text/plain": [
              "[\"den's\", 'dirty', 'demise', 'emerging', 'concerts']"
            ]
          },
          "metadata": {
            "tags": []
          },
          "execution_count": 48
        }
      ]
    },
    {
      "cell_type": "code",
      "metadata": {
        "id": "ZTsdJ1wAINSI",
        "colab_type": "code",
        "outputId": "86076ae4-00c0-4b02-a4d0-b679ecceee90",
        "colab": {
          "base_uri": "https://localhost:8080/",
          "height": 122
        }
      },
      "source": [
        "rand_ind = np.random.randint(0, len(data))\n",
        "print(data[rand_ind], labels[rand_ind])\n",
        "predictions = model.wv.most_similar(data[rand_ind], topn=5)\n",
        "print(predictions)\n",
        "p = [i[0] for i in predictions]\n",
        "print(p)"
      ],
      "execution_count": 0,
      "outputs": [
        {
          "output_type": "stream",
          "text": [
            "['mrs', 'howard', 'gets', 'key', 'election', 'role'] politics\n",
            "[('platform', 0.8960861563682556), ('way,', 0.878477156162262), ('kilroy', 0.8762586712837219), ('cell', 0.8619588613510132), ('really', 0.8613830208778381)]\n",
            "['platform', 'way,', 'kilroy', 'cell', 'really']\n"
          ],
          "name": "stdout"
        },
        {
          "output_type": "stream",
          "text": [
            "/usr/local/lib/python3.6/dist-packages/gensim/matutils.py:737: FutureWarning: Conversion of the second argument of issubdtype from `int` to `np.signedinteger` is deprecated. In future, it will be treated as `np.int64 == np.dtype(int).type`.\n",
            "  if np.issubdtype(vec.dtype, np.int):\n"
          ],
          "name": "stderr"
        }
      ]
    },
    {
      "cell_type": "code",
      "metadata": {
        "id": "5h-0ul3qG-ZI",
        "colab_type": "code",
        "outputId": "af427566-cfef-440d-e784-766382dc9940",
        "colab": {
          "base_uri": "https://localhost:8080/",
          "height": 187
        }
      },
      "source": [
        "for i, v in enumerate(data):\n",
        "  if len(set(v).intersection(set(p))) >= 1:\n",
        "    print(v, labels[i])"
      ],
      "execution_count": 0,
      "outputs": [
        {
          "output_type": "stream",
          "text": [
            "['howard', 'backs', 'stem', 'cell', 'research'] politics\n",
            "['why', 'cell', 'will', 'get', 'the', 'hard', 'sell'] tech\n",
            "['kilroy', 'unveils', 'immigration', 'policy'] politics\n",
            "['what', 'really', 'divides', 'the', 'parties'] politics\n",
            "['what', 'the', 'election', 'should', 'really', 'be', 'about?'] politics\n",
            "['kilroy', 'launches', \"'veritas'\", 'party'] politics\n",
            "['kilroy', 'names', 'election', 'seat', 'target'] politics\n",
            "['kilroy', 'launches', \"'veritas'\", 'party'] politics\n",
            "['uk', 'heading', 'wrong', 'way,', 'says', 'howard'] politics\n",
            "['howard', 'unveils', 'election', 'platform'] politics\n"
          ],
          "name": "stdout"
        }
      ]
    },
    {
      "cell_type": "code",
      "metadata": {
        "id": "jGH8iC09JFuk",
        "colab_type": "code",
        "outputId": "10d5d857-627e-43c6-d932-8b50866f8e05",
        "colab": {
          "base_uri": "https://localhost:8080/",
          "height": 122
        }
      },
      "source": [
        "rand_ind = np.random.randint(0, len(data))\n",
        "print(data[rand_ind], labels[rand_ind])\n",
        "predictions = model.wv.most_similar(data[rand_ind], topn=5)\n",
        "print(predictions)\n",
        "p = [i[0] for i in predictions]\n",
        "print(p)"
      ],
      "execution_count": 0,
      "outputs": [
        {
          "output_type": "stream",
          "text": [
            "['civil', 'servants', 'in', 'strike', 'ballot'] politics\n",
            "[('stalemate', 0.9500486254692078), (\"'make\", 0.9468778371810913), (\"progress'\", 0.940786600112915), ('thousands', 0.9398922324180603), ('grips', 0.9388133883476257)]\n",
            "['stalemate', \"'make\", \"progress'\", 'thousands', 'grips']\n"
          ],
          "name": "stdout"
        },
        {
          "output_type": "stream",
          "text": [
            "/usr/local/lib/python3.6/dist-packages/gensim/matutils.py:737: FutureWarning: Conversion of the second argument of issubdtype from `int` to `np.signedinteger` is deprecated. In future, it will be treated as `np.int64 == np.dtype(int).type`.\n",
            "  if np.issubdtype(vec.dtype, np.int):\n"
          ],
          "name": "stderr"
        }
      ]
    },
    {
      "cell_type": "code",
      "metadata": {
        "id": "4Jsx6rEUJHYn",
        "colab_type": "code",
        "outputId": "7145066d-a924-4d24-f215-1f8ee43d98ea",
        "colab": {
          "base_uri": "https://localhost:8080/",
          "height": 85
        }
      },
      "source": [
        "for i, v in enumerate(data):\n",
        "  if len(set(v).intersection(set(p))) >= 1:\n",
        "    print(v, labels[i])"
      ],
      "execution_count": 0,
      "outputs": [
        {
          "output_type": "stream",
          "text": [
            "['thousands', 'join', 'strike', 'in', 'wales'] politics\n",
            "['stalemate', 'in', 'pension', 'strike', 'talks'] politics\n",
            "['russia', 'wto', 'talks', \"'make\", \"progress'\"] business\n",
            "['train', 'strike', 'grips', 'buenos', 'aires'] business\n"
          ],
          "name": "stdout"
        }
      ]
    },
    {
      "cell_type": "markdown",
      "metadata": {
        "id": "nveWmYJqJSNS",
        "colab_type": "text"
      },
      "source": [
        "I guess it will improve with more data"
      ]
    },
    {
      "cell_type": "markdown",
      "metadata": {
        "id": "C-mJZQx-_r2w",
        "colab_type": "text"
      },
      "source": [
        "# Recommendation using nueral networks"
      ]
    },
    {
      "cell_type": "markdown",
      "metadata": {
        "id": "gSqwmUggL6Le",
        "colab_type": "text"
      },
      "source": [
        "**The idea will be to predict the category of the class and recommend the news as per the class**"
      ]
    },
    {
      "cell_type": "markdown",
      "metadata": {
        "id": "tB13dD-nM_t4",
        "colab_type": "text"
      },
      "source": [
        "## Data processing"
      ]
    },
    {
      "cell_type": "code",
      "metadata": {
        "id": "NnlO1DylMk3j",
        "colab_type": "code",
        "colab": {}
      },
      "source": [
        "from keras.utils import to_categorical\n",
        "from keras.preprocessing.sequence import pad_sequences"
      ],
      "execution_count": 0,
      "outputs": []
    },
    {
      "cell_type": "code",
      "metadata": {
        "id": "OihHowbXNl07",
        "colab_type": "code",
        "colab": {}
      },
      "source": [
        "em_model = model\n",
        "del model"
      ],
      "execution_count": 0,
      "outputs": []
    },
    {
      "cell_type": "code",
      "metadata": {
        "id": "isrNlW3ANlos",
        "colab_type": "code",
        "colab": {
          "base_uri": "https://localhost:8080/",
          "height": 34
        },
        "outputId": "f99a044d-6bc0-4705-9314-79117b21b432"
      },
      "source": [
        "vectorized_data = np.array([em_model.wv[i] for i in data])\n",
        "\n",
        "vectorized_data = pad_sequences(vectorized_data, dtype=np.float64)\n",
        "vectorized_data.shape"
      ],
      "execution_count": 70,
      "outputs": [
        {
          "output_type": "execute_result",
          "data": {
            "text/plain": [
              "(2225, 9, 50)"
            ]
          },
          "metadata": {
            "tags": []
          },
          "execution_count": 70
        }
      ]
    },
    {
      "cell_type": "code",
      "metadata": {
        "id": "dpVa_XZqNlhn",
        "colab_type": "code",
        "colab": {
          "base_uri": "https://localhost:8080/",
          "height": 34
        },
        "outputId": "5d42fa39-5434-45e1-c385-cf8459517bff"
      },
      "source": [
        "label_dict = dict((i, v) for i, v in enumerate(set(labels)))\n",
        "rev_label_dict = dict((v, i) for i, v in zip(label_dict.keys(), label_dict.values()))\n",
        "\n",
        "ohe_labels = to_categorical(np.array([rev_label_dict[i] for i in labels]))\n",
        "ohe_labels.shape"
      ],
      "execution_count": 76,
      "outputs": [
        {
          "output_type": "execute_result",
          "data": {
            "text/plain": [
              "(2225, 5)"
            ]
          },
          "metadata": {
            "tags": []
          },
          "execution_count": 76
        }
      ]
    },
    {
      "cell_type": "code",
      "metadata": {
        "id": "hCeVrXB7PKmA",
        "colab_type": "code",
        "colab": {}
      },
      "source": [
        "from sklearn.model_selection import train_test_split\n",
        "from sklearn.metrics import accuracy_score"
      ],
      "execution_count": 0,
      "outputs": []
    },
    {
      "cell_type": "code",
      "metadata": {
        "id": "FIWCDPiVPKgi",
        "colab_type": "code",
        "colab": {
          "base_uri": "https://localhost:8080/",
          "height": 34
        },
        "outputId": "4aa9d9b7-fc5b-4b1d-da64-6fbc85067914"
      },
      "source": [
        "x_train, x_test, y_train, y_test = train_test_split(vectorized_data, ohe_labels, test_size=0.1, random_state=42)\n",
        "x_train.shape, x_test.shape"
      ],
      "execution_count": 78,
      "outputs": [
        {
          "output_type": "execute_result",
          "data": {
            "text/plain": [
              "((2002, 9, 50), (223, 9, 50))"
            ]
          },
          "metadata": {
            "tags": []
          },
          "execution_count": 78
        }
      ]
    },
    {
      "cell_type": "markdown",
      "metadata": {
        "id": "C3jM_AieNmPr",
        "colab_type": "text"
      },
      "source": [
        "## Model"
      ]
    },
    {
      "cell_type": "code",
      "metadata": {
        "id": "bExhWHsS_vnh",
        "colab_type": "code",
        "colab": {}
      },
      "source": [
        "from keras.models import Model\n",
        "from keras.layers import Conv1D, Input, Dense, Input, Flatten, MaxPooling1D"
      ],
      "execution_count": 0,
      "outputs": []
    },
    {
      "cell_type": "code",
      "metadata": {
        "id": "uHb-l9WWNkIq",
        "colab_type": "code",
        "colab": {}
      },
      "source": [
        "def build_model():\n",
        "  \"\"\"Function to build a model.\"\"\"\n",
        "  \n",
        "  input_shape = x_train.shape[1:]\n",
        "  \n",
        "  input_layer = Input(shape=input_shape, name=\"input_layer\")\n",
        "  x = Conv1D(filters=16, kernel_size=3, strides=1, activation=\"relu\", name=\"layer_1\")(input_layer)\n",
        "  x = MaxPooling1D(2, 1, padding=\"valid\", name=\"max_pool_1\")(x)\n",
        "  \n",
        "  x = Flatten(name=\"flat_1\")(x)\n",
        "  x = Dense(128, activation=\"relu\", name=\"dense_1\")(x)\n",
        "  out_layer = Dense(5, activation=\"softmax\", name=\"prediction_layer\")(x)\n",
        "  \n",
        "  model = Model(\n",
        "      inputs=[input_layer],\n",
        "      outputs=[out_layer]\n",
        "  )\n",
        "  model.compile(optimizer='rmsprop', loss='categorical_crossentropy', metrics=['accuracy'])\n",
        "  return model"
      ],
      "execution_count": 0,
      "outputs": []
    },
    {
      "cell_type": "code",
      "metadata": {
        "id": "8rsCF15NShFl",
        "colab_type": "code",
        "colab": {
          "base_uri": "https://localhost:8080/",
          "height": 340
        },
        "outputId": "40ac928d-5ff6-4d53-be04-5d20e978597d"
      },
      "source": [
        "net = build_model()\n",
        "net.summary()"
      ],
      "execution_count": 93,
      "outputs": [
        {
          "output_type": "stream",
          "text": [
            "_________________________________________________________________\n",
            "Layer (type)                 Output Shape              Param #   \n",
            "=================================================================\n",
            "input_layer (InputLayer)     (None, 9, 50)             0         \n",
            "_________________________________________________________________\n",
            "layer_1 (Conv1D)             (None, 7, 16)             2416      \n",
            "_________________________________________________________________\n",
            "max_pool_1 (MaxPooling1D)    (None, 6, 16)             0         \n",
            "_________________________________________________________________\n",
            "flat_1 (Flatten)             (None, 96)                0         \n",
            "_________________________________________________________________\n",
            "dense_1 (Dense)              (None, 128)               12416     \n",
            "_________________________________________________________________\n",
            "prediction_layer (Dense)     (None, 5)                 645       \n",
            "=================================================================\n",
            "Total params: 15,477\n",
            "Trainable params: 15,477\n",
            "Non-trainable params: 0\n",
            "_________________________________________________________________\n"
          ],
          "name": "stdout"
        }
      ]
    },
    {
      "cell_type": "code",
      "metadata": {
        "id": "9EW2J64KSlOw",
        "colab_type": "code",
        "colab": {
          "base_uri": "https://localhost:8080/",
          "height": 3434
        },
        "outputId": "bc2d5313-9e4d-4c11-fe5e-32fe91b35ff6"
      },
      "source": [
        "H = net.fit(\n",
        "    x_train,\n",
        "    y_train,\n",
        "    validation_split=0.2,\n",
        "    epochs=100,\n",
        "    verbose=2,\n",
        "    shuffle=True\n",
        ")"
      ],
      "execution_count": 94,
      "outputs": [
        {
          "output_type": "stream",
          "text": [
            "Train on 1601 samples, validate on 401 samples\n",
            "Epoch 1/100\n",
            " - 0s - loss: 1.4309 - acc: 0.4072 - val_loss: 1.3176 - val_acc: 0.4738\n",
            "Epoch 2/100\n",
            " - 0s - loss: 1.1794 - acc: 0.5559 - val_loss: 1.2817 - val_acc: 0.4988\n",
            "Epoch 3/100\n",
            " - 0s - loss: 1.0740 - acc: 0.6009 - val_loss: 1.2672 - val_acc: 0.5262\n",
            "Epoch 4/100\n",
            " - 0s - loss: 1.0112 - acc: 0.6140 - val_loss: 1.1726 - val_acc: 0.5536\n",
            "Epoch 5/100\n",
            " - 0s - loss: 0.9527 - acc: 0.6415 - val_loss: 1.1169 - val_acc: 0.5761\n",
            "Epoch 6/100\n",
            " - 0s - loss: 0.9092 - acc: 0.6533 - val_loss: 1.1104 - val_acc: 0.5711\n",
            "Epoch 7/100\n",
            " - 0s - loss: 0.8692 - acc: 0.6790 - val_loss: 1.1959 - val_acc: 0.5411\n",
            "Epoch 8/100\n",
            " - 0s - loss: 0.8383 - acc: 0.6814 - val_loss: 1.0624 - val_acc: 0.6110\n",
            "Epoch 9/100\n",
            " - 0s - loss: 0.8080 - acc: 0.6971 - val_loss: 1.2093 - val_acc: 0.5461\n",
            "Epoch 10/100\n",
            " - 0s - loss: 0.7757 - acc: 0.7127 - val_loss: 1.0704 - val_acc: 0.6085\n",
            "Epoch 11/100\n",
            " - 0s - loss: 0.7468 - acc: 0.7214 - val_loss: 1.1791 - val_acc: 0.5636\n",
            "Epoch 12/100\n",
            " - 0s - loss: 0.7246 - acc: 0.7264 - val_loss: 1.0597 - val_acc: 0.6185\n",
            "Epoch 13/100\n",
            " - 0s - loss: 0.6945 - acc: 0.7439 - val_loss: 1.0351 - val_acc: 0.6409\n",
            "Epoch 14/100\n",
            " - 0s - loss: 0.6741 - acc: 0.7564 - val_loss: 1.2020 - val_acc: 0.5761\n",
            "Epoch 15/100\n",
            " - 0s - loss: 0.6430 - acc: 0.7651 - val_loss: 1.2977 - val_acc: 0.5661\n",
            "Epoch 16/100\n",
            " - 0s - loss: 0.6326 - acc: 0.7645 - val_loss: 1.0845 - val_acc: 0.6209\n",
            "Epoch 17/100\n",
            " - 0s - loss: 0.6107 - acc: 0.7876 - val_loss: 1.1598 - val_acc: 0.5960\n",
            "Epoch 18/100\n",
            " - 0s - loss: 0.5859 - acc: 0.7876 - val_loss: 1.3251 - val_acc: 0.5686\n",
            "Epoch 19/100\n",
            " - 0s - loss: 0.5735 - acc: 0.7989 - val_loss: 1.2298 - val_acc: 0.5910\n",
            "Epoch 20/100\n",
            " - 0s - loss: 0.5636 - acc: 0.7995 - val_loss: 1.1137 - val_acc: 0.6409\n",
            "Epoch 21/100\n",
            " - 0s - loss: 0.5358 - acc: 0.8070 - val_loss: 1.4227 - val_acc: 0.5511\n",
            "Epoch 22/100\n",
            " - 0s - loss: 0.5316 - acc: 0.8101 - val_loss: 1.1830 - val_acc: 0.5935\n",
            "Epoch 23/100\n",
            " - 0s - loss: 0.5030 - acc: 0.8189 - val_loss: 1.2323 - val_acc: 0.6060\n",
            "Epoch 24/100\n",
            " - 0s - loss: 0.4904 - acc: 0.8270 - val_loss: 1.2394 - val_acc: 0.5910\n",
            "Epoch 25/100\n",
            " - 0s - loss: 0.4776 - acc: 0.8314 - val_loss: 1.1956 - val_acc: 0.6035\n",
            "Epoch 26/100\n",
            " - 0s - loss: 0.4652 - acc: 0.8407 - val_loss: 1.2021 - val_acc: 0.6284\n",
            "Epoch 27/100\n",
            " - 0s - loss: 0.4588 - acc: 0.8332 - val_loss: 1.2326 - val_acc: 0.6035\n",
            "Epoch 28/100\n",
            " - 0s - loss: 0.4389 - acc: 0.8532 - val_loss: 1.2326 - val_acc: 0.6060\n",
            "Epoch 29/100\n",
            " - 0s - loss: 0.4227 - acc: 0.8507 - val_loss: 1.2851 - val_acc: 0.6110\n",
            "Epoch 30/100\n",
            " - 0s - loss: 0.4110 - acc: 0.8557 - val_loss: 1.2317 - val_acc: 0.6085\n",
            "Epoch 31/100\n",
            " - 0s - loss: 0.3961 - acc: 0.8607 - val_loss: 1.3292 - val_acc: 0.6185\n",
            "Epoch 32/100\n",
            " - 0s - loss: 0.3878 - acc: 0.8651 - val_loss: 1.3193 - val_acc: 0.6035\n",
            "Epoch 33/100\n",
            " - 0s - loss: 0.3749 - acc: 0.8701 - val_loss: 1.4862 - val_acc: 0.6010\n",
            "Epoch 34/100\n",
            " - 0s - loss: 0.3632 - acc: 0.8782 - val_loss: 1.3605 - val_acc: 0.6259\n",
            "Epoch 35/100\n",
            " - 0s - loss: 0.3529 - acc: 0.8776 - val_loss: 1.3470 - val_acc: 0.6509\n",
            "Epoch 36/100\n",
            " - 0s - loss: 0.3423 - acc: 0.8863 - val_loss: 1.4311 - val_acc: 0.5786\n",
            "Epoch 37/100\n",
            " - 0s - loss: 0.3339 - acc: 0.8851 - val_loss: 1.4045 - val_acc: 0.6135\n",
            "Epoch 38/100\n",
            " - 0s - loss: 0.3249 - acc: 0.8913 - val_loss: 1.4156 - val_acc: 0.6209\n",
            "Epoch 39/100\n",
            " - 0s - loss: 0.3179 - acc: 0.8894 - val_loss: 1.4221 - val_acc: 0.6160\n",
            "Epoch 40/100\n",
            " - 0s - loss: 0.3146 - acc: 0.8944 - val_loss: 1.7327 - val_acc: 0.5636\n",
            "Epoch 41/100\n",
            " - 0s - loss: 0.3048 - acc: 0.8882 - val_loss: 1.4148 - val_acc: 0.6334\n",
            "Epoch 42/100\n",
            " - 0s - loss: 0.2903 - acc: 0.9001 - val_loss: 1.7523 - val_acc: 0.5711\n",
            "Epoch 43/100\n",
            " - 0s - loss: 0.2906 - acc: 0.9007 - val_loss: 1.6637 - val_acc: 0.5985\n",
            "Epoch 44/100\n",
            " - 0s - loss: 0.2779 - acc: 0.9019 - val_loss: 1.4719 - val_acc: 0.6135\n",
            "Epoch 45/100\n",
            " - 0s - loss: 0.2679 - acc: 0.9113 - val_loss: 1.6552 - val_acc: 0.5810\n",
            "Epoch 46/100\n",
            " - 0s - loss: 0.2627 - acc: 0.9101 - val_loss: 1.5574 - val_acc: 0.6209\n",
            "Epoch 47/100\n",
            " - 0s - loss: 0.2498 - acc: 0.9219 - val_loss: 2.2121 - val_acc: 0.5561\n",
            "Epoch 48/100\n",
            " - 0s - loss: 0.2575 - acc: 0.9207 - val_loss: 1.5945 - val_acc: 0.6110\n",
            "Epoch 49/100\n",
            " - 0s - loss: 0.2485 - acc: 0.9151 - val_loss: 1.6876 - val_acc: 0.5960\n",
            "Epoch 50/100\n",
            " - 0s - loss: 0.2407 - acc: 0.9132 - val_loss: 1.5941 - val_acc: 0.6209\n",
            "Epoch 51/100\n",
            " - 0s - loss: 0.2283 - acc: 0.9282 - val_loss: 1.8352 - val_acc: 0.6035\n",
            "Epoch 52/100\n",
            " - 0s - loss: 0.2221 - acc: 0.9300 - val_loss: 1.7141 - val_acc: 0.6209\n",
            "Epoch 53/100\n",
            " - 0s - loss: 0.2141 - acc: 0.9307 - val_loss: 1.8861 - val_acc: 0.6110\n",
            "Epoch 54/100\n",
            " - 0s - loss: 0.2115 - acc: 0.9382 - val_loss: 1.7902 - val_acc: 0.6060\n",
            "Epoch 55/100\n",
            " - 0s - loss: 0.2106 - acc: 0.9357 - val_loss: 1.6874 - val_acc: 0.6160\n",
            "Epoch 56/100\n",
            " - 0s - loss: 0.2006 - acc: 0.9300 - val_loss: 2.1049 - val_acc: 0.5686\n",
            "Epoch 57/100\n",
            " - 0s - loss: 0.2062 - acc: 0.9357 - val_loss: 2.1514 - val_acc: 0.5636\n",
            "Epoch 58/100\n",
            " - 0s - loss: 0.1953 - acc: 0.9350 - val_loss: 1.8097 - val_acc: 0.6160\n",
            "Epoch 59/100\n",
            " - 0s - loss: 0.1883 - acc: 0.9407 - val_loss: 1.8496 - val_acc: 0.6110\n",
            "Epoch 60/100\n",
            " - 0s - loss: 0.1865 - acc: 0.9438 - val_loss: 2.0101 - val_acc: 0.5960\n",
            "Epoch 61/100\n",
            " - 0s - loss: 0.1776 - acc: 0.9432 - val_loss: 1.8615 - val_acc: 0.6185\n",
            "Epoch 62/100\n",
            " - 0s - loss: 0.1729 - acc: 0.9438 - val_loss: 1.8701 - val_acc: 0.6209\n",
            "Epoch 63/100\n",
            " - 0s - loss: 0.1686 - acc: 0.9475 - val_loss: 2.1712 - val_acc: 0.6035\n",
            "Epoch 64/100\n",
            " - 0s - loss: 0.1685 - acc: 0.9488 - val_loss: 2.1139 - val_acc: 0.6010\n",
            "Epoch 65/100\n",
            " - 0s - loss: 0.1614 - acc: 0.9507 - val_loss: 1.9136 - val_acc: 0.6185\n",
            "Epoch 66/100\n",
            " - 0s - loss: 0.1578 - acc: 0.9563 - val_loss: 1.9484 - val_acc: 0.6185\n",
            "Epoch 67/100\n",
            " - 0s - loss: 0.1564 - acc: 0.9532 - val_loss: 1.9433 - val_acc: 0.6309\n",
            "Epoch 68/100\n",
            " - 0s - loss: 0.1513 - acc: 0.9550 - val_loss: 1.9952 - val_acc: 0.6234\n",
            "Epoch 69/100\n",
            " - 0s - loss: 0.1507 - acc: 0.9538 - val_loss: 1.9172 - val_acc: 0.6459\n",
            "Epoch 70/100\n",
            " - 0s - loss: 0.1410 - acc: 0.9563 - val_loss: 1.9679 - val_acc: 0.6284\n",
            "Epoch 71/100\n",
            " - 0s - loss: 0.1421 - acc: 0.9569 - val_loss: 1.9470 - val_acc: 0.6359\n",
            "Epoch 72/100\n",
            " - 0s - loss: 0.1358 - acc: 0.9625 - val_loss: 2.5362 - val_acc: 0.5761\n",
            "Epoch 73/100\n",
            " - 0s - loss: 0.1374 - acc: 0.9594 - val_loss: 2.3702 - val_acc: 0.5860\n",
            "Epoch 74/100\n",
            " - 0s - loss: 0.1311 - acc: 0.9631 - val_loss: 2.2160 - val_acc: 0.6085\n",
            "Epoch 75/100\n",
            " - 0s - loss: 0.1237 - acc: 0.9631 - val_loss: 2.0513 - val_acc: 0.6284\n",
            "Epoch 76/100\n",
            " - 0s - loss: 0.1205 - acc: 0.9644 - val_loss: 2.1558 - val_acc: 0.6234\n",
            "Epoch 77/100\n",
            " - 0s - loss: 0.1191 - acc: 0.9681 - val_loss: 2.3418 - val_acc: 0.6085\n",
            "Epoch 78/100\n",
            " - 0s - loss: 0.1158 - acc: 0.9663 - val_loss: 2.1479 - val_acc: 0.6234\n",
            "Epoch 79/100\n",
            " - 0s - loss: 0.1133 - acc: 0.9694 - val_loss: 2.2234 - val_acc: 0.6284\n",
            "Epoch 80/100\n",
            " - 0s - loss: 0.1149 - acc: 0.9656 - val_loss: 2.1241 - val_acc: 0.6434\n",
            "Epoch 81/100\n",
            " - 0s - loss: 0.1087 - acc: 0.9719 - val_loss: 2.2036 - val_acc: 0.6309\n",
            "Epoch 82/100\n",
            " - 0s - loss: 0.1034 - acc: 0.9700 - val_loss: 2.2291 - val_acc: 0.6284\n",
            "Epoch 83/100\n",
            " - 0s - loss: 0.1057 - acc: 0.9700 - val_loss: 2.5766 - val_acc: 0.5960\n",
            "Epoch 84/100\n",
            " - 0s - loss: 0.1001 - acc: 0.9744 - val_loss: 2.5810 - val_acc: 0.6035\n",
            "Epoch 85/100\n",
            " - 0s - loss: 0.1055 - acc: 0.9669 - val_loss: 2.2376 - val_acc: 0.6209\n",
            "Epoch 86/100\n",
            " - 0s - loss: 0.0988 - acc: 0.9719 - val_loss: 2.2848 - val_acc: 0.6259\n",
            "Epoch 87/100\n",
            " - 0s - loss: 0.0931 - acc: 0.9744 - val_loss: 2.2660 - val_acc: 0.6359\n",
            "Epoch 88/100\n",
            " - 0s - loss: 0.0912 - acc: 0.9750 - val_loss: 2.4844 - val_acc: 0.6060\n",
            "Epoch 89/100\n",
            " - 0s - loss: 0.0909 - acc: 0.9738 - val_loss: 2.4626 - val_acc: 0.6160\n",
            "Epoch 90/100\n",
            " - 0s - loss: 0.0911 - acc: 0.9713 - val_loss: 2.3646 - val_acc: 0.6459\n",
            "Epoch 91/100\n",
            " - 0s - loss: 0.0843 - acc: 0.9781 - val_loss: 2.3249 - val_acc: 0.6359\n",
            "Epoch 92/100\n",
            " - 0s - loss: 0.0854 - acc: 0.9781 - val_loss: 2.4042 - val_acc: 0.6284\n",
            "Epoch 93/100\n",
            " - 0s - loss: 0.0770 - acc: 0.9763 - val_loss: 2.3713 - val_acc: 0.6409\n",
            "Epoch 94/100\n",
            " - 0s - loss: 0.0815 - acc: 0.9750 - val_loss: 2.4577 - val_acc: 0.6209\n",
            "Epoch 95/100\n",
            " - 0s - loss: 0.0752 - acc: 0.9756 - val_loss: 2.5850 - val_acc: 0.6110\n",
            "Epoch 96/100\n",
            " - 0s - loss: 0.0708 - acc: 0.9806 - val_loss: 2.5794 - val_acc: 0.6284\n",
            "Epoch 97/100\n",
            " - 0s - loss: 0.0730 - acc: 0.9800 - val_loss: 2.5630 - val_acc: 0.6209\n",
            "Epoch 98/100\n",
            " - 0s - loss: 0.0718 - acc: 0.9788 - val_loss: 2.5197 - val_acc: 0.6309\n",
            "Epoch 99/100\n",
            " - 0s - loss: 0.0702 - acc: 0.9813 - val_loss: 2.5366 - val_acc: 0.6384\n",
            "Epoch 100/100\n",
            " - 0s - loss: 0.0653 - acc: 0.9825 - val_loss: 2.5193 - val_acc: 0.6334\n"
          ],
          "name": "stdout"
        }
      ]
    },
    {
      "cell_type": "code",
      "metadata": {
        "id": "T-Ml8prRUCdP",
        "colab_type": "code",
        "colab": {}
      },
      "source": [
        "import matplotlib.pyplot as plt"
      ],
      "execution_count": 0,
      "outputs": []
    },
    {
      "cell_type": "code",
      "metadata": {
        "id": "0uwMmMRDTVN0",
        "colab_type": "code",
        "colab": {
          "base_uri": "https://localhost:8080/",
          "height": 408
        },
        "outputId": "61b72c37-2b98-4d16-cf38-1344633805d5"
      },
      "source": [
        "plt.style.use(\"ggplot\")\n",
        "plt.figure(figsize=(9, 6))\n",
        "N = 100\n",
        "\n",
        "plt.plot(np.arange(0, N), H.history[\"loss\"], label=\"train_loss\")\n",
        "plt.plot(np.arange(0, N), H.history[\"val_loss\"], label=\"val_loss\")\n",
        "plt.plot(np.arange(0, N), H.history[\"acc\"], label=\"train_acc\")\n",
        "plt.plot(np.arange(0, N), H.history[\"val_acc\"], label=\"val_acc\")\n",
        "\n",
        "plt.title(\"Training Loss and Accuracy News Header Classfication\")\n",
        "plt.xlabel('Epoch #')\n",
        "plt.ylabel(\"Loss/Accuracy\")\n",
        "plt.legend(loc=\"lower left\")\n",
        "plt.show()"
      ],
      "execution_count": 99,
      "outputs": [
        {
          "output_type": "display_data",
          "data": {
            "image/png": "[encoded data removed]",
            "text/plain": [
              "<Figure size 648x432 with 1 Axes>"
            ]
          },
          "metadata": {
            "tags": []
          }
        }
      ]
    },
    {
      "cell_type": "code",
      "metadata": {
        "id": "HI8QsSQIUAOJ",
        "colab_type": "code",
        "colab": {}
      },
      "source": [
        ""
      ],
      "execution_count": 0,
      "outputs": []
    }
  ]
}