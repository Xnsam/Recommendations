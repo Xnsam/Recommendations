{
  "nbformat": 4,
  "nbformat_minor": 0,
  "metadata": {
    "colab": {
      "name": "news_recommendations.ipynb",
      "version": "0.3.2",
      "provenance": [],
      "collapsed_sections": [
        "tB13dD-nM_t4",
        "C3jM_AieNmPr"
      ],
      "toc_visible": true
    },
    "kernelspec": {
      "name": "python3",
      "display_name": "Python 3"
    }
  },
  "cells": [
    {
      "cell_type": "markdown",
      "metadata": {
        "id": "MIVKQZyj8bWw",
        "colab_type": "text"
      },
      "source": [
        "# Set up"
      ]
    },
    {
      "cell_type": "code",
      "metadata": {
        "id": "-ghDGiSB8Xw5",
        "colab_type": "code",
        "outputId": "1b1ee2bd-2f4a-4183-b29a-9953c37f262a",
        "colab": {
          "base_uri": "https://localhost:8080/",
          "height": 204
        }
      },
      "source": [
        "!wget http://mlg.ucd.ie/files/datasets/bbc-fulltext.zip"
      ],
      "execution_count": 0,
      "outputs": [
        {
          "output_type": "stream",
          "text": [
            "--2019-05-29 05:30:15--  http://mlg.ucd.ie/files/datasets/bbc-fulltext.zip\n",
            "Resolving mlg.ucd.ie (mlg.ucd.ie)... 137.43.92.206\n",
            "Connecting to mlg.ucd.ie (mlg.ucd.ie)|137.43.92.206|:80... connected.\n",
            "HTTP request sent, awaiting response... 200 OK\n",
            "Length: 2874078 (2.7M) [application/zip]\n",
            "Saving to: ‘bbc-fulltext.zip’\n",
            "\n",
            "bbc-fulltext.zip    100%[===================>]   2.74M   595KB/s    in 4.7s    \n",
            "\n",
            "2019-05-29 05:30:25 (595 KB/s) - ‘bbc-fulltext.zip’ saved [2874078/2874078]\n",
            "\n"
          ],
          "name": "stdout"
        }
      ]
    },
    {
      "cell_type": "code",
      "metadata": {
        "id": "K1OOUiWj8lzZ",
        "colab_type": "code",
        "colab": {}
      },
      "source": [
        "!mkdir news_data\n",
        "!unzip -d news_data/ bbc-fulltext.zip"
      ],
      "execution_count": 0,
      "outputs": []
    },
    {
      "cell_type": "code",
      "metadata": {
        "id": "4jSDo28E9U4M",
        "colab_type": "code",
        "colab": {}
      },
      "source": [
        "!pip install --quiet gensim"
      ],
      "execution_count": 0,
      "outputs": []
    },
    {
      "cell_type": "markdown",
      "metadata": {
        "id": "6fxoruZz9OnZ",
        "colab_type": "text"
      },
      "source": [
        "# Recommendation using word2vecs"
      ]
    },
    {
      "cell_type": "markdown",
      "metadata": {
        "id": "mta8uzi1BX7c",
        "colab_type": "text"
      },
      "source": [
        "**Recommend the news based on the headlines context**"
      ]
    },
    {
      "cell_type": "code",
      "metadata": {
        "id": "aKowfNJS9Fx7",
        "colab_type": "code",
        "colab": {}
      },
      "source": [
        "from gensim.models import Word2Vec\n",
        "import glob\n",
        "import pandas as pd\n",
        "import numpy as np"
      ],
      "execution_count": 0,
      "outputs": []
    },
    {
      "cell_type": "code",
      "metadata": {
        "id": "uHldMsAc98aJ",
        "colab_type": "code",
        "colab": {}
      },
      "source": [
        "!rm news_data/bbc/README.TXT"
      ],
      "execution_count": 0,
      "outputs": []
    },
    {
      "cell_type": "code",
      "metadata": {
        "id": "wpTT7iC49sZw",
        "colab_type": "code",
        "colab": {}
      },
      "source": [
        "dir_path = 'news_data/bbc/*/*'\n",
        "\n",
        "data_paths = glob.glob(dir_path)"
      ],
      "execution_count": 0,
      "outputs": []
    },
    {
      "cell_type": "code",
      "metadata": {
        "id": "3adqx8lb-nJI",
        "colab_type": "code",
        "outputId": "3db32847-9835-4054-c27c-ef64e8e3c3c3",
        "colab": {
          "base_uri": "https://localhost:8080/",
          "height": 102
        }
      },
      "source": [
        "data_paths[:5]"
      ],
      "execution_count": 0,
      "outputs": [
        {
          "output_type": "execute_result",
          "data": {
            "text/plain": [
              "['news_data/bbc/sport/260.txt',\n",
              " 'news_data/bbc/sport/463.txt',\n",
              " 'news_data/bbc/sport/143.txt',\n",
              " 'news_data/bbc/sport/020.txt',\n",
              " 'news_data/bbc/sport/018.txt']"
            ]
          },
          "metadata": {
            "tags": []
          },
          "execution_count": 7
        }
      ]
    },
    {
      "cell_type": "code",
      "metadata": {
        "id": "i4QyXRIC-pOQ",
        "colab_type": "code",
        "outputId": "45ef97b3-15b9-40ee-aa18-4b23b7b02be9",
        "colab": {
          "base_uri": "https://localhost:8080/",
          "height": 102
        }
      },
      "source": [
        "np.random.seed(0)\n",
        "np.random.shuffle(data_paths)\n",
        "data_paths[:5]"
      ],
      "execution_count": 0,
      "outputs": [
        {
          "output_type": "execute_result",
          "data": {
            "text/plain": [
              "['news_data/bbc/sport/013.txt',\n",
              " 'news_data/bbc/politics/086.txt',\n",
              " 'news_data/bbc/business/353.txt',\n",
              " 'news_data/bbc/business/387.txt',\n",
              " 'news_data/bbc/business/452.txt']"
            ]
          },
          "metadata": {
            "tags": []
          },
          "execution_count": 8
        }
      ]
    },
    {
      "cell_type": "code",
      "metadata": {
        "id": "yfF6OkprB_QE",
        "colab_type": "code",
        "outputId": "4d1cd413-8b20-4f4e-9883-ff21bced7d9d",
        "colab": {
          "base_uri": "https://localhost:8080/",
          "height": 34
        }
      },
      "source": [
        "data_paths[0].split('/')[-2]"
      ],
      "execution_count": 0,
      "outputs": [
        {
          "output_type": "execute_result",
          "data": {
            "text/plain": [
              "'sport'"
            ]
          },
          "metadata": {
            "tags": []
          },
          "execution_count": 9
        }
      ]
    },
    {
      "cell_type": "code",
      "metadata": {
        "id": "LZ2_vklB-wMB",
        "colab_type": "code",
        "colab": {}
      },
      "source": [
        "headings = []\n",
        "\n",
        "for file_path in data_paths:\n",
        "  with open(file_path, 'r', encoding=\"latin-1\") as f:\n",
        "    for line in f:\n",
        "      headings.append((line.strip(), file_path.split('/')[-2] ))\n",
        "      break"
      ],
      "execution_count": 0,
      "outputs": []
    },
    {
      "cell_type": "code",
      "metadata": {
        "id": "nACTn8lJAZyj",
        "colab_type": "code",
        "outputId": "0dc7084c-225c-484f-b768-adb37b7f1297",
        "colab": {
          "base_uri": "https://localhost:8080/",
          "height": 34
        }
      },
      "source": [
        "len(headings)"
      ],
      "execution_count": 0,
      "outputs": [
        {
          "output_type": "execute_result",
          "data": {
            "text/plain": [
              "2225"
            ]
          },
          "metadata": {
            "tags": []
          },
          "execution_count": 11
        }
      ]
    },
    {
      "cell_type": "code",
      "metadata": {
        "id": "uGDMUrcVAZoE",
        "colab_type": "code",
        "outputId": "01a8060c-7f61-47b7-9a66-ce43615ad5ba",
        "colab": {
          "base_uri": "https://localhost:8080/",
          "height": 102
        }
      },
      "source": [
        "headings[:5]"
      ],
      "execution_count": 0,
      "outputs": [
        {
          "output_type": "execute_result",
          "data": {
            "text/plain": [
              "[(\"Kenya lift Chepkemei's suspension\", 'sport'),\n",
              " ('Howard backs stem cell research', 'politics'),\n",
              " ('Giant waves damage S Asia economy', 'business'),\n",
              " ('Germany nears 1990 jobless level', 'business'),\n",
              " (\"McDonald's boss Bell dies aged 44\", 'business')]"
            ]
          },
          "metadata": {
            "tags": []
          },
          "execution_count": 12
        }
      ]
    },
    {
      "cell_type": "code",
      "metadata": {
        "id": "06lfHMGNAZRy",
        "colab_type": "code",
        "outputId": "cc17fe8c-0a7e-4690-cbbc-e22ad1a508e9",
        "colab": {
          "base_uri": "https://localhost:8080/",
          "height": 34
        }
      },
      "source": [
        "data = []\n",
        "labels = []\n",
        "for i in headings:\n",
        "  heading, label = i[0], i[1]\n",
        "  data.append(heading)\n",
        "  labels.append(label)\n",
        "\n",
        "data[0], labels[0]"
      ],
      "execution_count": 0,
      "outputs": [
        {
          "output_type": "execute_result",
          "data": {
            "text/plain": [
              "(\"Kenya lift Chepkemei's suspension\", 'sport')"
            ]
          },
          "metadata": {
            "tags": []
          },
          "execution_count": 27
        }
      ]
    },
    {
      "cell_type": "code",
      "metadata": {
        "id": "a1sN_kqqB4rS",
        "colab_type": "code",
        "outputId": "2e429a7e-6f8e-492c-bcf9-e10170988162",
        "colab": {
          "base_uri": "https://localhost:8080/",
          "height": 119
        }
      },
      "source": [
        "data = [i.lower().split() for i in data]\n",
        "data[:5], labels[:5]"
      ],
      "execution_count": 0,
      "outputs": [
        {
          "output_type": "execute_result",
          "data": {
            "text/plain": [
              "([['kenya', 'lift', \"chepkemei's\", 'suspension'],\n",
              "  ['howard', 'backs', 'stem', 'cell', 'research'],\n",
              "  ['giant', 'waves', 'damage', 's', 'asia', 'economy'],\n",
              "  ['germany', 'nears', '1990', 'jobless', 'level'],\n",
              "  [\"mcdonald's\", 'boss', 'bell', 'dies', 'aged', '44']],\n",
              " ['sport', 'politics', 'business', 'business', 'business'])"
            ]
          },
          "metadata": {
            "tags": []
          },
          "execution_count": 43
        }
      ]
    },
    {
      "cell_type": "code",
      "metadata": {
        "id": "x1Qkk638EtCd",
        "colab_type": "code",
        "colab": {}
      },
      "source": [
        "model = Word2Vec(data, window=5, min_count=1, size=50)"
      ],
      "execution_count": 0,
      "outputs": []
    },
    {
      "cell_type": "code",
      "metadata": {
        "id": "K5M8_ahFFBoR",
        "colab_type": "code",
        "outputId": "78b74ee3-e7e8-4bd1-c9e0-d4fa7bef8945",
        "colab": {
          "base_uri": "https://localhost:8080/",
          "height": 34
        }
      },
      "source": [
        "model.train(data, total_examples=len(data), epochs=100)"
      ],
      "execution_count": 0,
      "outputs": [
        {
          "output_type": "execute_result",
          "data": {
            "text/plain": [
              "(1071933, 1158000)"
            ]
          },
          "metadata": {
            "tags": []
          },
          "execution_count": 45
        }
      ]
    },
    {
      "cell_type": "code",
      "metadata": {
        "id": "XNv7FkApFIQA",
        "colab_type": "code",
        "outputId": "b4c3e9d9-72c8-490f-c0ae-d5051eff2333",
        "colab": {
          "base_uri": "https://localhost:8080/",
          "height": 71
        }
      },
      "source": [
        "predictions = model.wv.most_similar(data[0], topn=5)"
      ],
      "execution_count": 0,
      "outputs": [
        {
          "output_type": "stream",
          "text": [
            "/usr/local/lib/python3.6/dist-packages/gensim/matutils.py:737: FutureWarning: Conversion of the second argument of issubdtype from `int` to `np.signedinteger` is deprecated. In future, it will be treated as `np.int64 == np.dtype(int).type`.\n",
            "  if np.issubdtype(vec.dtype, np.int):\n"
          ],
          "name": "stderr"
        }
      ]
    },
    {
      "cell_type": "code",
      "metadata": {
        "id": "eyp_b6guFRfb",
        "colab_type": "code",
        "outputId": "e1b627ba-c584-4ed1-cffa-0fb9943c88d8",
        "colab": {
          "base_uri": "https://localhost:8080/",
          "height": 102
        }
      },
      "source": [
        "predictions"
      ],
      "execution_count": 0,
      "outputs": [
        {
          "output_type": "execute_result",
          "data": {
            "text/plain": [
              "[(\"den's\", 0.9715946912765503),\n",
              " ('dirty', 0.9701681137084961),\n",
              " ('demise', 0.9695280194282532),\n",
              " ('emerging', 0.958913266658783),\n",
              " ('concerts', 0.9572998881340027)]"
            ]
          },
          "metadata": {
            "tags": []
          },
          "execution_count": 47
        }
      ]
    },
    {
      "cell_type": "code",
      "metadata": {
        "id": "DO8LuuLsFRc-",
        "colab_type": "code",
        "outputId": "e88c0a32-e81a-4356-ba5e-ff0ac914816d",
        "colab": {
          "base_uri": "https://localhost:8080/",
          "height": 34
        }
      },
      "source": [
        "p = [i[0] for i in predictions]\n",
        "p"
      ],
      "execution_count": 0,
      "outputs": [
        {
          "output_type": "execute_result",
          "data": {
            "text/plain": [
              "[\"den's\", 'dirty', 'demise', 'emerging', 'concerts']"
            ]
          },
          "metadata": {
            "tags": []
          },
          "execution_count": 48
        }
      ]
    },
    {
      "cell_type": "code",
      "metadata": {
        "id": "ZTsdJ1wAINSI",
        "colab_type": "code",
        "outputId": "86076ae4-00c0-4b02-a4d0-b679ecceee90",
        "colab": {
          "base_uri": "https://localhost:8080/",
          "height": 122
        }
      },
      "source": [
        "rand_ind = np.random.randint(0, len(data))\n",
        "print(data[rand_ind], labels[rand_ind])\n",
        "predictions = model.wv.most_similar(data[rand_ind], topn=5)\n",
        "print(predictions)\n",
        "p = [i[0] for i in predictions]\n",
        "print(p)"
      ],
      "execution_count": 0,
      "outputs": [
        {
          "output_type": "stream",
          "text": [
            "['mrs', 'howard', 'gets', 'key', 'election', 'role'] politics\n",
            "[('platform', 0.8960861563682556), ('way,', 0.878477156162262), ('kilroy', 0.8762586712837219), ('cell', 0.8619588613510132), ('really', 0.8613830208778381)]\n",
            "['platform', 'way,', 'kilroy', 'cell', 'really']\n"
          ],
          "name": "stdout"
        },
        {
          "output_type": "stream",
          "text": [
            "/usr/local/lib/python3.6/dist-packages/gensim/matutils.py:737: FutureWarning: Conversion of the second argument of issubdtype from `int` to `np.signedinteger` is deprecated. In future, it will be treated as `np.int64 == np.dtype(int).type`.\n",
            "  if np.issubdtype(vec.dtype, np.int):\n"
          ],
          "name": "stderr"
        }
      ]
    },
    {
      "cell_type": "code",
      "metadata": {
        "id": "5h-0ul3qG-ZI",
        "colab_type": "code",
        "outputId": "af427566-cfef-440d-e784-766382dc9940",
        "colab": {
          "base_uri": "https://localhost:8080/",
          "height": 187
        }
      },
      "source": [
        "for i, v in enumerate(data):\n",
        "  if len(set(v).intersection(set(p))) >= 1:\n",
        "    print(v, labels[i])"
      ],
      "execution_count": 0,
      "outputs": [
        {
          "output_type": "stream",
          "text": [
            "['howard', 'backs', 'stem', 'cell', 'research'] politics\n",
            "['why', 'cell', 'will', 'get', 'the', 'hard', 'sell'] tech\n",
            "['kilroy', 'unveils', 'immigration', 'policy'] politics\n",
            "['what', 'really', 'divides', 'the', 'parties'] politics\n",
            "['what', 'the', 'election', 'should', 'really', 'be', 'about?'] politics\n",
            "['kilroy', 'launches', \"'veritas'\", 'party'] politics\n",
            "['kilroy', 'names', 'election', 'seat', 'target'] politics\n",
            "['kilroy', 'launches', \"'veritas'\", 'party'] politics\n",
            "['uk', 'heading', 'wrong', 'way,', 'says', 'howard'] politics\n",
            "['howard', 'unveils', 'election', 'platform'] politics\n"
          ],
          "name": "stdout"
        }
      ]
    },
    {
      "cell_type": "code",
      "metadata": {
        "id": "jGH8iC09JFuk",
        "colab_type": "code",
        "outputId": "10d5d857-627e-43c6-d932-8b50866f8e05",
        "colab": {
          "base_uri": "https://localhost:8080/",
          "height": 122
        }
      },
      "source": [
        "rand_ind = np.random.randint(0, len(data))\n",
        "print(data[rand_ind], labels[rand_ind])\n",
        "predictions = model.wv.most_similar(data[rand_ind], topn=5)\n",
        "print(predictions)\n",
        "p = [i[0] for i in predictions]\n",
        "print(p)"
      ],
      "execution_count": 0,
      "outputs": [
        {
          "output_type": "stream",
          "text": [
            "['civil', 'servants', 'in', 'strike', 'ballot'] politics\n",
            "[('stalemate', 0.9500486254692078), (\"'make\", 0.9468778371810913), (\"progress'\", 0.940786600112915), ('thousands', 0.9398922324180603), ('grips', 0.9388133883476257)]\n",
            "['stalemate', \"'make\", \"progress'\", 'thousands', 'grips']\n"
          ],
          "name": "stdout"
        },
        {
          "output_type": "stream",
          "text": [
            "/usr/local/lib/python3.6/dist-packages/gensim/matutils.py:737: FutureWarning: Conversion of the second argument of issubdtype from `int` to `np.signedinteger` is deprecated. In future, it will be treated as `np.int64 == np.dtype(int).type`.\n",
            "  if np.issubdtype(vec.dtype, np.int):\n"
          ],
          "name": "stderr"
        }
      ]
    },
    {
      "cell_type": "code",
      "metadata": {
        "id": "4Jsx6rEUJHYn",
        "colab_type": "code",
        "outputId": "7145066d-a924-4d24-f215-1f8ee43d98ea",
        "colab": {
          "base_uri": "https://localhost:8080/",
          "height": 85
        }
      },
      "source": [
        "for i, v in enumerate(data):\n",
        "  if len(set(v).intersection(set(p))) >= 1:\n",
        "    print(v, labels[i])"
      ],
      "execution_count": 0,
      "outputs": [
        {
          "output_type": "stream",
          "text": [
            "['thousands', 'join', 'strike', 'in', 'wales'] politics\n",
            "['stalemate', 'in', 'pension', 'strike', 'talks'] politics\n",
            "['russia', 'wto', 'talks', \"'make\", \"progress'\"] business\n",
            "['train', 'strike', 'grips', 'buenos', 'aires'] business\n"
          ],
          "name": "stdout"
        }
      ]
    },
    {
      "cell_type": "markdown",
      "metadata": {
        "id": "nveWmYJqJSNS",
        "colab_type": "text"
      },
      "source": [
        "I guess it will improve with more data"
      ]
    },
    {
      "cell_type": "markdown",
      "metadata": {
        "id": "C-mJZQx-_r2w",
        "colab_type": "text"
      },
      "source": [
        "# Recommendation using nueral networks"
      ]
    },
    {
      "cell_type": "markdown",
      "metadata": {
        "id": "gSqwmUggL6Le",
        "colab_type": "text"
      },
      "source": [
        "**The idea will be to predict the category of the class and recommend the news as per the class headline**"
      ]
    },
    {
      "cell_type": "markdown",
      "metadata": {
        "id": "tB13dD-nM_t4",
        "colab_type": "text"
      },
      "source": [
        "## Data processing"
      ]
    },
    {
      "cell_type": "code",
      "metadata": {
        "id": "NnlO1DylMk3j",
        "colab_type": "code",
        "colab": {}
      },
      "source": [
        "from keras.utils import to_categorical\n",
        "from keras.preprocessing.sequence import pad_sequences"
      ],
      "execution_count": 0,
      "outputs": []
    },
    {
      "cell_type": "code",
      "metadata": {
        "id": "OihHowbXNl07",
        "colab_type": "code",
        "colab": {}
      },
      "source": [
        "em_model = model\n",
        "del model"
      ],
      "execution_count": 0,
      "outputs": []
    },
    {
      "cell_type": "code",
      "metadata": {
        "id": "isrNlW3ANlos",
        "colab_type": "code",
        "colab": {
          "base_uri": "https://localhost:8080/",
          "height": 34
        },
        "outputId": "f99a044d-6bc0-4705-9314-79117b21b432"
      },
      "source": [
        "vectorized_data = np.array([em_model.wv[i] for i in data])\n",
        "\n",
        "vectorized_data = pad_sequences(vectorized_data, dtype=np.float64)\n",
        "vectorized_data.shape"
      ],
      "execution_count": 70,
      "outputs": [
        {
          "output_type": "execute_result",
          "data": {
            "text/plain": [
              "(2225, 9, 50)"
            ]
          },
          "metadata": {
            "tags": []
          },
          "execution_count": 70
        }
      ]
    },
    {
      "cell_type": "code",
      "metadata": {
        "id": "dpVa_XZqNlhn",
        "colab_type": "code",
        "colab": {
          "base_uri": "https://localhost:8080/",
          "height": 34
        },
        "outputId": "5d42fa39-5434-45e1-c385-cf8459517bff"
      },
      "source": [
        "label_dict = dict((i, v) for i, v in enumerate(set(labels)))\n",
        "rev_label_dict = dict((v, i) for i, v in zip(label_dict.keys(), label_dict.values()))\n",
        "\n",
        "ohe_labels = to_categorical(np.array([rev_label_dict[i] for i in labels]))\n",
        "ohe_labels.shape"
      ],
      "execution_count": 76,
      "outputs": [
        {
          "output_type": "execute_result",
          "data": {
            "text/plain": [
              "(2225, 5)"
            ]
          },
          "metadata": {
            "tags": []
          },
          "execution_count": 76
        }
      ]
    },
    {
      "cell_type": "code",
      "metadata": {
        "id": "hCeVrXB7PKmA",
        "colab_type": "code",
        "colab": {}
      },
      "source": [
        "from sklearn.model_selection import train_test_split\n",
        "from sklearn.metrics import accuracy_score"
      ],
      "execution_count": 0,
      "outputs": []
    },
    {
      "cell_type": "code",
      "metadata": {
        "id": "FIWCDPiVPKgi",
        "colab_type": "code",
        "colab": {
          "base_uri": "https://localhost:8080/",
          "height": 34
        },
        "outputId": "4aa9d9b7-fc5b-4b1d-da64-6fbc85067914"
      },
      "source": [
        "x_train, x_test, y_train, y_test = train_test_split(vectorized_data, ohe_labels, test_size=0.1, random_state=42)\n",
        "x_train.shape, x_test.shape"
      ],
      "execution_count": 78,
      "outputs": [
        {
          "output_type": "execute_result",
          "data": {
            "text/plain": [
              "((2002, 9, 50), (223, 9, 50))"
            ]
          },
          "metadata": {
            "tags": []
          },
          "execution_count": 78
        }
      ]
    },
    {
      "cell_type": "markdown",
      "metadata": {
        "id": "C3jM_AieNmPr",
        "colab_type": "text"
      },
      "source": [
        "## Model 1"
      ]
    },
    {
      "cell_type": "code",
      "metadata": {
        "id": "bExhWHsS_vnh",
        "colab_type": "code",
        "colab": {}
      },
      "source": [
        "from keras.models import Model\n",
        "from keras.layers import Conv1D, Input, Dense, Input, Flatten, MaxPooling1D, Dropout"
      ],
      "execution_count": 0,
      "outputs": []
    },
    {
      "cell_type": "code",
      "metadata": {
        "id": "uHb-l9WWNkIq",
        "colab_type": "code",
        "colab": {}
      },
      "source": [
        "def build_model():\n",
        "  \"\"\"Function to build a model.\"\"\"\n",
        "  \n",
        "  input_shape = x_train.shape[1:]\n",
        "  \n",
        "  input_layer = Input(shape=input_shape, name=\"input_layer\")\n",
        "  x = Conv1D(filters=28, kernel_size=3, strides=1, activation=\"relu\", name=\"layer_1\")(input_layer)\n",
        "  x = MaxPooling1D(pool_size=2, strides=1, padding=\"valid\", name=\"max_pool_1\")(x)\n",
        "  \n",
        "  x = Flatten(name=\"flat_1\")(x)\n",
        "  x = Dense(64, activation=\"relu\", name=\"dense_1\")(x)\n",
        "  x = Dropout(0.2, name=\"drop_1\")(x)\n",
        "  out_layer = Dense(5, activation=\"softmax\", name=\"prediction_layer\")(x)\n",
        "  \n",
        "  model = Model(\n",
        "      inputs=[input_layer],\n",
        "      outputs=[out_layer]\n",
        "  )\n",
        "  model.compile(optimizer='rmsprop', loss='categorical_crossentropy', metrics=['accuracy'])\n",
        "  return model"
      ],
      "execution_count": 0,
      "outputs": []
    },
    {
      "cell_type": "code",
      "metadata": {
        "id": "8rsCF15NShFl",
        "colab_type": "code",
        "colab": {
          "base_uri": "https://localhost:8080/",
          "height": 374
        },
        "outputId": "d21734dc-be71-49c1-daf9-8486daaf7497"
      },
      "source": [
        "net = build_model()\n",
        "net.summary()"
      ],
      "execution_count": 122,
      "outputs": [
        {
          "output_type": "stream",
          "text": [
            "_________________________________________________________________\n",
            "Layer (type)                 Output Shape              Param #   \n",
            "=================================================================\n",
            "input_layer (InputLayer)     (None, 9, 50)             0         \n",
            "_________________________________________________________________\n",
            "layer_1 (Conv1D)             (None, 7, 28)             4228      \n",
            "_________________________________________________________________\n",
            "max_pool_1 (MaxPooling1D)    (None, 6, 28)             0         \n",
            "_________________________________________________________________\n",
            "flat_1 (Flatten)             (None, 168)               0         \n",
            "_________________________________________________________________\n",
            "dense_1 (Dense)              (None, 64)                10816     \n",
            "_________________________________________________________________\n",
            "drop_1 (Dropout)             (None, 64)                0         \n",
            "_________________________________________________________________\n",
            "prediction_layer (Dense)     (None, 5)                 325       \n",
            "=================================================================\n",
            "Total params: 15,369\n",
            "Trainable params: 15,369\n",
            "Non-trainable params: 0\n",
            "_________________________________________________________________\n"
          ],
          "name": "stdout"
        }
      ]
    },
    {
      "cell_type": "code",
      "metadata": {
        "id": "9EW2J64KSlOw",
        "colab_type": "code",
        "colab": {
          "base_uri": "https://localhost:8080/",
          "height": 3434
        },
        "outputId": "e4819ead-ca36-413e-fff1-8c6dbfd2ea43"
      },
      "source": [
        "H = net.fit(\n",
        "    x_train,\n",
        "    y_train,\n",
        "    validation_data=(x_test, y_test),\n",
        "    epochs=100,\n",
        "    verbose=2,\n",
        "    shuffle=True\n",
        ")"
      ],
      "execution_count": 124,
      "outputs": [
        {
          "output_type": "stream",
          "text": [
            "Train on 2002 samples, validate on 223 samples\n",
            "Epoch 1/100\n",
            " - 1s - loss: 1.4576 - acc: 0.3986 - val_loss: 1.2557 - val_acc: 0.5471\n",
            "Epoch 2/100\n",
            " - 0s - loss: 1.2062 - acc: 0.5395 - val_loss: 1.0714 - val_acc: 0.6233\n",
            "Epoch 3/100\n",
            " - 0s - loss: 1.0991 - acc: 0.5829 - val_loss: 1.0064 - val_acc: 0.6457\n",
            "Epoch 4/100\n",
            " - 0s - loss: 1.0172 - acc: 0.6089 - val_loss: 0.9531 - val_acc: 0.6771\n",
            "Epoch 5/100\n",
            " - 0s - loss: 0.9632 - acc: 0.6394 - val_loss: 0.9854 - val_acc: 0.6457\n",
            "Epoch 6/100\n",
            " - 0s - loss: 0.9246 - acc: 0.6543 - val_loss: 0.9399 - val_acc: 0.6726\n",
            "Epoch 7/100\n",
            " - 0s - loss: 0.8767 - acc: 0.6733 - val_loss: 0.8993 - val_acc: 0.7040\n",
            "Epoch 8/100\n",
            " - 0s - loss: 0.8458 - acc: 0.6798 - val_loss: 0.9201 - val_acc: 0.6771\n",
            "Epoch 9/100\n",
            " - 0s - loss: 0.8131 - acc: 0.6898 - val_loss: 0.9009 - val_acc: 0.6726\n",
            "Epoch 10/100\n",
            " - 0s - loss: 0.7663 - acc: 0.7313 - val_loss: 0.9158 - val_acc: 0.6592\n",
            "Epoch 11/100\n",
            " - 0s - loss: 0.7464 - acc: 0.7228 - val_loss: 0.8838 - val_acc: 0.6592\n",
            "Epoch 12/100\n",
            " - 0s - loss: 0.7297 - acc: 0.7288 - val_loss: 0.9142 - val_acc: 0.6816\n",
            "Epoch 13/100\n",
            " - 0s - loss: 0.7075 - acc: 0.7363 - val_loss: 0.8794 - val_acc: 0.6906\n",
            "Epoch 14/100\n",
            " - 0s - loss: 0.6800 - acc: 0.7483 - val_loss: 0.8813 - val_acc: 0.6951\n",
            "Epoch 15/100\n",
            " - 0s - loss: 0.6520 - acc: 0.7697 - val_loss: 0.9473 - val_acc: 0.6502\n",
            "Epoch 16/100\n",
            " - 0s - loss: 0.6332 - acc: 0.7597 - val_loss: 0.9587 - val_acc: 0.6592\n",
            "Epoch 17/100\n",
            " - 0s - loss: 0.6196 - acc: 0.7742 - val_loss: 0.9701 - val_acc: 0.6547\n",
            "Epoch 18/100\n",
            " - 0s - loss: 0.6089 - acc: 0.7802 - val_loss: 0.9752 - val_acc: 0.6726\n",
            "Epoch 19/100\n",
            " - 0s - loss: 0.5859 - acc: 0.7837 - val_loss: 0.9234 - val_acc: 0.6906\n",
            "Epoch 20/100\n",
            " - 0s - loss: 0.5799 - acc: 0.7847 - val_loss: 0.8974 - val_acc: 0.6996\n",
            "Epoch 21/100\n",
            " - 0s - loss: 0.5564 - acc: 0.7862 - val_loss: 0.9713 - val_acc: 0.6637\n",
            "Epoch 22/100\n",
            " - 0s - loss: 0.5378 - acc: 0.8107 - val_loss: 0.9681 - val_acc: 0.6682\n",
            "Epoch 23/100\n",
            " - 0s - loss: 0.5214 - acc: 0.7997 - val_loss: 1.0045 - val_acc: 0.6726\n",
            "Epoch 24/100\n",
            " - 0s - loss: 0.5091 - acc: 0.8027 - val_loss: 1.0274 - val_acc: 0.6592\n",
            "Epoch 25/100\n",
            " - 0s - loss: 0.4908 - acc: 0.8247 - val_loss: 1.0342 - val_acc: 0.6861\n",
            "Epoch 26/100\n",
            " - 0s - loss: 0.4823 - acc: 0.8267 - val_loss: 1.0227 - val_acc: 0.6771\n",
            "Epoch 27/100\n",
            " - 0s - loss: 0.4741 - acc: 0.8267 - val_loss: 1.0720 - val_acc: 0.6861\n",
            "Epoch 28/100\n",
            " - 0s - loss: 0.4527 - acc: 0.8342 - val_loss: 1.0808 - val_acc: 0.6906\n",
            "Epoch 29/100\n",
            " - 0s - loss: 0.4454 - acc: 0.8387 - val_loss: 1.1480 - val_acc: 0.6592\n",
            "Epoch 30/100\n",
            " - 0s - loss: 0.4329 - acc: 0.8467 - val_loss: 1.1289 - val_acc: 0.6816\n",
            "Epoch 31/100\n",
            " - 0s - loss: 0.4310 - acc: 0.8392 - val_loss: 1.2303 - val_acc: 0.6547\n",
            "Epoch 32/100\n",
            " - 0s - loss: 0.4173 - acc: 0.8541 - val_loss: 1.1258 - val_acc: 0.6861\n",
            "Epoch 33/100\n",
            " - 0s - loss: 0.4160 - acc: 0.8536 - val_loss: 1.1892 - val_acc: 0.6592\n",
            "Epoch 34/100\n",
            " - 0s - loss: 0.4019 - acc: 0.8601 - val_loss: 1.1472 - val_acc: 0.6951\n",
            "Epoch 35/100\n",
            " - 0s - loss: 0.3926 - acc: 0.8581 - val_loss: 1.2090 - val_acc: 0.6996\n",
            "Epoch 36/100\n",
            " - 0s - loss: 0.3720 - acc: 0.8696 - val_loss: 1.2720 - val_acc: 0.6547\n",
            "Epoch 37/100\n",
            " - 0s - loss: 0.3579 - acc: 0.8731 - val_loss: 1.2147 - val_acc: 0.6771\n",
            "Epoch 38/100\n",
            " - 0s - loss: 0.3560 - acc: 0.8751 - val_loss: 1.2597 - val_acc: 0.6996\n",
            "Epoch 39/100\n",
            " - 0s - loss: 0.3468 - acc: 0.8861 - val_loss: 1.2659 - val_acc: 0.6726\n",
            "Epoch 40/100\n",
            " - 0s - loss: 0.3328 - acc: 0.8786 - val_loss: 1.2812 - val_acc: 0.6637\n",
            "Epoch 41/100\n",
            " - 0s - loss: 0.3326 - acc: 0.8831 - val_loss: 1.3074 - val_acc: 0.6816\n",
            "Epoch 42/100\n",
            " - 0s - loss: 0.3179 - acc: 0.8836 - val_loss: 1.3085 - val_acc: 0.6726\n",
            "Epoch 43/100\n",
            " - 0s - loss: 0.3127 - acc: 0.8976 - val_loss: 1.3528 - val_acc: 0.6906\n",
            "Epoch 44/100\n",
            " - 0s - loss: 0.3129 - acc: 0.8851 - val_loss: 1.3668 - val_acc: 0.6816\n",
            "Epoch 45/100\n",
            " - 0s - loss: 0.3019 - acc: 0.8901 - val_loss: 1.5029 - val_acc: 0.6457\n",
            "Epoch 46/100\n",
            " - 0s - loss: 0.2978 - acc: 0.8976 - val_loss: 1.4459 - val_acc: 0.7130\n",
            "Epoch 47/100\n",
            " - 0s - loss: 0.2921 - acc: 0.9021 - val_loss: 1.4625 - val_acc: 0.6547\n",
            "Epoch 48/100\n",
            " - 0s - loss: 0.2864 - acc: 0.8906 - val_loss: 1.5494 - val_acc: 0.6726\n",
            "Epoch 49/100\n",
            " - 0s - loss: 0.2758 - acc: 0.9011 - val_loss: 1.3863 - val_acc: 0.6951\n",
            "Epoch 50/100\n",
            " - 0s - loss: 0.2676 - acc: 0.9076 - val_loss: 1.4407 - val_acc: 0.6996\n",
            "Epoch 51/100\n",
            " - 0s - loss: 0.2575 - acc: 0.9121 - val_loss: 1.4675 - val_acc: 0.6816\n",
            "Epoch 52/100\n",
            " - 0s - loss: 0.2637 - acc: 0.9036 - val_loss: 1.5542 - val_acc: 0.6547\n",
            "Epoch 53/100\n",
            " - 0s - loss: 0.2484 - acc: 0.9161 - val_loss: 1.5186 - val_acc: 0.6951\n",
            "Epoch 54/100\n",
            " - 0s - loss: 0.2520 - acc: 0.9106 - val_loss: 1.4841 - val_acc: 0.7085\n",
            "Epoch 55/100\n",
            " - 0s - loss: 0.2462 - acc: 0.9161 - val_loss: 1.4689 - val_acc: 0.6682\n",
            "Epoch 56/100\n",
            " - 0s - loss: 0.2282 - acc: 0.9186 - val_loss: 1.5058 - val_acc: 0.6996\n",
            "Epoch 57/100\n",
            " - 0s - loss: 0.2281 - acc: 0.9231 - val_loss: 1.5278 - val_acc: 0.6816\n",
            "Epoch 58/100\n",
            " - 0s - loss: 0.2231 - acc: 0.9231 - val_loss: 1.6841 - val_acc: 0.6906\n",
            "Epoch 59/100\n",
            " - 0s - loss: 0.2303 - acc: 0.9191 - val_loss: 1.5743 - val_acc: 0.6906\n",
            "Epoch 60/100\n",
            " - 0s - loss: 0.2191 - acc: 0.9236 - val_loss: 1.6240 - val_acc: 0.6682\n",
            "Epoch 61/100\n",
            " - 0s - loss: 0.2138 - acc: 0.9251 - val_loss: 1.6551 - val_acc: 0.6771\n",
            "Epoch 62/100\n",
            " - 0s - loss: 0.1968 - acc: 0.9361 - val_loss: 1.7070 - val_acc: 0.6682\n",
            "Epoch 63/100\n",
            " - 0s - loss: 0.2043 - acc: 0.9271 - val_loss: 1.7848 - val_acc: 0.6861\n",
            "Epoch 64/100\n",
            " - 0s - loss: 0.1973 - acc: 0.9356 - val_loss: 1.6987 - val_acc: 0.6861\n",
            "Epoch 65/100\n",
            " - 0s - loss: 0.1939 - acc: 0.9346 - val_loss: 1.7409 - val_acc: 0.6726\n",
            "Epoch 66/100\n",
            " - 0s - loss: 0.1918 - acc: 0.9376 - val_loss: 1.7121 - val_acc: 0.6682\n",
            "Epoch 67/100\n",
            " - 0s - loss: 0.1968 - acc: 0.9386 - val_loss: 1.7717 - val_acc: 0.6726\n",
            "Epoch 68/100\n",
            " - 0s - loss: 0.1836 - acc: 0.9381 - val_loss: 1.7605 - val_acc: 0.6726\n",
            "Epoch 69/100\n",
            " - 0s - loss: 0.1847 - acc: 0.9376 - val_loss: 1.7452 - val_acc: 0.6906\n",
            "Epoch 70/100\n",
            " - 0s - loss: 0.1828 - acc: 0.9371 - val_loss: 1.7619 - val_acc: 0.6996\n",
            "Epoch 71/100\n",
            " - 0s - loss: 0.1842 - acc: 0.9371 - val_loss: 1.8959 - val_acc: 0.6816\n",
            "Epoch 72/100\n",
            " - 0s - loss: 0.1735 - acc: 0.9396 - val_loss: 1.8396 - val_acc: 0.6816\n",
            "Epoch 73/100\n",
            " - 0s - loss: 0.1614 - acc: 0.9461 - val_loss: 1.8889 - val_acc: 0.6547\n",
            "Epoch 74/100\n",
            " - 0s - loss: 0.1709 - acc: 0.9456 - val_loss: 1.8443 - val_acc: 0.6592\n",
            "Epoch 75/100\n",
            " - 0s - loss: 0.1633 - acc: 0.9461 - val_loss: 1.9081 - val_acc: 0.6816\n",
            "Epoch 76/100\n",
            " - 0s - loss: 0.1624 - acc: 0.9471 - val_loss: 1.8323 - val_acc: 0.6682\n",
            "Epoch 77/100\n",
            " - 0s - loss: 0.1504 - acc: 0.9486 - val_loss: 1.9180 - val_acc: 0.6592\n",
            "Epoch 78/100\n",
            " - 0s - loss: 0.1536 - acc: 0.9461 - val_loss: 1.9940 - val_acc: 0.6547\n",
            "Epoch 79/100\n",
            " - 0s - loss: 0.1503 - acc: 0.9515 - val_loss: 1.8865 - val_acc: 0.6682\n",
            "Epoch 80/100\n",
            " - 0s - loss: 0.1608 - acc: 0.9416 - val_loss: 1.9152 - val_acc: 0.6861\n",
            "Epoch 81/100\n",
            " - 0s - loss: 0.1506 - acc: 0.9476 - val_loss: 2.0544 - val_acc: 0.6457\n",
            "Epoch 82/100\n",
            " - 0s - loss: 0.1418 - acc: 0.9530 - val_loss: 2.1771 - val_acc: 0.6951\n",
            "Epoch 83/100\n",
            " - 0s - loss: 0.1551 - acc: 0.9510 - val_loss: 2.0115 - val_acc: 0.6457\n",
            "Epoch 84/100\n",
            " - 0s - loss: 0.1414 - acc: 0.9515 - val_loss: 1.9769 - val_acc: 0.6816\n",
            "Epoch 85/100\n",
            " - 0s - loss: 0.1443 - acc: 0.9550 - val_loss: 1.9826 - val_acc: 0.6906\n",
            "Epoch 86/100\n",
            " - 0s - loss: 0.1379 - acc: 0.9510 - val_loss: 2.1328 - val_acc: 0.6413\n",
            "Epoch 87/100\n",
            " - 0s - loss: 0.1352 - acc: 0.9560 - val_loss: 1.9454 - val_acc: 0.6771\n",
            "Epoch 88/100\n",
            " - 0s - loss: 0.1352 - acc: 0.9515 - val_loss: 1.9896 - val_acc: 0.6906\n",
            "Epoch 89/100\n",
            " - 0s - loss: 0.1381 - acc: 0.9560 - val_loss: 1.9639 - val_acc: 0.6726\n",
            "Epoch 90/100\n",
            " - 0s - loss: 0.1335 - acc: 0.9565 - val_loss: 2.0477 - val_acc: 0.7220\n",
            "Epoch 91/100\n",
            " - 0s - loss: 0.1257 - acc: 0.9610 - val_loss: 2.0446 - val_acc: 0.6861\n",
            "Epoch 92/100\n",
            " - 0s - loss: 0.1292 - acc: 0.9565 - val_loss: 2.0615 - val_acc: 0.6996\n",
            "Epoch 93/100\n",
            " - 0s - loss: 0.1186 - acc: 0.9585 - val_loss: 2.0766 - val_acc: 0.6726\n",
            "Epoch 94/100\n",
            " - 0s - loss: 0.1222 - acc: 0.9595 - val_loss: 2.0342 - val_acc: 0.6771\n",
            "Epoch 95/100\n",
            " - 0s - loss: 0.1191 - acc: 0.9580 - val_loss: 2.1302 - val_acc: 0.6682\n",
            "Epoch 96/100\n",
            " - 0s - loss: 0.1200 - acc: 0.9605 - val_loss: 2.1501 - val_acc: 0.6457\n",
            "Epoch 97/100\n",
            " - 0s - loss: 0.1170 - acc: 0.9590 - val_loss: 2.0878 - val_acc: 0.6637\n",
            "Epoch 98/100\n",
            " - 0s - loss: 0.1054 - acc: 0.9640 - val_loss: 2.1530 - val_acc: 0.6861\n",
            "Epoch 99/100\n",
            " - 0s - loss: 0.1179 - acc: 0.9620 - val_loss: 2.2547 - val_acc: 0.6906\n",
            "Epoch 100/100\n",
            " - 0s - loss: 0.1158 - acc: 0.9640 - val_loss: 2.2133 - val_acc: 0.6771\n"
          ],
          "name": "stdout"
        }
      ]
    },
    {
      "cell_type": "code",
      "metadata": {
        "id": "T-Ml8prRUCdP",
        "colab_type": "code",
        "colab": {}
      },
      "source": [
        "import matplotlib.pyplot as plt"
      ],
      "execution_count": 0,
      "outputs": []
    },
    {
      "cell_type": "code",
      "metadata": {
        "id": "0uwMmMRDTVN0",
        "colab_type": "code",
        "colab": {
          "base_uri": "https://localhost:8080/",
          "height": 408
        },
        "outputId": "5cb7a9cb-e796-4fb6-b391-700aea050928"
      },
      "source": [
        "plt.style.use(\"ggplot\")\n",
        "plt.figure(figsize=(9, 6))\n",
        "N = 100\n",
        "\n",
        "plt.plot(np.arange(0, N), H.history[\"loss\"], label=\"train_loss\")\n",
        "plt.plot(np.arange(0, N), H.history[\"val_loss\"], label=\"val_loss\")\n",
        "plt.plot(np.arange(0, N), H.history[\"acc\"], label=\"train_acc\")\n",
        "plt.plot(np.arange(0, N), H.history[\"val_acc\"], label=\"val_acc\")\n",
        "\n",
        "plt.title(\"Training Loss and Accuracy News Header Classfication\")\n",
        "plt.xlabel('Epoch #')\n",
        "plt.ylabel(\"Loss/Accuracy\")\n",
        "plt.legend(loc=\"lower left\")\n",
        "plt.show()"
      ],
      "execution_count": 125,
      "outputs": [
        {
          "output_type": "display_data",
          "data": {
            "image/png": "[encoded data removed]",
            "text/plain": [
              "<Figure size 648x432 with 1 Axes>"
            ]
          },
          "metadata": {
            "tags": []
          }
        }
      ]
    },
    {
      "cell_type": "code",
      "metadata": {
        "id": "HI8QsSQIUAOJ",
        "colab_type": "code",
        "colab": {}
      },
      "source": [
        "from keras.utils import plot_model"
      ],
      "execution_count": 0,
      "outputs": []
    },
    {
      "cell_type": "code",
      "metadata": {
        "id": "tFmJ3f51Z-_k",
        "colab_type": "code",
        "colab": {}
      },
      "source": [
        "plot_model(net, to_file='model.png')"
      ],
      "execution_count": 0,
      "outputs": []
    },
    {
      "cell_type": "markdown",
      "metadata": {
        "id": "y2ByhtpqcGAN",
        "colab_type": "text"
      },
      "source": [
        "## model 2"
      ]
    },
    {
      "cell_type": "code",
      "metadata": {
        "id": "-f-gWmrCdHTp",
        "colab_type": "code",
        "colab": {}
      },
      "source": [
        "def build_model2():\n",
        "  \"\"\"Function to build a model.\"\"\"\n",
        "  \n",
        "  input_shape = x_train.shape[1:]\n",
        "  \n",
        "  input_layer = Input(shape=input_shape, name=\"input_layer\")\n",
        "  \n",
        "  x = Flatten(name=\"flat_1\")(input_layer)\n",
        "  x = Dense(64, activation=\"relu\", name=\"dense_1\")(x)\n",
        "  x = Dropout(0.2, name=\"drop_1\")(x)\n",
        "  out_layer = Dense(5, activation=\"softmax\", name=\"prediction_layer\")(x)\n",
        "  \n",
        "  model = Model(\n",
        "      inputs=[input_layer],\n",
        "      outputs=[out_layer]\n",
        "  )\n",
        "  model.compile(optimizer='rmsprop', loss='categorical_crossentropy', metrics=['accuracy'])\n",
        "  return model"
      ],
      "execution_count": 0,
      "outputs": []
    },
    {
      "cell_type": "code",
      "metadata": {
        "id": "ImFMi0B5dPKB",
        "colab_type": "code",
        "colab": {
          "base_uri": "https://localhost:8080/",
          "height": 306
        },
        "outputId": "e2f651cd-52e3-4205-947c-9b73a50a0105"
      },
      "source": [
        "net2 = build_model2()\n",
        "net2.summary()"
      ],
      "execution_count": 130,
      "outputs": [
        {
          "output_type": "stream",
          "text": [
            "_________________________________________________________________\n",
            "Layer (type)                 Output Shape              Param #   \n",
            "=================================================================\n",
            "input_layer (InputLayer)     (None, 9, 50)             0         \n",
            "_________________________________________________________________\n",
            "flat_1 (Flatten)             (None, 450)               0         \n",
            "_________________________________________________________________\n",
            "dense_1 (Dense)              (None, 64)                28864     \n",
            "_________________________________________________________________\n",
            "drop_1 (Dropout)             (None, 64)                0         \n",
            "_________________________________________________________________\n",
            "prediction_layer (Dense)     (None, 5)                 325       \n",
            "=================================================================\n",
            "Total params: 29,189\n",
            "Trainable params: 29,189\n",
            "Non-trainable params: 0\n",
            "_________________________________________________________________\n"
          ],
          "name": "stdout"
        }
      ]
    },
    {
      "cell_type": "code",
      "metadata": {
        "id": "GQuTZOSfdSiy",
        "colab_type": "code",
        "colab": {}
      },
      "source": [
        "H = net.fit(\n",
        "    x_train,\n",
        "    y_train,\n",
        "    epochs=100,\n",
        "    verbose=2,\n",
        "    shuffle=True,\n",
        "    validation_split=0.2\n",
        ")"
      ],
      "execution_count": 0,
      "outputs": []
    },
    {
      "cell_type": "code",
      "metadata": {
        "id": "0w4VO97fdqkc",
        "colab_type": "code",
        "colab": {}
      },
      "source": [
        "def plot_loss(H):\n",
        "  \"\"\"Function to plot the loss.\"\"\"\n",
        "  plt.style.use(\"ggplot\")\n",
        "  plt.figure(figsize=(9, 6))\n",
        "  N = 100\n",
        "\n",
        "  plt.plot(np.arange(0, N), H.history[\"loss\"], label=\"train_loss\")\n",
        "  plt.plot(np.arange(0, N), H.history[\"val_loss\"], label=\"val_loss\")\n",
        "  plt.plot(np.arange(0, N), H.history[\"acc\"], label=\"train_acc\")\n",
        "  plt.plot(np.arange(0, N), H.history[\"val_acc\"], label=\"val_acc\")\n",
        "\n",
        "  plt.title(\"Training Loss and Accuracy News Header Classfication\")\n",
        "  plt.xlabel('Epoch #')\n",
        "  plt.ylabel(\"Loss/Accuracy\")\n",
        "  plt.legend(loc=\"lower left\")\n",
        "  plt.show()"
      ],
      "execution_count": 0,
      "outputs": []
    },
    {
      "cell_type": "code",
      "metadata": {
        "id": "_VBahPe2eWIH",
        "colab_type": "code",
        "colab": {
          "base_uri": "https://localhost:8080/",
          "height": 34
        },
        "outputId": "5eb1946d-74b0-4ae0-955d-c24822023f56"
      },
      "source": [
        "net2.evaluate(x_test, y_test, verbose=2) # ANN model"
      ],
      "execution_count": 135,
      "outputs": [
        {
          "output_type": "execute_result",
          "data": {
            "text/plain": [
              "[1.8997266308609146, 0.1524663669111483]"
            ]
          },
          "metadata": {
            "tags": []
          },
          "execution_count": 135
        }
      ]
    },
    {
      "cell_type": "markdown",
      "metadata": {
        "id": "eDBlE97id5js",
        "colab_type": "text"
      },
      "source": [
        "okay, even this isn't working well"
      ]
    },
    {
      "cell_type": "code",
      "metadata": {
        "id": "sOLvAqQkepY6",
        "colab_type": "code",
        "colab": {
          "base_uri": "https://localhost:8080/",
          "height": 34
        },
        "outputId": "d7c346d6-b091-4db8-878a-4df217ec022d"
      },
      "source": [
        "net.evaluate(x_test, y_test, verbose=2) # cnn feature extraction model"
      ],
      "execution_count": 136,
      "outputs": [
        {
          "output_type": "execute_result",
          "data": {
            "text/plain": [
              "[3.3861616064080207, 0.6547085212485138]"
            ]
          },
          "metadata": {
            "tags": []
          },
          "execution_count": 136
        }
      ]
    },
    {
      "cell_type": "markdown",
      "metadata": {
        "id": "RtZJ_mctfheb",
        "colab_type": "text"
      },
      "source": [
        "lets work with all data and not just the headlines"
      ]
    },
    {
      "cell_type": "markdown",
      "metadata": {
        "id": "kkt4txZmfp_A",
        "colab_type": "text"
      },
      "source": [
        "## Data processing part 2"
      ]
    },
    {
      "cell_type": "code",
      "metadata": {
        "id": "6y8Bb6m8fo0J",
        "colab_type": "code",
        "colab": {}
      },
      "source": [
        "text = []\n",
        "target = []\n",
        "\n",
        "for i in data_paths:\n",
        "  with open(i, 'r', encoding=\"latin-1\") as f:\n",
        "    text.append(f.read().lower().strip().split())\n",
        "    target.append(i.split('/')[-2])"
      ],
      "execution_count": 0,
      "outputs": []
    },
    {
      "cell_type": "code",
      "metadata": {
        "id": "rjJd_BPSgmzi",
        "colab_type": "code",
        "colab": {
          "base_uri": "https://localhost:8080/",
          "height": 34
        },
        "outputId": "01bc2355-a6af-4541-f29e-bf624206b2a9"
      },
      "source": [
        "em_model = Word2Vec(text, window=5, min_count=1, size=50)\n",
        "em_model.train(text, total_examples=len(text), epochs=10)"
      ],
      "execution_count": 145,
      "outputs": [
        {
          "output_type": "execute_result",
          "data": {
            "text/plain": [
              "(6834235, 8544900)"
            ]
          },
          "metadata": {
            "tags": []
          },
          "execution_count": 145
        }
      ]
    },
    {
      "cell_type": "code",
      "metadata": {
        "id": "WSYsrb0mh6iz",
        "colab_type": "code",
        "colab": {
          "base_uri": "https://localhost:8080/",
          "height": 34
        },
        "outputId": "0d377b9b-3ec0-4ccb-9303-86442bd02491"
      },
      "source": [
        "vectorized_data = np.array([em_model.wv[i] for i in text])\n",
        "vectorized_data = pad_sequences(vectorized_data, maxlen=500, truncating='pre', padding='post')\n",
        "vectorized_data.shape"
      ],
      "execution_count": 151,
      "outputs": [
        {
          "output_type": "execute_result",
          "data": {
            "text/plain": [
              "(2225, 500, 50)"
            ]
          },
          "metadata": {
            "tags": []
          },
          "execution_count": 151
        }
      ]
    },
    {
      "cell_type": "code",
      "metadata": {
        "id": "bWFaJ-VHifMn",
        "colab_type": "code",
        "colab": {}
      },
      "source": [
        "dict_target = dict((v, i) for i, v in enumerate(set(target)))\n",
        "rev_dict_target = dict((v, i) for i, v in zip(dict_target.keys(), dict_target.values()))\n",
        "\n",
        "ohe_target = to_categorical(np.array([dict_target[i] for i in target]))"
      ],
      "execution_count": 0,
      "outputs": []
    },
    {
      "cell_type": "code",
      "metadata": {
        "id": "kcuZeDurjZ_-",
        "colab_type": "code",
        "colab": {
          "base_uri": "https://localhost:8080/",
          "height": 34
        },
        "outputId": "a4d70c54-5f74-499a-8baa-48773b949d68"
      },
      "source": [
        "ohe_target.shape"
      ],
      "execution_count": 155,
      "outputs": [
        {
          "output_type": "execute_result",
          "data": {
            "text/plain": [
              "(2225, 5)"
            ]
          },
          "metadata": {
            "tags": []
          },
          "execution_count": 155
        }
      ]
    },
    {
      "cell_type": "code",
      "metadata": {
        "id": "gi5RVQiTjo5n",
        "colab_type": "code",
        "colab": {
          "base_uri": "https://localhost:8080/",
          "height": 34
        },
        "outputId": "4045b9b9-f17c-4600-fce4-fc132211e78f"
      },
      "source": [
        "x_train, x_test, y_train, y_test = train_test_split(vectorized_data, ohe_target, test_size=0.1, shuffle=True, random_state=42)\n",
        "x_train.shape, x_test.shape, y_train.shape, y_test.shape"
      ],
      "execution_count": 159,
      "outputs": [
        {
          "output_type": "execute_result",
          "data": {
            "text/plain": [
              "((2002, 500, 50), (223, 500, 50), (2002, 5), (223, 5))"
            ]
          },
          "metadata": {
            "tags": []
          },
          "execution_count": 159
        }
      ]
    },
    {
      "cell_type": "markdown",
      "metadata": {
        "id": "Ll48vuwul-Ie",
        "colab_type": "text"
      },
      "source": [
        "## models training part 2"
      ]
    },
    {
      "cell_type": "code",
      "metadata": {
        "id": "ya1kstRBmKUw",
        "colab_type": "code",
        "colab": {}
      },
      "source": [
        "def build_model():\n",
        "  \"\"\"Function to build a model.\"\"\"\n",
        "  \n",
        "  input_shape = x_train.shape[1:]\n",
        "  \n",
        "  input_layer = Input(shape=input_shape, name=\"input_layer\")\n",
        "  x = Conv1D(filters=28, kernel_size=3, strides=2, activation=\"relu\", name=\"layer_1\")(input_layer)\n",
        "  x = MaxPooling1D(pool_size=2, strides=1, padding=\"valid\", name=\"max_pool_1\")(x)\n",
        "  \n",
        "  x = Conv1D(filters=14, kernel_size=3, strides=2, activation=\"relu\", name=\"layer_2\")(x)\n",
        "  x = MaxPooling1D(pool_size=2, strides=1, padding=\"valid\", name=\"max_pool_2\")(x)\n",
        "  \n",
        "  x = Flatten(name=\"flat_1\")(x)\n",
        "  x = Dense(32, activation=\"relu\", name=\"dense_1\")(x)\n",
        "  x = Dropout(0.5, name=\"drop_1\")(x)\n",
        "  out_layer = Dense(5, activation=\"softmax\", name=\"prediction_layer\")(x)\n",
        "  \n",
        "  model = Model(\n",
        "      inputs=[input_layer],\n",
        "      outputs=[out_layer]\n",
        "  )\n",
        "  model.compile(optimizer='rmsprop', loss='categorical_crossentropy', metrics=['accuracy'])\n",
        "  return model"
      ],
      "execution_count": 0,
      "outputs": []
    },
    {
      "cell_type": "code",
      "metadata": {
        "id": "4L4Yv6ZrkCmc",
        "colab_type": "code",
        "colab": {
          "base_uri": "https://localhost:8080/",
          "height": 442
        },
        "outputId": "28c62f26-eafa-4b67-b3aa-03be7aa6bc15"
      },
      "source": [
        "net = build_model()\n",
        "net.summary()"
      ],
      "execution_count": 172,
      "outputs": [
        {
          "output_type": "stream",
          "text": [
            "_________________________________________________________________\n",
            "Layer (type)                 Output Shape              Param #   \n",
            "=================================================================\n",
            "input_layer (InputLayer)     (None, 500, 50)           0         \n",
            "_________________________________________________________________\n",
            "layer_1 (Conv1D)             (None, 249, 28)           4228      \n",
            "_________________________________________________________________\n",
            "max_pool_1 (MaxPooling1D)    (None, 248, 28)           0         \n",
            "_________________________________________________________________\n",
            "layer_2 (Conv1D)             (None, 123, 14)           1190      \n",
            "_________________________________________________________________\n",
            "max_pool_2 (MaxPooling1D)    (None, 122, 14)           0         \n",
            "_________________________________________________________________\n",
            "flat_1 (Flatten)             (None, 1708)              0         \n",
            "_________________________________________________________________\n",
            "dense_1 (Dense)              (None, 32)                54688     \n",
            "_________________________________________________________________\n",
            "drop_1 (Dropout)             (None, 32)                0         \n",
            "_________________________________________________________________\n",
            "prediction_layer (Dense)     (None, 5)                 165       \n",
            "=================================================================\n",
            "Total params: 60,271\n",
            "Trainable params: 60,271\n",
            "Non-trainable params: 0\n",
            "_________________________________________________________________\n"
          ],
          "name": "stdout"
        }
      ]
    },
    {
      "cell_type": "code",
      "metadata": {
        "id": "B_rX8vdrkV_N",
        "colab_type": "code",
        "colab": {
          "base_uri": "https://localhost:8080/",
          "height": 3434
        },
        "outputId": "fd6264cc-cc46-4197-8b4b-0127ed0b3f0c"
      },
      "source": [
        "H = net.fit(\n",
        "    x_train,\n",
        "    y_train,\n",
        "    epochs=100,\n",
        "    verbose=2,\n",
        "    shuffle=True,\n",
        "    validation_split=0.2\n",
        ")"
      ],
      "execution_count": 173,
      "outputs": [
        {
          "output_type": "stream",
          "text": [
            "Train on 1601 samples, validate on 401 samples\n",
            "Epoch 1/100\n",
            " - 2s - loss: 1.6596 - acc: 0.2505 - val_loss: 1.5382 - val_acc: 0.2668\n",
            "Epoch 2/100\n",
            " - 1s - loss: 1.5111 - acc: 0.2967 - val_loss: 1.3431 - val_acc: 0.4414\n",
            "Epoch 3/100\n",
            " - 1s - loss: 1.2862 - acc: 0.4428 - val_loss: 1.3332 - val_acc: 0.4214\n",
            "Epoch 4/100\n",
            " - 2s - loss: 1.0031 - acc: 0.5765 - val_loss: 0.7954 - val_acc: 0.6733\n",
            "Epoch 5/100\n",
            " - 1s - loss: 0.7772 - acc: 0.6927 - val_loss: 0.5976 - val_acc: 0.7930\n",
            "Epoch 6/100\n",
            " - 1s - loss: 0.6117 - acc: 0.7614 - val_loss: 1.3979 - val_acc: 0.5561\n",
            "Epoch 7/100\n",
            " - 1s - loss: 0.5172 - acc: 0.7933 - val_loss: 0.7997 - val_acc: 0.7257\n",
            "Epoch 8/100\n",
            " - 1s - loss: 0.4438 - acc: 0.8257 - val_loss: 0.4515 - val_acc: 0.8379\n",
            "Epoch 9/100\n",
            " - 1s - loss: 0.3534 - acc: 0.8613 - val_loss: 0.4296 - val_acc: 0.8529\n",
            "Epoch 10/100\n",
            " - 1s - loss: 0.3125 - acc: 0.8844 - val_loss: 0.3856 - val_acc: 0.8579\n",
            "Epoch 11/100\n",
            " - 2s - loss: 0.2728 - acc: 0.8957 - val_loss: 0.3526 - val_acc: 0.8903\n",
            "Epoch 12/100\n",
            " - 1s - loss: 0.2550 - acc: 0.8969 - val_loss: 0.4974 - val_acc: 0.8479\n",
            "Epoch 13/100\n",
            " - 1s - loss: 0.2191 - acc: 0.9213 - val_loss: 0.2788 - val_acc: 0.9052\n",
            "Epoch 14/100\n",
            " - 1s - loss: 0.1819 - acc: 0.9338 - val_loss: 0.6469 - val_acc: 0.8404\n",
            "Epoch 15/100\n",
            " - 1s - loss: 0.1750 - acc: 0.9263 - val_loss: 0.4403 - val_acc: 0.8703\n",
            "Epoch 16/100\n",
            " - 1s - loss: 0.1605 - acc: 0.9363 - val_loss: 0.4252 - val_acc: 0.8778\n",
            "Epoch 17/100\n",
            " - 1s - loss: 0.1524 - acc: 0.9388 - val_loss: 0.3881 - val_acc: 0.8878\n",
            "Epoch 18/100\n",
            " - 1s - loss: 0.1271 - acc: 0.9469 - val_loss: 0.3777 - val_acc: 0.8978\n",
            "Epoch 19/100\n",
            " - 1s - loss: 0.1287 - acc: 0.9450 - val_loss: 0.5379 - val_acc: 0.8828\n",
            "Epoch 20/100\n",
            " - 1s - loss: 0.1179 - acc: 0.9575 - val_loss: 0.4962 - val_acc: 0.8928\n",
            "Epoch 21/100\n",
            " - 1s - loss: 0.0988 - acc: 0.9681 - val_loss: 0.3603 - val_acc: 0.9152\n",
            "Epoch 22/100\n",
            " - 1s - loss: 0.0986 - acc: 0.9594 - val_loss: 0.3544 - val_acc: 0.9127\n",
            "Epoch 23/100\n",
            " - 1s - loss: 0.0873 - acc: 0.9656 - val_loss: 0.4450 - val_acc: 0.8878\n",
            "Epoch 24/100\n",
            " - 1s - loss: 0.0885 - acc: 0.9644 - val_loss: 0.6787 - val_acc: 0.8603\n",
            "Epoch 25/100\n",
            " - 1s - loss: 0.1079 - acc: 0.9582 - val_loss: 0.4305 - val_acc: 0.9027\n",
            "Epoch 26/100\n",
            " - 1s - loss: 0.0871 - acc: 0.9669 - val_loss: 0.4574 - val_acc: 0.8978\n",
            "Epoch 27/100\n",
            " - 1s - loss: 0.0845 - acc: 0.9669 - val_loss: 0.4673 - val_acc: 0.9127\n",
            "Epoch 28/100\n",
            " - 1s - loss: 0.0724 - acc: 0.9719 - val_loss: 0.4362 - val_acc: 0.9102\n",
            "Epoch 29/100\n",
            " - 1s - loss: 0.1023 - acc: 0.9625 - val_loss: 0.3671 - val_acc: 0.9102\n",
            "Epoch 30/100\n",
            " - 1s - loss: 0.0920 - acc: 0.9631 - val_loss: 0.4053 - val_acc: 0.9102\n",
            "Epoch 31/100\n",
            " - 1s - loss: 0.0692 - acc: 0.9694 - val_loss: 0.4462 - val_acc: 0.9052\n",
            "Epoch 32/100\n",
            " - 1s - loss: 0.0582 - acc: 0.9713 - val_loss: 0.4974 - val_acc: 0.9102\n",
            "Epoch 33/100\n",
            " - 1s - loss: 0.0889 - acc: 0.9675 - val_loss: 0.4876 - val_acc: 0.9102\n",
            "Epoch 34/100\n",
            " - 1s - loss: 0.0603 - acc: 0.9744 - val_loss: 0.4782 - val_acc: 0.9152\n",
            "Epoch 35/100\n",
            " - 1s - loss: 0.0647 - acc: 0.9769 - val_loss: 0.4802 - val_acc: 0.9127\n",
            "Epoch 36/100\n",
            " - 1s - loss: 0.0580 - acc: 0.9738 - val_loss: 0.6260 - val_acc: 0.9002\n",
            "Epoch 37/100\n",
            " - 1s - loss: 0.0646 - acc: 0.9700 - val_loss: 0.5329 - val_acc: 0.9052\n",
            "Epoch 38/100\n",
            " - 1s - loss: 0.0594 - acc: 0.9763 - val_loss: 0.4514 - val_acc: 0.9227\n",
            "Epoch 39/100\n",
            " - 2s - loss: 0.0452 - acc: 0.9819 - val_loss: 0.6082 - val_acc: 0.9077\n",
            "Epoch 40/100\n",
            " - 2s - loss: 0.0607 - acc: 0.9794 - val_loss: 0.5620 - val_acc: 0.9052\n",
            "Epoch 41/100\n",
            " - 1s - loss: 0.0648 - acc: 0.9813 - val_loss: 0.5837 - val_acc: 0.9102\n",
            "Epoch 42/100\n",
            " - 1s - loss: 0.0696 - acc: 0.9731 - val_loss: 0.6317 - val_acc: 0.8903\n",
            "Epoch 43/100\n",
            " - 1s - loss: 0.0587 - acc: 0.9806 - val_loss: 0.5203 - val_acc: 0.9152\n",
            "Epoch 44/100\n",
            " - 1s - loss: 0.0726 - acc: 0.9744 - val_loss: 0.4737 - val_acc: 0.9152\n",
            "Epoch 45/100\n",
            " - 2s - loss: 0.0537 - acc: 0.9813 - val_loss: 1.2427 - val_acc: 0.8504\n",
            "Epoch 46/100\n",
            " - 1s - loss: 0.0632 - acc: 0.9738 - val_loss: 0.4949 - val_acc: 0.9102\n",
            "Epoch 47/100\n",
            " - 2s - loss: 0.0678 - acc: 0.9769 - val_loss: 0.6831 - val_acc: 0.8953\n",
            "Epoch 48/100\n",
            " - 2s - loss: 0.0485 - acc: 0.9794 - val_loss: 0.5452 - val_acc: 0.9127\n",
            "Epoch 49/100\n",
            " - 1s - loss: 0.0567 - acc: 0.9775 - val_loss: 0.4441 - val_acc: 0.9102\n",
            "Epoch 50/100\n",
            " - 1s - loss: 0.0534 - acc: 0.9788 - val_loss: 0.4914 - val_acc: 0.9052\n",
            "Epoch 51/100\n",
            " - 2s - loss: 0.0665 - acc: 0.9750 - val_loss: 0.7402 - val_acc: 0.8803\n",
            "Epoch 52/100\n",
            " - 1s - loss: 0.0559 - acc: 0.9781 - val_loss: 0.5167 - val_acc: 0.8903\n",
            "Epoch 53/100\n",
            " - 1s - loss: 0.0709 - acc: 0.9713 - val_loss: 0.8227 - val_acc: 0.8753\n",
            "Epoch 54/100\n",
            " - 2s - loss: 0.0588 - acc: 0.9775 - val_loss: 0.6457 - val_acc: 0.8928\n",
            "Epoch 55/100\n",
            " - 1s - loss: 0.0552 - acc: 0.9781 - val_loss: 0.4850 - val_acc: 0.9277\n",
            "Epoch 56/100\n",
            " - 1s - loss: 0.0590 - acc: 0.9781 - val_loss: 0.4454 - val_acc: 0.9177\n",
            "Epoch 57/100\n",
            " - 1s - loss: 0.0394 - acc: 0.9844 - val_loss: 0.5111 - val_acc: 0.9077\n",
            "Epoch 58/100\n",
            " - 1s - loss: 0.0667 - acc: 0.9744 - val_loss: 0.4292 - val_acc: 0.9177\n",
            "Epoch 59/100\n",
            " - 1s - loss: 0.0517 - acc: 0.9850 - val_loss: 0.5822 - val_acc: 0.9227\n",
            "Epoch 60/100\n",
            " - 1s - loss: 0.0473 - acc: 0.9819 - val_loss: 0.5243 - val_acc: 0.9152\n",
            "Epoch 61/100\n",
            " - 1s - loss: 0.0641 - acc: 0.9781 - val_loss: 0.5604 - val_acc: 0.9077\n",
            "Epoch 62/100\n",
            " - 1s - loss: 0.0417 - acc: 0.9825 - val_loss: 0.5114 - val_acc: 0.9227\n",
            "Epoch 63/100\n",
            " - 1s - loss: 0.0414 - acc: 0.9856 - val_loss: 0.5699 - val_acc: 0.9202\n",
            "Epoch 64/100\n",
            " - 1s - loss: 0.0550 - acc: 0.9794 - val_loss: 0.5353 - val_acc: 0.9102\n",
            "Epoch 65/100\n",
            " - 1s - loss: 0.0573 - acc: 0.9769 - val_loss: 0.6238 - val_acc: 0.8953\n",
            "Epoch 66/100\n",
            " - 1s - loss: 0.0501 - acc: 0.9819 - val_loss: 0.6199 - val_acc: 0.8903\n",
            "Epoch 67/100\n",
            " - 1s - loss: 0.0558 - acc: 0.9838 - val_loss: 0.5316 - val_acc: 0.8978\n",
            "Epoch 68/100\n",
            " - 1s - loss: 0.0460 - acc: 0.9788 - val_loss: 0.5493 - val_acc: 0.9127\n",
            "Epoch 69/100\n",
            " - 1s - loss: 0.0483 - acc: 0.9819 - val_loss: 0.5819 - val_acc: 0.9077\n",
            "Epoch 70/100\n",
            " - 1s - loss: 0.0389 - acc: 0.9844 - val_loss: 0.7367 - val_acc: 0.8978\n",
            "Epoch 71/100\n",
            " - 1s - loss: 0.0430 - acc: 0.9825 - val_loss: 0.6101 - val_acc: 0.9077\n",
            "Epoch 72/100\n",
            " - 1s - loss: 0.0479 - acc: 0.9813 - val_loss: 0.5054 - val_acc: 0.9127\n",
            "Epoch 73/100\n",
            " - 1s - loss: 0.0429 - acc: 0.9850 - val_loss: 0.8256 - val_acc: 0.8878\n",
            "Epoch 74/100\n",
            " - 1s - loss: 0.0434 - acc: 0.9831 - val_loss: 0.6385 - val_acc: 0.9152\n",
            "Epoch 75/100\n",
            " - 1s - loss: 0.0658 - acc: 0.9781 - val_loss: 0.5339 - val_acc: 0.8978\n",
            "Epoch 76/100\n",
            " - 1s - loss: 0.0448 - acc: 0.9838 - val_loss: 0.5990 - val_acc: 0.9027\n",
            "Epoch 77/100\n",
            " - 1s - loss: 0.0532 - acc: 0.9831 - val_loss: 0.7231 - val_acc: 0.8928\n",
            "Epoch 78/100\n",
            " - 2s - loss: 0.0419 - acc: 0.9850 - val_loss: 0.5416 - val_acc: 0.9102\n",
            "Epoch 79/100\n",
            " - 2s - loss: 0.0559 - acc: 0.9788 - val_loss: 0.5822 - val_acc: 0.9002\n",
            "Epoch 80/100\n",
            " - 2s - loss: 0.0402 - acc: 0.9850 - val_loss: 0.5124 - val_acc: 0.8978\n",
            "Epoch 81/100\n",
            " - 2s - loss: 0.0466 - acc: 0.9794 - val_loss: 0.8860 - val_acc: 0.8878\n",
            "Epoch 82/100\n",
            " - 2s - loss: 0.0960 - acc: 0.9769 - val_loss: 0.7319 - val_acc: 0.9002\n",
            "Epoch 83/100\n",
            " - 2s - loss: 0.0666 - acc: 0.9800 - val_loss: 0.4999 - val_acc: 0.9102\n",
            "Epoch 84/100\n",
            " - 2s - loss: 0.0573 - acc: 0.9794 - val_loss: 1.1190 - val_acc: 0.8603\n",
            "Epoch 85/100\n",
            " - 2s - loss: 0.0526 - acc: 0.9806 - val_loss: 0.6341 - val_acc: 0.8953\n",
            "Epoch 86/100\n",
            " - 2s - loss: 0.0480 - acc: 0.9856 - val_loss: 0.6006 - val_acc: 0.9227\n",
            "Epoch 87/100\n",
            " - 1s - loss: 0.0559 - acc: 0.9831 - val_loss: 1.1289 - val_acc: 0.8678\n",
            "Epoch 88/100\n",
            " - 1s - loss: 0.0757 - acc: 0.9819 - val_loss: 0.6094 - val_acc: 0.9177\n",
            "Epoch 89/100\n",
            " - 2s - loss: 0.0548 - acc: 0.9788 - val_loss: 0.6921 - val_acc: 0.8753\n",
            "Epoch 90/100\n",
            " - 2s - loss: 0.0373 - acc: 0.9881 - val_loss: 0.6513 - val_acc: 0.8828\n",
            "Epoch 91/100\n",
            " - 1s - loss: 0.0377 - acc: 0.9869 - val_loss: 0.7559 - val_acc: 0.9027\n",
            "Epoch 92/100\n",
            " - 1s - loss: 0.0699 - acc: 0.9794 - val_loss: 0.8884 - val_acc: 0.8803\n",
            "Epoch 93/100\n",
            " - 1s - loss: 0.0423 - acc: 0.9850 - val_loss: 0.7080 - val_acc: 0.8978\n",
            "Epoch 94/100\n",
            " - 1s - loss: 0.0543 - acc: 0.9831 - val_loss: 0.5940 - val_acc: 0.9077\n",
            "Epoch 95/100\n",
            " - 1s - loss: 0.0563 - acc: 0.9831 - val_loss: 0.6676 - val_acc: 0.9027\n",
            "Epoch 96/100\n",
            " - 1s - loss: 0.0584 - acc: 0.9825 - val_loss: 0.5493 - val_acc: 0.8978\n",
            "Epoch 97/100\n",
            " - 1s - loss: 0.0366 - acc: 0.9881 - val_loss: 0.6397 - val_acc: 0.8953\n",
            "Epoch 98/100\n",
            " - 1s - loss: 0.0795 - acc: 0.9813 - val_loss: 0.5527 - val_acc: 0.9002\n",
            "Epoch 99/100\n",
            " - 1s - loss: 0.0424 - acc: 0.9850 - val_loss: 0.5690 - val_acc: 0.9102\n",
            "Epoch 100/100\n",
            " - 1s - loss: 0.0405 - acc: 0.9869 - val_loss: 1.0160 - val_acc: 0.8853\n"
          ],
          "name": "stdout"
        }
      ]
    },
    {
      "cell_type": "code",
      "metadata": {
        "id": "HUPd9iz4kvuu",
        "colab_type": "code",
        "colab": {
          "base_uri": "https://localhost:8080/",
          "height": 408
        },
        "outputId": "325b0ecc-a1a9-4b19-b46e-c2b421cd6b6b"
      },
      "source": [
        "plot_loss(H)"
      ],
      "execution_count": 174,
      "outputs": [
        {
          "output_type": "display_data",
          "data": {
            "image/png": "[encoded data removed]",
            "text/plain": [
              "<Figure size 648x432 with 1 Axes>"
            ]
          },
          "metadata": {
            "tags": []
          }
        }
      ]
    },
    {
      "cell_type": "code",
      "metadata": {
        "id": "E4q63P4hlEl5",
        "colab_type": "code",
        "colab": {}
      },
      "source": [
        "plot_model(net, to_file=\"model1.png\")"
      ],
      "execution_count": 0,
      "outputs": []
    },
    {
      "cell_type": "code",
      "metadata": {
        "id": "w7FjrzeclRTb",
        "colab_type": "code",
        "colab": {
          "base_uri": "https://localhost:8080/",
          "height": 34
        },
        "outputId": "7ada43b5-8958-4200-9710-6da209b59b35"
      },
      "source": [
        "net.evaluate(x_test, y_test, verbose=2)"
      ],
      "execution_count": 176,
      "outputs": [
        {
          "output_type": "execute_result",
          "data": {
            "text/plain": [
              "[0.6649849923670025, 0.9237668124015022]"
            ]
          },
          "metadata": {
            "tags": []
          },
          "execution_count": 176
        }
      ]
    },
    {
      "cell_type": "code",
      "metadata": {
        "id": "75GSCxkYnT9i",
        "colab_type": "code",
        "colab": {}
      },
      "source": [
        "def build_model2():\n",
        "  \"\"\"Function to build a model.\"\"\"\n",
        "  \n",
        "  input_shape = x_train.shape[1:]\n",
        "  \n",
        "  input_layer = Input(shape=input_shape, name=\"input_layer\")\n",
        "  \n",
        "  x = Flatten(name=\"flat_1\")(input_layer)\n",
        "  x = Dense(128, activation=\"relu\", name=\"dense_1\")(x)\n",
        "  x = Dropout(0.5, name=\"drop_1\")(x)\n",
        "  out_layer = Dense(5, activation=\"softmax\", name=\"prediction_layer\")(x)\n",
        "  \n",
        "  model = Model(\n",
        "      inputs=[input_layer],\n",
        "      outputs=[out_layer]\n",
        "  )\n",
        "  model.compile(optimizer='rmsprop', loss='categorical_crossentropy', metrics=['accuracy'])\n",
        "  return model"
      ],
      "execution_count": 0,
      "outputs": []
    },
    {
      "cell_type": "code",
      "metadata": {
        "id": "ItE_WXjJlKb5",
        "colab_type": "code",
        "colab": {
          "base_uri": "https://localhost:8080/",
          "height": 306
        },
        "outputId": "152f4529-41f3-45e7-8be6-89cc4f7671ff"
      },
      "source": [
        "net2 = build_model2()\n",
        "net2.summary()"
      ],
      "execution_count": 178,
      "outputs": [
        {
          "output_type": "stream",
          "text": [
            "_________________________________________________________________\n",
            "Layer (type)                 Output Shape              Param #   \n",
            "=================================================================\n",
            "input_layer (InputLayer)     (None, 500, 50)           0         \n",
            "_________________________________________________________________\n",
            "flat_1 (Flatten)             (None, 25000)             0         \n",
            "_________________________________________________________________\n",
            "dense_1 (Dense)              (None, 128)               3200128   \n",
            "_________________________________________________________________\n",
            "drop_1 (Dropout)             (None, 128)               0         \n",
            "_________________________________________________________________\n",
            "prediction_layer (Dense)     (None, 5)                 645       \n",
            "=================================================================\n",
            "Total params: 3,200,773\n",
            "Trainable params: 3,200,773\n",
            "Non-trainable params: 0\n",
            "_________________________________________________________________\n"
          ],
          "name": "stdout"
        }
      ]
    },
    {
      "cell_type": "code",
      "metadata": {
        "id": "TEi4Jb8GlOyR",
        "colab_type": "code",
        "colab": {
          "base_uri": "https://localhost:8080/",
          "height": 3434
        },
        "outputId": "665233bc-d36e-4db2-a50c-a071ab1c3332"
      },
      "source": [
        "H = net2.fit(\n",
        "    x_train,\n",
        "    y_train,\n",
        "    epochs=100,\n",
        "    verbose=2,\n",
        "    shuffle=True,\n",
        "    validation_split=0.2\n",
        ")"
      ],
      "execution_count": 179,
      "outputs": [
        {
          "output_type": "stream",
          "text": [
            "Train on 1601 samples, validate on 401 samples\n",
            "Epoch 1/100\n",
            " - 4s - loss: 1.7893 - acc: 0.5597 - val_loss: 0.6221 - val_acc: 0.7581\n",
            "Epoch 2/100\n",
            " - 3s - loss: 0.4736 - acc: 0.8551 - val_loss: 0.5930 - val_acc: 0.8254\n",
            "Epoch 3/100\n",
            " - 3s - loss: 0.3055 - acc: 0.9019 - val_loss: 0.5712 - val_acc: 0.8204\n",
            "Epoch 4/100\n",
            " - 3s - loss: 0.1846 - acc: 0.9500 - val_loss: 0.6919 - val_acc: 0.8254\n",
            "Epoch 5/100\n",
            " - 3s - loss: 0.1681 - acc: 0.9444 - val_loss: 1.0634 - val_acc: 0.8055\n",
            "Epoch 6/100\n",
            " - 3s - loss: 0.1943 - acc: 0.9550 - val_loss: 0.8427 - val_acc: 0.8204\n",
            "Epoch 7/100\n",
            " - 3s - loss: 0.1284 - acc: 0.9669 - val_loss: 0.8850 - val_acc: 0.8404\n",
            "Epoch 8/100\n",
            " - 3s - loss: 0.1527 - acc: 0.9681 - val_loss: 0.9459 - val_acc: 0.8055\n",
            "Epoch 9/100\n",
            " - 3s - loss: 0.0856 - acc: 0.9775 - val_loss: 0.9661 - val_acc: 0.8130\n",
            "Epoch 10/100\n",
            " - 3s - loss: 0.1257 - acc: 0.9719 - val_loss: 0.9303 - val_acc: 0.8304\n",
            "Epoch 11/100\n",
            " - 3s - loss: 0.1059 - acc: 0.9775 - val_loss: 1.2508 - val_acc: 0.8105\n",
            "Epoch 12/100\n",
            " - 3s - loss: 0.1029 - acc: 0.9813 - val_loss: 1.1850 - val_acc: 0.8155\n",
            "Epoch 13/100\n",
            " - 3s - loss: 0.0988 - acc: 0.9813 - val_loss: 1.4884 - val_acc: 0.8005\n",
            "Epoch 14/100\n",
            " - 3s - loss: 0.0664 - acc: 0.9838 - val_loss: 1.3036 - val_acc: 0.8080\n",
            "Epoch 15/100\n",
            " - 3s - loss: 0.0374 - acc: 0.9919 - val_loss: 1.2639 - val_acc: 0.8279\n",
            "Epoch 16/100\n",
            " - 3s - loss: 0.0601 - acc: 0.9863 - val_loss: 1.1661 - val_acc: 0.8329\n",
            "Epoch 17/100\n",
            " - 3s - loss: 0.1039 - acc: 0.9806 - val_loss: 1.1526 - val_acc: 0.8354\n",
            "Epoch 18/100\n",
            " - 3s - loss: 0.0534 - acc: 0.9900 - val_loss: 0.9286 - val_acc: 0.8603\n",
            "Epoch 19/100\n",
            " - 3s - loss: 0.0466 - acc: 0.9900 - val_loss: 1.0489 - val_acc: 0.8554\n",
            "Epoch 20/100\n",
            " - 3s - loss: 0.0689 - acc: 0.9875 - val_loss: 1.1709 - val_acc: 0.8454\n",
            "Epoch 21/100\n",
            " - 3s - loss: 0.0067 - acc: 0.9975 - val_loss: 1.3908 - val_acc: 0.8155\n",
            "Epoch 22/100\n",
            " - 3s - loss: 0.0247 - acc: 0.9944 - val_loss: 1.2524 - val_acc: 0.8429\n",
            "Epoch 23/100\n",
            " - 3s - loss: 0.0638 - acc: 0.9881 - val_loss: 1.3954 - val_acc: 0.8529\n",
            "Epoch 24/100\n",
            " - 3s - loss: 0.0355 - acc: 0.9925 - val_loss: 1.5138 - val_acc: 0.8279\n",
            "Epoch 25/100\n",
            " - 3s - loss: 0.0208 - acc: 0.9944 - val_loss: 1.3570 - val_acc: 0.8454\n",
            "Epoch 26/100\n",
            " - 3s - loss: 0.0423 - acc: 0.9919 - val_loss: 1.4976 - val_acc: 0.8204\n",
            "Epoch 27/100\n",
            " - 3s - loss: 0.0307 - acc: 0.9925 - val_loss: 1.2619 - val_acc: 0.8304\n",
            "Epoch 28/100\n",
            " - 3s - loss: 0.0345 - acc: 0.9950 - val_loss: 1.2922 - val_acc: 0.8329\n",
            "Epoch 29/100\n",
            " - 3s - loss: 0.0367 - acc: 0.9919 - val_loss: 1.3753 - val_acc: 0.8479\n",
            "Epoch 30/100\n",
            " - 3s - loss: 0.0264 - acc: 0.9963 - val_loss: 1.3404 - val_acc: 0.8304\n",
            "Epoch 31/100\n",
            " - 3s - loss: 0.0279 - acc: 0.9956 - val_loss: 1.3939 - val_acc: 0.8379\n",
            "Epoch 32/100\n",
            " - 3s - loss: 0.0093 - acc: 0.9963 - val_loss: 1.5292 - val_acc: 0.8454\n",
            "Epoch 33/100\n",
            " - 3s - loss: 0.0316 - acc: 0.9931 - val_loss: 1.5417 - val_acc: 0.8304\n",
            "Epoch 34/100\n",
            " - 3s - loss: 0.0196 - acc: 0.9956 - val_loss: 1.6512 - val_acc: 0.8329\n",
            "Epoch 35/100\n",
            " - 3s - loss: 0.0231 - acc: 0.9950 - val_loss: 1.6274 - val_acc: 0.8304\n",
            "Epoch 36/100\n",
            " - 3s - loss: 0.0175 - acc: 0.9981 - val_loss: 1.5895 - val_acc: 0.8279\n",
            "Epoch 37/100\n",
            " - 3s - loss: 0.0119 - acc: 0.9975 - val_loss: 1.5726 - val_acc: 0.8329\n",
            "Epoch 38/100\n",
            " - 3s - loss: 0.0057 - acc: 0.9969 - val_loss: 1.7122 - val_acc: 0.8080\n",
            "Epoch 39/100\n",
            " - 3s - loss: 0.0421 - acc: 0.9925 - val_loss: 1.5325 - val_acc: 0.8354\n",
            "Epoch 40/100\n",
            " - 3s - loss: 0.0228 - acc: 0.9981 - val_loss: 1.4106 - val_acc: 0.8404\n",
            "Epoch 41/100\n",
            " - 3s - loss: 0.0205 - acc: 0.9956 - val_loss: 1.4744 - val_acc: 0.8554\n",
            "Epoch 42/100\n",
            " - 3s - loss: 0.0367 - acc: 0.9956 - val_loss: 1.7494 - val_acc: 0.8379\n",
            "Epoch 43/100\n",
            " - 3s - loss: 0.0139 - acc: 0.9963 - val_loss: 1.7865 - val_acc: 0.8329\n",
            "Epoch 44/100\n",
            " - 3s - loss: 0.0190 - acc: 0.9969 - val_loss: 1.6802 - val_acc: 0.8454\n",
            "Epoch 45/100\n",
            " - 3s - loss: 0.0112 - acc: 0.9975 - val_loss: 1.8193 - val_acc: 0.8329\n",
            "Epoch 46/100\n",
            " - 3s - loss: 0.0177 - acc: 0.9963 - val_loss: 1.8847 - val_acc: 0.8254\n",
            "Epoch 47/100\n",
            " - 3s - loss: 0.0120 - acc: 0.9975 - val_loss: 1.6415 - val_acc: 0.8379\n",
            "Epoch 48/100\n",
            " - 3s - loss: 0.0090 - acc: 0.9981 - val_loss: 1.5109 - val_acc: 0.8454\n",
            "Epoch 49/100\n",
            " - 3s - loss: 0.0067 - acc: 0.9969 - val_loss: 1.7441 - val_acc: 0.8454\n",
            "Epoch 50/100\n",
            " - 3s - loss: 0.0167 - acc: 0.9969 - val_loss: 1.7588 - val_acc: 0.8329\n",
            "Epoch 51/100\n",
            " - 3s - loss: 0.0030 - acc: 0.9988 - val_loss: 1.8344 - val_acc: 0.8354\n",
            "Epoch 52/100\n",
            " - 3s - loss: 0.0161 - acc: 0.9981 - val_loss: 1.8703 - val_acc: 0.8304\n",
            "Epoch 53/100\n",
            " - 3s - loss: 0.0161 - acc: 0.9969 - val_loss: 1.6842 - val_acc: 0.8105\n",
            "Epoch 54/100\n",
            " - 3s - loss: 0.0177 - acc: 0.9981 - val_loss: 1.7822 - val_acc: 0.8254\n",
            "Epoch 55/100\n",
            " - 3s - loss: 8.5194e-04 - acc: 0.9994 - val_loss: 1.6108 - val_acc: 0.8404\n",
            "Epoch 56/100\n",
            " - 3s - loss: 0.0210 - acc: 0.9950 - val_loss: 1.8350 - val_acc: 0.8229\n",
            "Epoch 57/100\n",
            " - 3s - loss: 0.0040 - acc: 0.9988 - val_loss: 1.6327 - val_acc: 0.8254\n",
            "Epoch 58/100\n",
            " - 3s - loss: 0.0038 - acc: 0.9981 - val_loss: 1.7609 - val_acc: 0.8254\n",
            "Epoch 59/100\n",
            " - 3s - loss: 0.0207 - acc: 0.9981 - val_loss: 1.6099 - val_acc: 0.8329\n",
            "Epoch 60/100\n",
            " - 3s - loss: 0.0017 - acc: 0.9994 - val_loss: 1.8401 - val_acc: 0.8354\n",
            "Epoch 61/100\n",
            " - 3s - loss: 0.0200 - acc: 0.9975 - val_loss: 1.7052 - val_acc: 0.8304\n",
            "Epoch 62/100\n",
            " - 3s - loss: 0.0041 - acc: 0.9994 - val_loss: 1.7417 - val_acc: 0.8379\n",
            "Epoch 63/100\n",
            " - 3s - loss: 0.0024 - acc: 0.9988 - val_loss: 1.7303 - val_acc: 0.8304\n",
            "Epoch 64/100\n",
            " - 3s - loss: 0.0174 - acc: 0.9963 - val_loss: 1.5979 - val_acc: 0.8554\n",
            "Epoch 65/100\n",
            " - 3s - loss: 0.0143 - acc: 0.9988 - val_loss: 1.7022 - val_acc: 0.8354\n",
            "Epoch 66/100\n",
            " - 3s - loss: 0.0112 - acc: 0.9969 - val_loss: 1.6712 - val_acc: 0.8329\n",
            "Epoch 67/100\n",
            " - 3s - loss: 0.0091 - acc: 0.9988 - val_loss: 1.8823 - val_acc: 0.8304\n",
            "Epoch 68/100\n",
            " - 3s - loss: 0.0066 - acc: 0.9988 - val_loss: 1.6387 - val_acc: 0.8379\n",
            "Epoch 69/100\n",
            " - 3s - loss: 0.0086 - acc: 0.9981 - val_loss: 1.8111 - val_acc: 0.8329\n",
            "Epoch 70/100\n",
            " - 3s - loss: 0.0060 - acc: 0.9981 - val_loss: 1.6039 - val_acc: 0.8479\n",
            "Epoch 71/100\n",
            " - 3s - loss: 0.0054 - acc: 0.9994 - val_loss: 1.6989 - val_acc: 0.8479\n",
            "Epoch 72/100\n",
            " - 3s - loss: 0.0102 - acc: 0.9981 - val_loss: 1.6429 - val_acc: 0.8579\n",
            "Epoch 73/100\n",
            " - 3s - loss: 0.0080 - acc: 0.9981 - val_loss: 1.5298 - val_acc: 0.8579\n",
            "Epoch 74/100\n",
            " - 3s - loss: 0.0080 - acc: 0.9988 - val_loss: 1.5232 - val_acc: 0.8703\n",
            "Epoch 75/100\n",
            " - 3s - loss: 0.0086 - acc: 0.9981 - val_loss: 1.7211 - val_acc: 0.8554\n",
            "Epoch 76/100\n",
            " - 3s - loss: 0.0105 - acc: 0.9994 - val_loss: 1.6180 - val_acc: 0.8504\n",
            "Epoch 77/100\n",
            " - 3s - loss: 1.2842e-04 - acc: 1.0000 - val_loss: 1.7151 - val_acc: 0.8404\n",
            "Epoch 78/100\n",
            " - 3s - loss: 0.0108 - acc: 0.9988 - val_loss: 1.7243 - val_acc: 0.8404\n",
            "Epoch 79/100\n",
            " - 3s - loss: 0.0205 - acc: 0.9975 - val_loss: 1.5686 - val_acc: 0.8678\n",
            "Epoch 80/100\n",
            " - 3s - loss: 0.0164 - acc: 0.9956 - val_loss: 1.6305 - val_acc: 0.8354\n",
            "Epoch 81/100\n",
            " - 3s - loss: 0.0135 - acc: 0.9981 - val_loss: 1.8259 - val_acc: 0.8379\n",
            "Epoch 82/100\n",
            " - 3s - loss: 5.4388e-04 - acc: 1.0000 - val_loss: 1.7550 - val_acc: 0.8379\n",
            "Epoch 83/100\n",
            " - 3s - loss: 0.0185 - acc: 0.9981 - val_loss: 1.6779 - val_acc: 0.8429\n",
            "Epoch 84/100\n",
            " - 3s - loss: 0.0110 - acc: 0.9994 - val_loss: 1.9462 - val_acc: 0.8204\n",
            "Epoch 85/100\n",
            " - 3s - loss: 0.0174 - acc: 0.9956 - val_loss: 1.6705 - val_acc: 0.8554\n",
            "Epoch 86/100\n",
            " - 3s - loss: 0.0072 - acc: 0.9988 - val_loss: 1.6120 - val_acc: 0.8703\n",
            "Epoch 87/100\n",
            " - 3s - loss: 0.0056 - acc: 0.9994 - val_loss: 1.6913 - val_acc: 0.8479\n",
            "Epoch 88/100\n",
            " - 3s - loss: 3.8304e-04 - acc: 1.0000 - val_loss: 1.7390 - val_acc: 0.8479\n",
            "Epoch 89/100\n",
            " - 3s - loss: 0.0091 - acc: 0.9981 - val_loss: 1.6401 - val_acc: 0.8554\n",
            "Epoch 90/100\n",
            " - 3s - loss: 3.5514e-04 - acc: 1.0000 - val_loss: 1.7397 - val_acc: 0.8404\n",
            "Epoch 91/100\n",
            " - 3s - loss: 0.0192 - acc: 0.9975 - val_loss: 1.6964 - val_acc: 0.8554\n",
            "Epoch 92/100\n",
            " - 3s - loss: 2.4518e-04 - acc: 1.0000 - val_loss: 1.8972 - val_acc: 0.8229\n",
            "Epoch 93/100\n",
            " - 3s - loss: 0.0254 - acc: 0.9950 - val_loss: 1.7827 - val_acc: 0.8529\n",
            "Epoch 94/100\n",
            " - 3s - loss: 0.0148 - acc: 0.9981 - val_loss: 1.8762 - val_acc: 0.8429\n",
            "Epoch 95/100\n",
            " - 3s - loss: 0.0060 - acc: 0.9988 - val_loss: 1.7727 - val_acc: 0.8404\n",
            "Epoch 96/100\n",
            " - 3s - loss: 0.0107 - acc: 0.9981 - val_loss: 2.0790 - val_acc: 0.8254\n",
            "Epoch 97/100\n",
            " - 3s - loss: 6.8218e-05 - acc: 1.0000 - val_loss: 1.8528 - val_acc: 0.8304\n",
            "Epoch 98/100\n",
            " - 3s - loss: 0.0103 - acc: 0.9988 - val_loss: 1.6247 - val_acc: 0.8554\n",
            "Epoch 99/100\n",
            " - 3s - loss: 0.0127 - acc: 0.9981 - val_loss: 1.6399 - val_acc: 0.8554\n",
            "Epoch 100/100\n",
            " - 3s - loss: 2.7918e-04 - acc: 1.0000 - val_loss: 1.6080 - val_acc: 0.8603\n"
          ],
          "name": "stdout"
        }
      ]
    },
    {
      "cell_type": "code",
      "metadata": {
        "id": "spHzzReKlZTe",
        "colab_type": "code",
        "colab": {
          "base_uri": "https://localhost:8080/",
          "height": 408
        },
        "outputId": "2cd60af1-8ebc-4065-da96-b10ccf104bff"
      },
      "source": [
        "plot_loss(H)"
      ],
      "execution_count": 180,
      "outputs": [
        {
          "output_type": "display_data",
          "data": {
            "image/png": "[encoded data removed]",
            "text/plain": [
              "<Figure size 648x432 with 1 Axes>"
            ]
          },
          "metadata": {
            "tags": []
          }
        }
      ]
    },
    {
      "cell_type": "code",
      "metadata": {
        "id": "Am2VFF0blbDx",
        "colab_type": "code",
        "colab": {}
      },
      "source": [
        "plot_model(net2, to_file=\"model2.png\")"
      ],
      "execution_count": 0,
      "outputs": []
    },
    {
      "cell_type": "code",
      "metadata": {
        "id": "5SsJNsNNlfFD",
        "colab_type": "code",
        "colab": {
          "base_uri": "https://localhost:8080/",
          "height": 34
        },
        "outputId": "0071744f-2732-4cf2-a7fc-ec50d0ec82cb"
      },
      "source": [
        "net2.evaluate(x_test, y_test, verbose=2)"
      ],
      "execution_count": 182,
      "outputs": [
        {
          "output_type": "execute_result",
          "data": {
            "text/plain": [
              "[1.0113401212499815, 0.905829592403275]"
            ]
          },
          "metadata": {
            "tags": []
          },
          "execution_count": 182
        }
      ]
    },
    {
      "cell_type": "code",
      "metadata": {
        "id": "LPGMPnhCnhFM",
        "colab_type": "code",
        "colab": {}
      },
      "source": [
        ""
      ],
      "execution_count": 0,
      "outputs": []
    }
  ]
}